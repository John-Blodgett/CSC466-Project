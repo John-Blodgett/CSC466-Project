{
  "nbformat": 4,
  "nbformat_minor": 0,
  "metadata": {
    "colab": {
      "name": "Machine Learning.ipynb",
      "provenance": [],
      "collapsed_sections": []
    },
    "kernelspec": {
      "name": "python3",
      "display_name": "Python 3"
    },
    "language_info": {
      "name": "python"
    }
  },
  "cells": [
    {
      "cell_type": "code",
      "metadata": {
        "id": "XFr0RDFiRcsY"
      },
      "source": [
        "import pandas as pd\n",
        "import os\n",
        "import numpy as np\n",
        "\n",
        "from sklearn.decomposition import PCA\n",
        "from sklearn.preprocessing import StandardScaler\n",
        "from sklearn.neighbors import KNeighborsClassifier\n",
        "from sklearn.pipeline import make_pipeline\n",
        "from sklearn.model_selection import cross_val_score\n",
        "from sklearn.model_selection import train_test_split\n",
        "from sklearn.metrics import classification_report, confusion_matrix\n",
        "from sklearn.tree import DecisionTreeClassifier\n",
        "from sklearn.neural_network import MLPClassifier\n",
        "from sklearn.ensemble import GradientBoostingClassifier\n",
        "from sklearn.ensemble import AdaBoostClassifier\n",
        "from sklearn.ensemble import RandomForestClassifier\n",
        "from sklearn.inspection import permutation_importance\n",
        "\n",
        "import warnings\n",
        "warnings.filterwarnings(\"ignore\")"
      ],
      "execution_count": 1,
      "outputs": []
    },
    {
      "cell_type": "code",
      "metadata": {
        "id": "XL9xfYayRTaM",
        "colab": {
          "base_uri": "https://localhost:8080/",
          "height": 1000
        },
        "outputId": "ac2b375d-f6b2-4172-ff65-a0b887aa1355"
      },
      "source": [
        "df = pd.read_csv('https://raw.githubusercontent.com/John-Blodgett/CSC466-Project/main/total_data.csv')\n",
        "# df = df.drop('file dist of bytes', axis=1)\n",
        "df['hash dist'] = df['hash dist'].apply(eval)\n",
        "df['file dist of bytes'] = df['file dist of bytes'].apply(eval)\n",
        "df_dist = pd.DataFrame(df['hash dist'].to_list(), \n",
        "                       index=df.index, \n",
        "                       columns=['0','1','2','3','4','5','6','7','8','9','a','b','c','d','e','f'])\n",
        "df_dist['hash type'] = df['hash type']\n",
        "\n",
        "df.append(df_dist)\n",
        "df.drop(['hash dist', 'hash'], axis=1, inplace=True)\n",
        "\n",
        "df[['consecutiveCount', 'file size (bytes)']] = StandardScaler().fit_transform(df[['consecutiveCount', 'file size (bytes)']])\n",
        "\n",
        "df = pd.get_dummies(df, columns=['file type', 'consecutiveByte'])\n",
        "\n",
        "df"
      ],
      "execution_count": 2,
      "outputs": [
        {
          "output_type": "execute_result",
          "data": {
            "text/html": [
              "<div>\n",
              "<style scoped>\n",
              "    .dataframe tbody tr th:only-of-type {\n",
              "        vertical-align: middle;\n",
              "    }\n",
              "\n",
              "    .dataframe tbody tr th {\n",
              "        vertical-align: top;\n",
              "    }\n",
              "\n",
              "    .dataframe thead th {\n",
              "        text-align: right;\n",
              "    }\n",
              "</style>\n",
              "<table border=\"1\" class=\"dataframe\">\n",
              "  <thead>\n",
              "    <tr style=\"text-align: right;\">\n",
              "      <th></th>\n",
              "      <th>file dist of bytes</th>\n",
              "      <th>consecutiveCount</th>\n",
              "      <th>hash type</th>\n",
              "      <th>hash len</th>\n",
              "      <th>hash 0 bits</th>\n",
              "      <th>hash 1 bits</th>\n",
              "      <th>hash len bits</th>\n",
              "      <th>file size (bytes)</th>\n",
              "      <th>file type_.jpg</th>\n",
              "      <th>file type_.json</th>\n",
              "      <th>file type_.pdf</th>\n",
              "      <th>file type_.txt</th>\n",
              "      <th>consecutiveByte_b\"'\"</th>\n",
              "      <th>consecutiveByte_b' '</th>\n",
              "      <th>consecutiveByte_b'!'</th>\n",
              "      <th>consecutiveByte_b'\"'</th>\n",
              "      <th>consecutiveByte_b'('</th>\n",
              "      <th>consecutiveByte_b'-'</th>\n",
              "      <th>consecutiveByte_b'.'</th>\n",
              "      <th>consecutiveByte_b'0'</th>\n",
              "      <th>consecutiveByte_b'1'</th>\n",
              "      <th>consecutiveByte_b'2'</th>\n",
              "      <th>consecutiveByte_b'3'</th>\n",
              "      <th>consecutiveByte_b'4'</th>\n",
              "      <th>consecutiveByte_b'5'</th>\n",
              "      <th>consecutiveByte_b'6'</th>\n",
              "      <th>consecutiveByte_b'7'</th>\n",
              "      <th>consecutiveByte_b'8'</th>\n",
              "      <th>consecutiveByte_b'9'</th>\n",
              "      <th>consecutiveByte_b';'</th>\n",
              "      <th>consecutiveByte_b'&gt;'</th>\n",
              "      <th>consecutiveByte_b'?'</th>\n",
              "      <th>consecutiveByte_b'@'</th>\n",
              "      <th>consecutiveByte_b'A'</th>\n",
              "      <th>consecutiveByte_b'B'</th>\n",
              "      <th>consecutiveByte_b'D'</th>\n",
              "      <th>consecutiveByte_b'O'</th>\n",
              "      <th>consecutiveByte_b'P'</th>\n",
              "      <th>consecutiveByte_b'Q'</th>\n",
              "      <th>consecutiveByte_b'U'</th>\n",
              "      <th>...</th>\n",
              "      <th>consecutiveByte_b'\\x11'</th>\n",
              "      <th>consecutiveByte_b'\\x14'</th>\n",
              "      <th>consecutiveByte_b'\\x16'</th>\n",
              "      <th>consecutiveByte_b'\\x1a'</th>\n",
              "      <th>consecutiveByte_b'\\x1e'</th>\n",
              "      <th>consecutiveByte_b'\\x82'</th>\n",
              "      <th>consecutiveByte_b'\\x83'</th>\n",
              "      <th>consecutiveByte_b'\\x84'</th>\n",
              "      <th>consecutiveByte_b'\\x88'</th>\n",
              "      <th>consecutiveByte_b'\\x8a'</th>\n",
              "      <th>consecutiveByte_b'\\x8f'</th>\n",
              "      <th>consecutiveByte_b'\\x91'</th>\n",
              "      <th>consecutiveByte_b'\\x92'</th>\n",
              "      <th>consecutiveByte_b'\\x9e'</th>\n",
              "      <th>consecutiveByte_b'\\xa3'</th>\n",
              "      <th>consecutiveByte_b'\\xa4'</th>\n",
              "      <th>consecutiveByte_b'\\xa5'</th>\n",
              "      <th>consecutiveByte_b'\\xaa'</th>\n",
              "      <th>consecutiveByte_b'\\xb3'</th>\n",
              "      <th>consecutiveByte_b'\\xd1'</th>\n",
              "      <th>consecutiveByte_b'\\xdd'</th>\n",
              "      <th>consecutiveByte_b'\\xe7'</th>\n",
              "      <th>consecutiveByte_b'\\xee'</th>\n",
              "      <th>consecutiveByte_b'\\xf4'</th>\n",
              "      <th>consecutiveByte_b'\\xf5'</th>\n",
              "      <th>consecutiveByte_b'\\xff'</th>\n",
              "      <th>consecutiveByte_b'_'</th>\n",
              "      <th>consecutiveByte_b'a'</th>\n",
              "      <th>consecutiveByte_b'b'</th>\n",
              "      <th>consecutiveByte_b'c'</th>\n",
              "      <th>consecutiveByte_b'd'</th>\n",
              "      <th>consecutiveByte_b'e'</th>\n",
              "      <th>consecutiveByte_b'f'</th>\n",
              "      <th>consecutiveByte_b'h'</th>\n",
              "      <th>consecutiveByte_b'i'</th>\n",
              "      <th>consecutiveByte_b'o'</th>\n",
              "      <th>consecutiveByte_b'p'</th>\n",
              "      <th>consecutiveByte_b's'</th>\n",
              "      <th>consecutiveByte_b'w'</th>\n",
              "      <th>consecutiveByte_b'~'</th>\n",
              "    </tr>\n",
              "  </thead>\n",
              "  <tbody>\n",
              "    <tr>\n",
              "      <th>0</th>\n",
              "      <td>[185, 71, 61, 64, 62, 43, 59, 58, 47, 49, 108,...</td>\n",
              "      <td>-0.079771</td>\n",
              "      <td>SHA-1</td>\n",
              "      <td>40</td>\n",
              "      <td>69</td>\n",
              "      <td>91</td>\n",
              "      <td>160</td>\n",
              "      <td>-0.226642</td>\n",
              "      <td>1</td>\n",
              "      <td>0</td>\n",
              "      <td>0</td>\n",
              "      <td>0</td>\n",
              "      <td>0</td>\n",
              "      <td>0</td>\n",
              "      <td>0</td>\n",
              "      <td>0</td>\n",
              "      <td>0</td>\n",
              "      <td>0</td>\n",
              "      <td>0</td>\n",
              "      <td>0</td>\n",
              "      <td>0</td>\n",
              "      <td>0</td>\n",
              "      <td>0</td>\n",
              "      <td>0</td>\n",
              "      <td>0</td>\n",
              "      <td>0</td>\n",
              "      <td>0</td>\n",
              "      <td>0</td>\n",
              "      <td>0</td>\n",
              "      <td>0</td>\n",
              "      <td>0</td>\n",
              "      <td>0</td>\n",
              "      <td>0</td>\n",
              "      <td>0</td>\n",
              "      <td>0</td>\n",
              "      <td>0</td>\n",
              "      <td>0</td>\n",
              "      <td>0</td>\n",
              "      <td>0</td>\n",
              "      <td>0</td>\n",
              "      <td>...</td>\n",
              "      <td>0</td>\n",
              "      <td>0</td>\n",
              "      <td>0</td>\n",
              "      <td>0</td>\n",
              "      <td>0</td>\n",
              "      <td>0</td>\n",
              "      <td>0</td>\n",
              "      <td>0</td>\n",
              "      <td>0</td>\n",
              "      <td>0</td>\n",
              "      <td>0</td>\n",
              "      <td>0</td>\n",
              "      <td>0</td>\n",
              "      <td>0</td>\n",
              "      <td>0</td>\n",
              "      <td>0</td>\n",
              "      <td>0</td>\n",
              "      <td>0</td>\n",
              "      <td>0</td>\n",
              "      <td>0</td>\n",
              "      <td>0</td>\n",
              "      <td>0</td>\n",
              "      <td>0</td>\n",
              "      <td>0</td>\n",
              "      <td>0</td>\n",
              "      <td>0</td>\n",
              "      <td>0</td>\n",
              "      <td>0</td>\n",
              "      <td>0</td>\n",
              "      <td>0</td>\n",
              "      <td>0</td>\n",
              "      <td>0</td>\n",
              "      <td>0</td>\n",
              "      <td>0</td>\n",
              "      <td>0</td>\n",
              "      <td>0</td>\n",
              "      <td>0</td>\n",
              "      <td>0</td>\n",
              "      <td>0</td>\n",
              "      <td>0</td>\n",
              "    </tr>\n",
              "    <tr>\n",
              "      <th>1</th>\n",
              "      <td>[192, 78, 55, 54, 53, 54, 61, 70, 50, 55, 115,...</td>\n",
              "      <td>-0.079771</td>\n",
              "      <td>SHA-256</td>\n",
              "      <td>64</td>\n",
              "      <td>133</td>\n",
              "      <td>123</td>\n",
              "      <td>256</td>\n",
              "      <td>-0.226927</td>\n",
              "      <td>1</td>\n",
              "      <td>0</td>\n",
              "      <td>0</td>\n",
              "      <td>0</td>\n",
              "      <td>0</td>\n",
              "      <td>0</td>\n",
              "      <td>0</td>\n",
              "      <td>0</td>\n",
              "      <td>0</td>\n",
              "      <td>0</td>\n",
              "      <td>0</td>\n",
              "      <td>0</td>\n",
              "      <td>0</td>\n",
              "      <td>0</td>\n",
              "      <td>0</td>\n",
              "      <td>0</td>\n",
              "      <td>0</td>\n",
              "      <td>0</td>\n",
              "      <td>0</td>\n",
              "      <td>0</td>\n",
              "      <td>0</td>\n",
              "      <td>0</td>\n",
              "      <td>0</td>\n",
              "      <td>0</td>\n",
              "      <td>0</td>\n",
              "      <td>0</td>\n",
              "      <td>0</td>\n",
              "      <td>0</td>\n",
              "      <td>0</td>\n",
              "      <td>0</td>\n",
              "      <td>0</td>\n",
              "      <td>0</td>\n",
              "      <td>...</td>\n",
              "      <td>0</td>\n",
              "      <td>0</td>\n",
              "      <td>0</td>\n",
              "      <td>0</td>\n",
              "      <td>0</td>\n",
              "      <td>0</td>\n",
              "      <td>0</td>\n",
              "      <td>0</td>\n",
              "      <td>0</td>\n",
              "      <td>0</td>\n",
              "      <td>0</td>\n",
              "      <td>0</td>\n",
              "      <td>0</td>\n",
              "      <td>0</td>\n",
              "      <td>0</td>\n",
              "      <td>0</td>\n",
              "      <td>0</td>\n",
              "      <td>0</td>\n",
              "      <td>0</td>\n",
              "      <td>0</td>\n",
              "      <td>0</td>\n",
              "      <td>0</td>\n",
              "      <td>0</td>\n",
              "      <td>0</td>\n",
              "      <td>0</td>\n",
              "      <td>0</td>\n",
              "      <td>0</td>\n",
              "      <td>0</td>\n",
              "      <td>0</td>\n",
              "      <td>0</td>\n",
              "      <td>0</td>\n",
              "      <td>0</td>\n",
              "      <td>0</td>\n",
              "      <td>0</td>\n",
              "      <td>0</td>\n",
              "      <td>0</td>\n",
              "      <td>0</td>\n",
              "      <td>0</td>\n",
              "      <td>0</td>\n",
              "      <td>0</td>\n",
              "    </tr>\n",
              "    <tr>\n",
              "      <th>2</th>\n",
              "      <td>[181, 80, 57, 57, 63, 60, 63, 70, 44, 44, 115,...</td>\n",
              "      <td>-0.079771</td>\n",
              "      <td>SHA-3-256</td>\n",
              "      <td>64</td>\n",
              "      <td>116</td>\n",
              "      <td>140</td>\n",
              "      <td>256</td>\n",
              "      <td>-0.226016</td>\n",
              "      <td>1</td>\n",
              "      <td>0</td>\n",
              "      <td>0</td>\n",
              "      <td>0</td>\n",
              "      <td>0</td>\n",
              "      <td>0</td>\n",
              "      <td>0</td>\n",
              "      <td>0</td>\n",
              "      <td>0</td>\n",
              "      <td>0</td>\n",
              "      <td>0</td>\n",
              "      <td>0</td>\n",
              "      <td>0</td>\n",
              "      <td>0</td>\n",
              "      <td>0</td>\n",
              "      <td>0</td>\n",
              "      <td>0</td>\n",
              "      <td>0</td>\n",
              "      <td>0</td>\n",
              "      <td>0</td>\n",
              "      <td>0</td>\n",
              "      <td>0</td>\n",
              "      <td>0</td>\n",
              "      <td>0</td>\n",
              "      <td>0</td>\n",
              "      <td>0</td>\n",
              "      <td>0</td>\n",
              "      <td>0</td>\n",
              "      <td>0</td>\n",
              "      <td>0</td>\n",
              "      <td>0</td>\n",
              "      <td>0</td>\n",
              "      <td>...</td>\n",
              "      <td>0</td>\n",
              "      <td>0</td>\n",
              "      <td>0</td>\n",
              "      <td>0</td>\n",
              "      <td>0</td>\n",
              "      <td>0</td>\n",
              "      <td>0</td>\n",
              "      <td>0</td>\n",
              "      <td>0</td>\n",
              "      <td>0</td>\n",
              "      <td>0</td>\n",
              "      <td>0</td>\n",
              "      <td>0</td>\n",
              "      <td>0</td>\n",
              "      <td>0</td>\n",
              "      <td>0</td>\n",
              "      <td>0</td>\n",
              "      <td>0</td>\n",
              "      <td>0</td>\n",
              "      <td>0</td>\n",
              "      <td>0</td>\n",
              "      <td>0</td>\n",
              "      <td>0</td>\n",
              "      <td>0</td>\n",
              "      <td>0</td>\n",
              "      <td>0</td>\n",
              "      <td>0</td>\n",
              "      <td>0</td>\n",
              "      <td>0</td>\n",
              "      <td>0</td>\n",
              "      <td>0</td>\n",
              "      <td>0</td>\n",
              "      <td>0</td>\n",
              "      <td>0</td>\n",
              "      <td>0</td>\n",
              "      <td>0</td>\n",
              "      <td>0</td>\n",
              "      <td>0</td>\n",
              "      <td>0</td>\n",
              "      <td>0</td>\n",
              "    </tr>\n",
              "    <tr>\n",
              "      <th>3</th>\n",
              "      <td>[215, 68, 51, 73, 52, 57, 52, 55, 40, 43, 102,...</td>\n",
              "      <td>-0.079771</td>\n",
              "      <td>MD5</td>\n",
              "      <td>32</td>\n",
              "      <td>55</td>\n",
              "      <td>73</td>\n",
              "      <td>128</td>\n",
              "      <td>-0.226521</td>\n",
              "      <td>1</td>\n",
              "      <td>0</td>\n",
              "      <td>0</td>\n",
              "      <td>0</td>\n",
              "      <td>0</td>\n",
              "      <td>0</td>\n",
              "      <td>0</td>\n",
              "      <td>0</td>\n",
              "      <td>0</td>\n",
              "      <td>0</td>\n",
              "      <td>0</td>\n",
              "      <td>0</td>\n",
              "      <td>0</td>\n",
              "      <td>0</td>\n",
              "      <td>0</td>\n",
              "      <td>0</td>\n",
              "      <td>0</td>\n",
              "      <td>0</td>\n",
              "      <td>0</td>\n",
              "      <td>0</td>\n",
              "      <td>0</td>\n",
              "      <td>0</td>\n",
              "      <td>0</td>\n",
              "      <td>0</td>\n",
              "      <td>0</td>\n",
              "      <td>0</td>\n",
              "      <td>0</td>\n",
              "      <td>0</td>\n",
              "      <td>0</td>\n",
              "      <td>0</td>\n",
              "      <td>0</td>\n",
              "      <td>0</td>\n",
              "      <td>...</td>\n",
              "      <td>0</td>\n",
              "      <td>0</td>\n",
              "      <td>0</td>\n",
              "      <td>0</td>\n",
              "      <td>0</td>\n",
              "      <td>0</td>\n",
              "      <td>0</td>\n",
              "      <td>0</td>\n",
              "      <td>0</td>\n",
              "      <td>0</td>\n",
              "      <td>0</td>\n",
              "      <td>0</td>\n",
              "      <td>0</td>\n",
              "      <td>0</td>\n",
              "      <td>0</td>\n",
              "      <td>0</td>\n",
              "      <td>0</td>\n",
              "      <td>0</td>\n",
              "      <td>0</td>\n",
              "      <td>0</td>\n",
              "      <td>0</td>\n",
              "      <td>0</td>\n",
              "      <td>0</td>\n",
              "      <td>0</td>\n",
              "      <td>0</td>\n",
              "      <td>0</td>\n",
              "      <td>0</td>\n",
              "      <td>0</td>\n",
              "      <td>0</td>\n",
              "      <td>0</td>\n",
              "      <td>0</td>\n",
              "      <td>0</td>\n",
              "      <td>0</td>\n",
              "      <td>0</td>\n",
              "      <td>0</td>\n",
              "      <td>0</td>\n",
              "      <td>0</td>\n",
              "      <td>0</td>\n",
              "      <td>0</td>\n",
              "      <td>0</td>\n",
              "    </tr>\n",
              "    <tr>\n",
              "      <th>4</th>\n",
              "      <td>[191, 90, 60, 66, 56, 59, 66, 60, 53, 54, 102,...</td>\n",
              "      <td>-0.079771</td>\n",
              "      <td>SHA-256</td>\n",
              "      <td>64</td>\n",
              "      <td>117</td>\n",
              "      <td>139</td>\n",
              "      <td>256</td>\n",
              "      <td>-0.226609</td>\n",
              "      <td>1</td>\n",
              "      <td>0</td>\n",
              "      <td>0</td>\n",
              "      <td>0</td>\n",
              "      <td>0</td>\n",
              "      <td>0</td>\n",
              "      <td>0</td>\n",
              "      <td>0</td>\n",
              "      <td>0</td>\n",
              "      <td>0</td>\n",
              "      <td>0</td>\n",
              "      <td>0</td>\n",
              "      <td>0</td>\n",
              "      <td>0</td>\n",
              "      <td>0</td>\n",
              "      <td>0</td>\n",
              "      <td>0</td>\n",
              "      <td>0</td>\n",
              "      <td>0</td>\n",
              "      <td>0</td>\n",
              "      <td>0</td>\n",
              "      <td>0</td>\n",
              "      <td>0</td>\n",
              "      <td>0</td>\n",
              "      <td>0</td>\n",
              "      <td>0</td>\n",
              "      <td>0</td>\n",
              "      <td>0</td>\n",
              "      <td>0</td>\n",
              "      <td>0</td>\n",
              "      <td>0</td>\n",
              "      <td>0</td>\n",
              "      <td>...</td>\n",
              "      <td>0</td>\n",
              "      <td>0</td>\n",
              "      <td>0</td>\n",
              "      <td>0</td>\n",
              "      <td>0</td>\n",
              "      <td>0</td>\n",
              "      <td>0</td>\n",
              "      <td>0</td>\n",
              "      <td>0</td>\n",
              "      <td>0</td>\n",
              "      <td>0</td>\n",
              "      <td>0</td>\n",
              "      <td>0</td>\n",
              "      <td>0</td>\n",
              "      <td>0</td>\n",
              "      <td>0</td>\n",
              "      <td>0</td>\n",
              "      <td>0</td>\n",
              "      <td>0</td>\n",
              "      <td>0</td>\n",
              "      <td>0</td>\n",
              "      <td>0</td>\n",
              "      <td>0</td>\n",
              "      <td>0</td>\n",
              "      <td>0</td>\n",
              "      <td>0</td>\n",
              "      <td>0</td>\n",
              "      <td>0</td>\n",
              "      <td>0</td>\n",
              "      <td>0</td>\n",
              "      <td>0</td>\n",
              "      <td>0</td>\n",
              "      <td>0</td>\n",
              "      <td>0</td>\n",
              "      <td>0</td>\n",
              "      <td>0</td>\n",
              "      <td>0</td>\n",
              "      <td>0</td>\n",
              "      <td>0</td>\n",
              "      <td>0</td>\n",
              "    </tr>\n",
              "    <tr>\n",
              "      <th>...</th>\n",
              "      <td>...</td>\n",
              "      <td>...</td>\n",
              "      <td>...</td>\n",
              "      <td>...</td>\n",
              "      <td>...</td>\n",
              "      <td>...</td>\n",
              "      <td>...</td>\n",
              "      <td>...</td>\n",
              "      <td>...</td>\n",
              "      <td>...</td>\n",
              "      <td>...</td>\n",
              "      <td>...</td>\n",
              "      <td>...</td>\n",
              "      <td>...</td>\n",
              "      <td>...</td>\n",
              "      <td>...</td>\n",
              "      <td>...</td>\n",
              "      <td>...</td>\n",
              "      <td>...</td>\n",
              "      <td>...</td>\n",
              "      <td>...</td>\n",
              "      <td>...</td>\n",
              "      <td>...</td>\n",
              "      <td>...</td>\n",
              "      <td>...</td>\n",
              "      <td>...</td>\n",
              "      <td>...</td>\n",
              "      <td>...</td>\n",
              "      <td>...</td>\n",
              "      <td>...</td>\n",
              "      <td>...</td>\n",
              "      <td>...</td>\n",
              "      <td>...</td>\n",
              "      <td>...</td>\n",
              "      <td>...</td>\n",
              "      <td>...</td>\n",
              "      <td>...</td>\n",
              "      <td>...</td>\n",
              "      <td>...</td>\n",
              "      <td>...</td>\n",
              "      <td>...</td>\n",
              "      <td>...</td>\n",
              "      <td>...</td>\n",
              "      <td>...</td>\n",
              "      <td>...</td>\n",
              "      <td>...</td>\n",
              "      <td>...</td>\n",
              "      <td>...</td>\n",
              "      <td>...</td>\n",
              "      <td>...</td>\n",
              "      <td>...</td>\n",
              "      <td>...</td>\n",
              "      <td>...</td>\n",
              "      <td>...</td>\n",
              "      <td>...</td>\n",
              "      <td>...</td>\n",
              "      <td>...</td>\n",
              "      <td>...</td>\n",
              "      <td>...</td>\n",
              "      <td>...</td>\n",
              "      <td>...</td>\n",
              "      <td>...</td>\n",
              "      <td>...</td>\n",
              "      <td>...</td>\n",
              "      <td>...</td>\n",
              "      <td>...</td>\n",
              "      <td>...</td>\n",
              "      <td>...</td>\n",
              "      <td>...</td>\n",
              "      <td>...</td>\n",
              "      <td>...</td>\n",
              "      <td>...</td>\n",
              "      <td>...</td>\n",
              "      <td>...</td>\n",
              "      <td>...</td>\n",
              "      <td>...</td>\n",
              "      <td>...</td>\n",
              "      <td>...</td>\n",
              "      <td>...</td>\n",
              "      <td>...</td>\n",
              "      <td>...</td>\n",
              "    </tr>\n",
              "    <tr>\n",
              "      <th>5245</th>\n",
              "      <td>[10194, 3869, 3826, 3705, 3466, 3743, 3592, 38...</td>\n",
              "      <td>-0.061607</td>\n",
              "      <td>SHA-256</td>\n",
              "      <td>64</td>\n",
              "      <td>125</td>\n",
              "      <td>131</td>\n",
              "      <td>256</td>\n",
              "      <td>0.140832</td>\n",
              "      <td>0</td>\n",
              "      <td>0</td>\n",
              "      <td>1</td>\n",
              "      <td>0</td>\n",
              "      <td>0</td>\n",
              "      <td>1</td>\n",
              "      <td>0</td>\n",
              "      <td>0</td>\n",
              "      <td>0</td>\n",
              "      <td>0</td>\n",
              "      <td>0</td>\n",
              "      <td>0</td>\n",
              "      <td>0</td>\n",
              "      <td>0</td>\n",
              "      <td>0</td>\n",
              "      <td>0</td>\n",
              "      <td>0</td>\n",
              "      <td>0</td>\n",
              "      <td>0</td>\n",
              "      <td>0</td>\n",
              "      <td>0</td>\n",
              "      <td>0</td>\n",
              "      <td>0</td>\n",
              "      <td>0</td>\n",
              "      <td>0</td>\n",
              "      <td>0</td>\n",
              "      <td>0</td>\n",
              "      <td>0</td>\n",
              "      <td>0</td>\n",
              "      <td>0</td>\n",
              "      <td>0</td>\n",
              "      <td>0</td>\n",
              "      <td>...</td>\n",
              "      <td>0</td>\n",
              "      <td>0</td>\n",
              "      <td>0</td>\n",
              "      <td>0</td>\n",
              "      <td>0</td>\n",
              "      <td>0</td>\n",
              "      <td>0</td>\n",
              "      <td>0</td>\n",
              "      <td>0</td>\n",
              "      <td>0</td>\n",
              "      <td>0</td>\n",
              "      <td>0</td>\n",
              "      <td>0</td>\n",
              "      <td>0</td>\n",
              "      <td>0</td>\n",
              "      <td>0</td>\n",
              "      <td>0</td>\n",
              "      <td>0</td>\n",
              "      <td>0</td>\n",
              "      <td>0</td>\n",
              "      <td>0</td>\n",
              "      <td>0</td>\n",
              "      <td>0</td>\n",
              "      <td>0</td>\n",
              "      <td>0</td>\n",
              "      <td>0</td>\n",
              "      <td>0</td>\n",
              "      <td>0</td>\n",
              "      <td>0</td>\n",
              "      <td>0</td>\n",
              "      <td>0</td>\n",
              "      <td>0</td>\n",
              "      <td>0</td>\n",
              "      <td>0</td>\n",
              "      <td>0</td>\n",
              "      <td>0</td>\n",
              "      <td>0</td>\n",
              "      <td>0</td>\n",
              "      <td>0</td>\n",
              "      <td>0</td>\n",
              "    </tr>\n",
              "    <tr>\n",
              "      <th>5246</th>\n",
              "      <td>[29855, 14763, 15433, 17860, 14182, 15818, 156...</td>\n",
              "      <td>0.175344</td>\n",
              "      <td>SHA-256</td>\n",
              "      <td>64</td>\n",
              "      <td>134</td>\n",
              "      <td>122</td>\n",
              "      <td>256</td>\n",
              "      <td>1.485487</td>\n",
              "      <td>0</td>\n",
              "      <td>0</td>\n",
              "      <td>1</td>\n",
              "      <td>0</td>\n",
              "      <td>0</td>\n",
              "      <td>0</td>\n",
              "      <td>0</td>\n",
              "      <td>0</td>\n",
              "      <td>0</td>\n",
              "      <td>0</td>\n",
              "      <td>0</td>\n",
              "      <td>0</td>\n",
              "      <td>0</td>\n",
              "      <td>0</td>\n",
              "      <td>0</td>\n",
              "      <td>0</td>\n",
              "      <td>0</td>\n",
              "      <td>0</td>\n",
              "      <td>0</td>\n",
              "      <td>0</td>\n",
              "      <td>0</td>\n",
              "      <td>0</td>\n",
              "      <td>0</td>\n",
              "      <td>0</td>\n",
              "      <td>0</td>\n",
              "      <td>0</td>\n",
              "      <td>0</td>\n",
              "      <td>0</td>\n",
              "      <td>0</td>\n",
              "      <td>0</td>\n",
              "      <td>0</td>\n",
              "      <td>0</td>\n",
              "      <td>...</td>\n",
              "      <td>0</td>\n",
              "      <td>0</td>\n",
              "      <td>0</td>\n",
              "      <td>0</td>\n",
              "      <td>0</td>\n",
              "      <td>0</td>\n",
              "      <td>0</td>\n",
              "      <td>0</td>\n",
              "      <td>0</td>\n",
              "      <td>0</td>\n",
              "      <td>0</td>\n",
              "      <td>0</td>\n",
              "      <td>0</td>\n",
              "      <td>0</td>\n",
              "      <td>0</td>\n",
              "      <td>0</td>\n",
              "      <td>0</td>\n",
              "      <td>0</td>\n",
              "      <td>0</td>\n",
              "      <td>0</td>\n",
              "      <td>0</td>\n",
              "      <td>0</td>\n",
              "      <td>0</td>\n",
              "      <td>0</td>\n",
              "      <td>0</td>\n",
              "      <td>0</td>\n",
              "      <td>0</td>\n",
              "      <td>0</td>\n",
              "      <td>0</td>\n",
              "      <td>0</td>\n",
              "      <td>0</td>\n",
              "      <td>0</td>\n",
              "      <td>0</td>\n",
              "      <td>0</td>\n",
              "      <td>0</td>\n",
              "      <td>0</td>\n",
              "      <td>0</td>\n",
              "      <td>0</td>\n",
              "      <td>0</td>\n",
              "      <td>0</td>\n",
              "    </tr>\n",
              "    <tr>\n",
              "      <th>5247</th>\n",
              "      <td>[3220, 3164, 3107, 3076, 3088, 3066, 3136, 319...</td>\n",
              "      <td>-0.038490</td>\n",
              "      <td>SHA-256</td>\n",
              "      <td>64</td>\n",
              "      <td>121</td>\n",
              "      <td>135</td>\n",
              "      <td>256</td>\n",
              "      <td>0.238327</td>\n",
              "      <td>0</td>\n",
              "      <td>0</td>\n",
              "      <td>1</td>\n",
              "      <td>0</td>\n",
              "      <td>0</td>\n",
              "      <td>1</td>\n",
              "      <td>0</td>\n",
              "      <td>0</td>\n",
              "      <td>0</td>\n",
              "      <td>0</td>\n",
              "      <td>0</td>\n",
              "      <td>0</td>\n",
              "      <td>0</td>\n",
              "      <td>0</td>\n",
              "      <td>0</td>\n",
              "      <td>0</td>\n",
              "      <td>0</td>\n",
              "      <td>0</td>\n",
              "      <td>0</td>\n",
              "      <td>0</td>\n",
              "      <td>0</td>\n",
              "      <td>0</td>\n",
              "      <td>0</td>\n",
              "      <td>0</td>\n",
              "      <td>0</td>\n",
              "      <td>0</td>\n",
              "      <td>0</td>\n",
              "      <td>0</td>\n",
              "      <td>0</td>\n",
              "      <td>0</td>\n",
              "      <td>0</td>\n",
              "      <td>0</td>\n",
              "      <td>...</td>\n",
              "      <td>0</td>\n",
              "      <td>0</td>\n",
              "      <td>0</td>\n",
              "      <td>0</td>\n",
              "      <td>0</td>\n",
              "      <td>0</td>\n",
              "      <td>0</td>\n",
              "      <td>0</td>\n",
              "      <td>0</td>\n",
              "      <td>0</td>\n",
              "      <td>0</td>\n",
              "      <td>0</td>\n",
              "      <td>0</td>\n",
              "      <td>0</td>\n",
              "      <td>0</td>\n",
              "      <td>0</td>\n",
              "      <td>0</td>\n",
              "      <td>0</td>\n",
              "      <td>0</td>\n",
              "      <td>0</td>\n",
              "      <td>0</td>\n",
              "      <td>0</td>\n",
              "      <td>0</td>\n",
              "      <td>0</td>\n",
              "      <td>0</td>\n",
              "      <td>0</td>\n",
              "      <td>0</td>\n",
              "      <td>0</td>\n",
              "      <td>0</td>\n",
              "      <td>0</td>\n",
              "      <td>0</td>\n",
              "      <td>0</td>\n",
              "      <td>0</td>\n",
              "      <td>0</td>\n",
              "      <td>0</td>\n",
              "      <td>0</td>\n",
              "      <td>0</td>\n",
              "      <td>0</td>\n",
              "      <td>0</td>\n",
              "      <td>0</td>\n",
              "    </tr>\n",
              "    <tr>\n",
              "      <th>5248</th>\n",
              "      <td>[1053, 896, 765, 768, 794, 783, 715, 760, 756,...</td>\n",
              "      <td>-0.079771</td>\n",
              "      <td>MD5</td>\n",
              "      <td>32</td>\n",
              "      <td>64</td>\n",
              "      <td>64</td>\n",
              "      <td>128</td>\n",
              "      <td>-0.150572</td>\n",
              "      <td>0</td>\n",
              "      <td>0</td>\n",
              "      <td>1</td>\n",
              "      <td>0</td>\n",
              "      <td>0</td>\n",
              "      <td>0</td>\n",
              "      <td>0</td>\n",
              "      <td>0</td>\n",
              "      <td>0</td>\n",
              "      <td>0</td>\n",
              "      <td>0</td>\n",
              "      <td>0</td>\n",
              "      <td>0</td>\n",
              "      <td>0</td>\n",
              "      <td>0</td>\n",
              "      <td>0</td>\n",
              "      <td>0</td>\n",
              "      <td>0</td>\n",
              "      <td>0</td>\n",
              "      <td>0</td>\n",
              "      <td>0</td>\n",
              "      <td>0</td>\n",
              "      <td>0</td>\n",
              "      <td>0</td>\n",
              "      <td>0</td>\n",
              "      <td>0</td>\n",
              "      <td>0</td>\n",
              "      <td>0</td>\n",
              "      <td>0</td>\n",
              "      <td>0</td>\n",
              "      <td>0</td>\n",
              "      <td>0</td>\n",
              "      <td>...</td>\n",
              "      <td>0</td>\n",
              "      <td>1</td>\n",
              "      <td>0</td>\n",
              "      <td>0</td>\n",
              "      <td>0</td>\n",
              "      <td>0</td>\n",
              "      <td>0</td>\n",
              "      <td>0</td>\n",
              "      <td>0</td>\n",
              "      <td>0</td>\n",
              "      <td>0</td>\n",
              "      <td>0</td>\n",
              "      <td>0</td>\n",
              "      <td>0</td>\n",
              "      <td>0</td>\n",
              "      <td>0</td>\n",
              "      <td>0</td>\n",
              "      <td>0</td>\n",
              "      <td>0</td>\n",
              "      <td>0</td>\n",
              "      <td>0</td>\n",
              "      <td>0</td>\n",
              "      <td>0</td>\n",
              "      <td>0</td>\n",
              "      <td>0</td>\n",
              "      <td>0</td>\n",
              "      <td>0</td>\n",
              "      <td>0</td>\n",
              "      <td>0</td>\n",
              "      <td>0</td>\n",
              "      <td>0</td>\n",
              "      <td>0</td>\n",
              "      <td>0</td>\n",
              "      <td>0</td>\n",
              "      <td>0</td>\n",
              "      <td>0</td>\n",
              "      <td>0</td>\n",
              "      <td>0</td>\n",
              "      <td>0</td>\n",
              "      <td>0</td>\n",
              "    </tr>\n",
              "    <tr>\n",
              "      <th>5249</th>\n",
              "      <td>[1599, 1775, 1764, 1863, 1700, 1754, 1834, 183...</td>\n",
              "      <td>-0.111970</td>\n",
              "      <td>SHA-1</td>\n",
              "      <td>40</td>\n",
              "      <td>70</td>\n",
              "      <td>90</td>\n",
              "      <td>160</td>\n",
              "      <td>-0.049912</td>\n",
              "      <td>0</td>\n",
              "      <td>0</td>\n",
              "      <td>1</td>\n",
              "      <td>0</td>\n",
              "      <td>0</td>\n",
              "      <td>1</td>\n",
              "      <td>0</td>\n",
              "      <td>0</td>\n",
              "      <td>0</td>\n",
              "      <td>0</td>\n",
              "      <td>0</td>\n",
              "      <td>0</td>\n",
              "      <td>0</td>\n",
              "      <td>0</td>\n",
              "      <td>0</td>\n",
              "      <td>0</td>\n",
              "      <td>0</td>\n",
              "      <td>0</td>\n",
              "      <td>0</td>\n",
              "      <td>0</td>\n",
              "      <td>0</td>\n",
              "      <td>0</td>\n",
              "      <td>0</td>\n",
              "      <td>0</td>\n",
              "      <td>0</td>\n",
              "      <td>0</td>\n",
              "      <td>0</td>\n",
              "      <td>0</td>\n",
              "      <td>0</td>\n",
              "      <td>0</td>\n",
              "      <td>0</td>\n",
              "      <td>0</td>\n",
              "      <td>...</td>\n",
              "      <td>0</td>\n",
              "      <td>0</td>\n",
              "      <td>0</td>\n",
              "      <td>0</td>\n",
              "      <td>0</td>\n",
              "      <td>0</td>\n",
              "      <td>0</td>\n",
              "      <td>0</td>\n",
              "      <td>0</td>\n",
              "      <td>0</td>\n",
              "      <td>0</td>\n",
              "      <td>0</td>\n",
              "      <td>0</td>\n",
              "      <td>0</td>\n",
              "      <td>0</td>\n",
              "      <td>0</td>\n",
              "      <td>0</td>\n",
              "      <td>0</td>\n",
              "      <td>0</td>\n",
              "      <td>0</td>\n",
              "      <td>0</td>\n",
              "      <td>0</td>\n",
              "      <td>0</td>\n",
              "      <td>0</td>\n",
              "      <td>0</td>\n",
              "      <td>0</td>\n",
              "      <td>0</td>\n",
              "      <td>0</td>\n",
              "      <td>0</td>\n",
              "      <td>0</td>\n",
              "      <td>0</td>\n",
              "      <td>0</td>\n",
              "      <td>0</td>\n",
              "      <td>0</td>\n",
              "      <td>0</td>\n",
              "      <td>0</td>\n",
              "      <td>0</td>\n",
              "      <td>0</td>\n",
              "      <td>0</td>\n",
              "      <td>0</td>\n",
              "    </tr>\n",
              "  </tbody>\n",
              "</table>\n",
              "<p>5250 rows × 93 columns</p>\n",
              "</div>"
            ],
            "text/plain": [
              "                                     file dist of bytes  ...  consecutiveByte_b'~'\n",
              "0     [185, 71, 61, 64, 62, 43, 59, 58, 47, 49, 108,...  ...                     0\n",
              "1     [192, 78, 55, 54, 53, 54, 61, 70, 50, 55, 115,...  ...                     0\n",
              "2     [181, 80, 57, 57, 63, 60, 63, 70, 44, 44, 115,...  ...                     0\n",
              "3     [215, 68, 51, 73, 52, 57, 52, 55, 40, 43, 102,...  ...                     0\n",
              "4     [191, 90, 60, 66, 56, 59, 66, 60, 53, 54, 102,...  ...                     0\n",
              "...                                                 ...  ...                   ...\n",
              "5245  [10194, 3869, 3826, 3705, 3466, 3743, 3592, 38...  ...                     0\n",
              "5246  [29855, 14763, 15433, 17860, 14182, 15818, 156...  ...                     0\n",
              "5247  [3220, 3164, 3107, 3076, 3088, 3066, 3136, 319...  ...                     0\n",
              "5248  [1053, 896, 765, 768, 794, 783, 715, 760, 756,...  ...                     0\n",
              "5249  [1599, 1775, 1764, 1863, 1700, 1754, 1834, 183...  ...                     0\n",
              "\n",
              "[5250 rows x 93 columns]"
            ]
          },
          "metadata": {
            "tags": []
          },
          "execution_count": 2
        }
      ]
    },
    {
      "cell_type": "code",
      "metadata": {
        "id": "x1CtCvbU2tHN"
      },
      "source": [
        "X_train, X_test, y_train, y_test = train_test_split(df.drop('hash type', axis=1), df['hash type'], test_size=0.2, random_state=0)\n",
        "\n",
        "# reduce dimensionality of file byte dist (from 256 to around 2 or whatever happens to capture 90% of the variance)\n",
        "X_train_file_dist = pd.DataFrame(X_train['file dist of bytes'].to_list(),  index=X_train.index)\n",
        "X_test_file_dist = pd.DataFrame(X_test['file dist of bytes'].to_list(),  index=X_test.index)\n",
        "\n",
        "scaler = StandardScaler()\n",
        "scaler.fit(X_train_file_dist)\n",
        "X_train_file_dist = pd.DataFrame(scaler.transform(X_train_file_dist), index=X_train.index)\n",
        "X_test_file_dist = pd.DataFrame(scaler.transform(X_test_file_dist), index=X_test.index)\n",
        "\n",
        "pca = PCA(0.90)\n",
        "pcs = pca.fit(X_train_file_dist)\n",
        "# fix this to do x columns not hardcoded 2\n",
        "X_train_file_dist = pd.DataFrame(pca.transform(X_train_file_dist), index=X_train.index, \n",
        "                                 columns=['file dist pca ' + str(i+1) for i in range(len(pca.explained_variance_))])\n",
        "X_test_file_dist = pd.DataFrame(pca.transform(X_test_file_dist), index=X_test.index,\n",
        "                                columns=['file dist pca ' + str(i+1) for i in range(len(pca.explained_variance_))])\n",
        "\n",
        "X_train = X_train.join(X_train_file_dist)\n",
        "X_train.drop('file dist of bytes', axis=1, inplace=True)\n",
        "X_test = X_test.join(X_test_file_dist)\n",
        "X_test.drop('file dist of bytes', axis=1, inplace=True)"
      ],
      "execution_count": 3,
      "outputs": []
    },
    {
      "cell_type": "code",
      "metadata": {
        "colab": {
          "base_uri": "https://localhost:8080/"
        },
        "id": "RWJmALqwSIZ-",
        "outputId": "88e849fe-81ca-43bb-a8a7-f96692437559"
      },
      "source": [
        "def get_cv_error_knn(k):\n",
        "  print(k)\n",
        "  # define pipeline\n",
        "  pipeline = make_pipeline(\n",
        "      KNeighborsClassifier(n_neighbors=k)\n",
        "  )\n",
        "  # calculate errors from cross-validation\n",
        "  cv_errs = cross_val_score(pipeline, X=X_train, \n",
        "                             y=y_train,\n",
        "                             scoring='accuracy', cv=10)\n",
        "  # calculate average of the cross-validation errors\n",
        "  return cv_errs.mean()\n",
        "\n",
        "get_cv_error_knn(6)"
      ],
      "execution_count": 4,
      "outputs": [
        {
          "output_type": "stream",
          "text": [
            "6\n"
          ],
          "name": "stdout"
        },
        {
          "output_type": "execute_result",
          "data": {
            "text/plain": [
              "0.7490476190476191"
            ]
          },
          "metadata": {
            "tags": []
          },
          "execution_count": 4
        }
      ]
    },
    {
      "cell_type": "code",
      "metadata": {
        "colab": {
          "base_uri": "https://localhost:8080/",
          "height": 928
        },
        "id": "H8U7YoBNY_bT",
        "outputId": "17a2822d-bf9f-4517-b1df-3fcca01a512f"
      },
      "source": [
        "vals = pd.Series(range(1, 20), index=range(1, 20))\n",
        "test_errs = vals.apply(get_cv_error_knn)\n",
        "\n",
        "test_errs.plot.line()\n",
        "test_errs.sort_values()"
      ],
      "execution_count": 5,
      "outputs": [
        {
          "output_type": "stream",
          "text": [
            "1\n",
            "2\n",
            "3\n",
            "4\n",
            "5\n",
            "6\n",
            "7\n",
            "8\n",
            "9\n",
            "10\n",
            "11\n",
            "12\n",
            "13\n",
            "14\n",
            "15\n",
            "16\n",
            "17\n",
            "18\n",
            "19\n"
          ],
          "name": "stdout"
        },
        {
          "output_type": "execute_result",
          "data": {
            "text/plain": [
              "7     0.743333\n",
              "12    0.745952\n",
              "10    0.746190\n",
              "1     0.746905\n",
              "8     0.748571\n",
              "9     0.748810\n",
              "6     0.749048\n",
              "5     0.749286\n",
              "2     0.750476\n",
              "11    0.750952\n",
              "14    0.752381\n",
              "4     0.753333\n",
              "13    0.755000\n",
              "16    0.755238\n",
              "3     0.755714\n",
              "15    0.757619\n",
              "17    0.759524\n",
              "18    0.760000\n",
              "19    0.764762\n",
              "dtype: float64"
            ]
          },
          "metadata": {
            "tags": []
          },
          "execution_count": 5
        },
        {
          "output_type": "display_data",
          "data": {
            "image/png": "[encoded data removed]",
            "text/plain": [
              "<Figure size 432x288 with 1 Axes>"
            ]
          },
          "metadata": {
            "tags": [],
            "needs_background": "light"
          }
        }
      ]
    },
    {
      "cell_type": "code",
      "metadata": {
        "id": "GjsXsMInfD7b",
        "colab": {
          "base_uri": "https://localhost:8080/"
        },
        "outputId": "f927da3a-888f-4215-b3b2-b4edcf442d74"
      },
      "source": [
        "best_knn = KNeighborsClassifier(n_neighbors=19)\n",
        "best_knn.fit(X_train, y_train)\n",
        "\n",
        "y_pred = best_knn.predict(X_test)\n",
        "print(classification_report(y_test, y_pred))"
      ],
      "execution_count": 6,
      "outputs": [
        {
          "output_type": "stream",
          "text": [
            "              precision    recall  f1-score   support\n",
            "\n",
            "         MD5       1.00      1.00      1.00       251\n",
            "       SHA-1       1.00      1.00      1.00       269\n",
            "     SHA-256       0.51      0.47      0.49       265\n",
            "   SHA-3-256       0.51      0.55      0.53       265\n",
            "\n",
            "    accuracy                           0.75      1050\n",
            "   macro avg       0.75      0.75      0.75      1050\n",
            "weighted avg       0.75      0.75      0.75      1050\n",
            "\n"
          ],
          "name": "stdout"
        }
      ]
    },
    {
      "cell_type": "code",
      "metadata": {
        "id": "C605560dWiau"
      },
      "source": [
        "def get_cv_error_mlp_iterations(k):\n",
        "  print(k)\n",
        "  # define pipeline\n",
        "  pipeline = make_pipeline(\n",
        "      MLPClassifier(max_iter=k)\n",
        "  )\n",
        "  # calculate errors from cross-validation\n",
        "  cv_errs = cross_val_score(pipeline, X=X_train, \n",
        "                             y=y_train,\n",
        "                             scoring='f1_macro', cv=10)\n",
        "  # calculate average of the cross-validation errors\n",
        "  return cv_errs.mean()"
      ],
      "execution_count": 7,
      "outputs": []
    },
    {
      "cell_type": "code",
      "metadata": {
        "id": "H9FFzPrwSiPL",
        "colab": {
          "base_uri": "https://localhost:8080/",
          "height": 452
        },
        "outputId": "d60e1118-355e-445c-bee9-6b2ac6757208"
      },
      "source": [
        "vals = pd.Series(range(100, 600, 100), index=range(100, 600, 100))\n",
        "test_errs = vals.apply(get_cv_error_mlp_iterations)\n",
        "\n",
        "test_errs.plot.line()\n",
        "test_errs.sort_values()"
      ],
      "execution_count": 8,
      "outputs": [
        {
          "output_type": "stream",
          "text": [
            "100\n",
            "200\n",
            "300\n",
            "400\n",
            "500\n"
          ],
          "name": "stdout"
        },
        {
          "output_type": "execute_result",
          "data": {
            "text/plain": [
              "200    0.689495\n",
              "300    0.699130\n",
              "400    0.703193\n",
              "100    0.704105\n",
              "500    0.710504\n",
              "dtype: float64"
            ]
          },
          "metadata": {
            "tags": []
          },
          "execution_count": 8
        },
        {
          "output_type": "display_data",
          "data": {
            "image/png": "[encoded data removed]",
            "text/plain": [
              "<Figure size 432x288 with 1 Axes>"
            ]
          },
          "metadata": {
            "tags": [],
            "needs_background": "light"
          }
        }
      ]
    },
    {
      "cell_type": "code",
      "metadata": {
        "id": "OyY3qw7gZaD_"
      },
      "source": [
        "def get_cv_error_mlp_hidden_layers(k):\n",
        "  print(k)\n",
        "  # define pipeline\n",
        "  pipeline = make_pipeline(\n",
        "      MLPClassifier(hidden_layer_sizes=k, max_iter=300)\n",
        "  )\n",
        "  # calculate errors from cross-validation\n",
        "  cv_errs = cross_val_score(pipeline, X=X_train, \n",
        "                             y=y_train,\n",
        "                             scoring='f1_macro', cv=10)\n",
        "  # calculate average of the cross-validation errors\n",
        "  return cv_errs.mean()"
      ],
      "execution_count": 9,
      "outputs": []
    },
    {
      "cell_type": "code",
      "metadata": {
        "id": "Z5CjE9ZuZf68",
        "colab": {
          "base_uri": "https://localhost:8080/",
          "height": 486
        },
        "outputId": "ede477f8-192e-4513-95af-c7f2b312770d"
      },
      "source": [
        "vals = pd.Series(range(100, 250, 25), index=range(100, 250, 25))\n",
        "test_errs = vals.apply(get_cv_error_mlp_hidden_layers)\n",
        "\n",
        "test_errs.plot.line()\n",
        "test_errs.sort_values()"
      ],
      "execution_count": 10,
      "outputs": [
        {
          "output_type": "stream",
          "text": [
            "100\n",
            "125\n",
            "150\n",
            "175\n",
            "200\n",
            "225\n"
          ],
          "name": "stdout"
        },
        {
          "output_type": "execute_result",
          "data": {
            "text/plain": [
              "225    0.684251\n",
              "100    0.687348\n",
              "200    0.690374\n",
              "150    0.694436\n",
              "125    0.707364\n",
              "175    0.711455\n",
              "dtype: float64"
            ]
          },
          "metadata": {
            "tags": []
          },
          "execution_count": 10
        },
        {
          "output_type": "display_data",
          "data": {
            "image/png": "[encoded data removed]",
            "text/plain": [
              "<Figure size 432x288 with 1 Axes>"
            ]
          },
          "metadata": {
            "tags": [],
            "needs_background": "light"
          }
        }
      ]
    },
    {
      "cell_type": "code",
      "metadata": {
        "id": "OrS86QwAQLJ7",
        "colab": {
          "base_uri": "https://localhost:8080/"
        },
        "outputId": "77f29adc-ba8b-4869-8511-8f0f7d6c0af1"
      },
      "source": [
        "best_mlp = MLPClassifier(max_iter=500)\n",
        "best_mlp.fit(X_train, y_train)\n",
        "\n",
        "\n",
        "y_pred = best_mlp.predict(X_test)\n",
        "print(classification_report(y_test, y_pred))"
      ],
      "execution_count": 11,
      "outputs": [
        {
          "output_type": "stream",
          "text": [
            "              precision    recall  f1-score   support\n",
            "\n",
            "         MD5       1.00      0.98      0.99       251\n",
            "       SHA-1       0.98      0.99      0.98       269\n",
            "     SHA-256       0.50      0.18      0.26       265\n",
            "   SHA-3-256       0.50      0.83      0.62       265\n",
            "\n",
            "    accuracy                           0.74      1050\n",
            "   macro avg       0.74      0.74      0.71      1050\n",
            "weighted avg       0.74      0.74      0.71      1050\n",
            "\n"
          ],
          "name": "stdout"
        }
      ]
    },
    {
      "cell_type": "code",
      "metadata": {
        "id": "234oyoHBcS2R"
      },
      "source": [
        "def get_cv_error_descision_tree_maxDepth(k):\n",
        "  print(k)\n",
        "  # define pipeline\n",
        "  pipeline = make_pipeline(\n",
        "      DecisionTreeClassifier(max_depth=k)\n",
        "  )\n",
        "  # calculate errors from cross-validation\n",
        "  cv_errs = cross_val_score(pipeline, X=X_train, \n",
        "                             y=y_train,\n",
        "                             scoring='f1_macro', cv=10)\n",
        "  # calculate average of the cross-validation errors\n",
        "  return cv_errs.mean()"
      ],
      "execution_count": 12,
      "outputs": []
    },
    {
      "cell_type": "code",
      "metadata": {
        "id": "4_CQ0Ld-cYsz",
        "colab": {
          "base_uri": "https://localhost:8080/",
          "height": 1000
        },
        "outputId": "9cb5bcf8-538d-4bc9-b462-fefc0292f08e"
      },
      "source": [
        "vals = pd.Series(range(5,31), index=range(5,31))\n",
        "test_errs = vals.apply(get_cv_error_descision_tree_maxDepth)\n",
        "\n",
        "test_errs.plot.line()\n",
        "test_errs.sort_values()"
      ],
      "execution_count": 13,
      "outputs": [
        {
          "output_type": "stream",
          "text": [
            "5\n",
            "6\n",
            "7\n",
            "8\n",
            "9\n",
            "10\n",
            "11\n",
            "12\n",
            "13\n",
            "14\n",
            "15\n",
            "16\n",
            "17\n",
            "18\n",
            "19\n",
            "20\n",
            "21\n",
            "22\n",
            "23\n",
            "24\n",
            "25\n",
            "26\n",
            "27\n",
            "28\n",
            "29\n",
            "30\n"
          ],
          "name": "stdout"
        },
        {
          "output_type": "execute_result",
          "data": {
            "text/plain": [
              "6     0.720632\n",
              "5     0.725999\n",
              "7     0.731288\n",
              "8     0.731745\n",
              "15    0.738897\n",
              "14    0.739071\n",
              "12    0.740309\n",
              "16    0.740379\n",
              "11    0.740622\n",
              "23    0.741944\n",
              "10    0.742353\n",
              "22    0.742690\n",
              "13    0.742722\n",
              "24    0.743213\n",
              "18    0.743869\n",
              "9     0.743963\n",
              "30    0.745218\n",
              "29    0.746046\n",
              "21    0.746213\n",
              "20    0.746392\n",
              "26    0.748072\n",
              "19    0.748105\n",
              "17    0.748162\n",
              "27    0.749616\n",
              "28    0.752722\n",
              "25    0.753219\n",
              "dtype: float64"
            ]
          },
          "metadata": {
            "tags": []
          },
          "execution_count": 13
        },
        {
          "output_type": "display_data",
          "data": {
            "image/png": "[encoded data removed]",
            "text/plain": [
              "<Figure size 432x288 with 1 Axes>"
            ]
          },
          "metadata": {
            "tags": [],
            "needs_background": "light"
          }
        }
      ]
    },
    {
      "cell_type": "code",
      "metadata": {
        "id": "GfkOieSadH9z"
      },
      "source": [
        "def get_cv_error_descision_tree_maxFeatures(k):\n",
        "  print(k)\n",
        "  # define pipeline\n",
        "  pipeline = make_pipeline(\n",
        "      DecisionTreeClassifier(max_features=k)\n",
        "  )\n",
        "  # calculate errors from cross-validation\n",
        "  cv_errs = cross_val_score(pipeline, X=X_train, \n",
        "                             y=y_train,\n",
        "                             scoring='f1_macro', cv=10)\n",
        "  # calculate average of the cross-validation errors\n",
        "  return cv_errs.mean()"
      ],
      "execution_count": 14,
      "outputs": []
    },
    {
      "cell_type": "code",
      "metadata": {
        "id": "GVQJD19hdR7K",
        "colab": {
          "base_uri": "https://localhost:8080/",
          "height": 758
        },
        "outputId": "5cbba1cf-6570-43f7-9f93-475e1a2e65d0"
      },
      "source": [
        "vals = pd.Series(range(2,16), index=range(2,16))\n",
        "test_errs = vals.apply(get_cv_error_descision_tree_maxFeatures)\n",
        "\n",
        "test_errs.plot.line()\n",
        "test_errs.sort_values()"
      ],
      "execution_count": 15,
      "outputs": [
        {
          "output_type": "stream",
          "text": [
            "2\n",
            "3\n",
            "4\n",
            "5\n",
            "6\n",
            "7\n",
            "8\n",
            "9\n",
            "10\n",
            "11\n",
            "12\n",
            "13\n",
            "14\n",
            "15\n"
          ],
          "name": "stdout"
        },
        {
          "output_type": "execute_result",
          "data": {
            "text/plain": [
              "2     0.724157\n",
              "4     0.730702\n",
              "7     0.733125\n",
              "3     0.734919\n",
              "8     0.736836\n",
              "13    0.737084\n",
              "10    0.737342\n",
              "6     0.738622\n",
              "5     0.738808\n",
              "11    0.741462\n",
              "9     0.741502\n",
              "15    0.743736\n",
              "14    0.744080\n",
              "12    0.745316\n",
              "dtype: float64"
            ]
          },
          "metadata": {
            "tags": []
          },
          "execution_count": 15
        },
        {
          "output_type": "display_data",
          "data": {
            "image/png": "[encoded data removed]",
            "text/plain": [
              "<Figure size 432x288 with 1 Axes>"
            ]
          },
          "metadata": {
            "tags": [],
            "needs_background": "light"
          }
        }
      ]
    },
    {
      "cell_type": "code",
      "metadata": {
        "id": "yswZcH16dqA-",
        "colab": {
          "base_uri": "https://localhost:8080/"
        },
        "outputId": "18817ee7-e791-4322-abb7-252d0c9fc382"
      },
      "source": [
        "best_tree = DecisionTreeClassifier(max_depth=28)\n",
        "best_tree.fit(X_train, y_train)\n",
        "\n",
        "\n",
        "y_pred = best_tree.predict(X_test)\n",
        "print(classification_report(y_test, y_pred))"
      ],
      "execution_count": 16,
      "outputs": [
        {
          "output_type": "stream",
          "text": [
            "              precision    recall  f1-score   support\n",
            "\n",
            "         MD5       1.00      1.00      1.00       251\n",
            "       SHA-1       1.00      1.00      1.00       269\n",
            "     SHA-256       0.50      0.49      0.50       265\n",
            "   SHA-3-256       0.50      0.51      0.51       265\n",
            "\n",
            "    accuracy                           0.75      1050\n",
            "   macro avg       0.75      0.75      0.75      1050\n",
            "weighted avg       0.75      0.75      0.75      1050\n",
            "\n"
          ],
          "name": "stdout"
        }
      ]
    },
    {
      "cell_type": "code",
      "metadata": {
        "id": "wHoH-gxTU8wD"
      },
      "source": [
        "def get_cv_error_gbc_max_depth(n):\n",
        "  print(n)\n",
        "  # define pipeline\n",
        "  pipeline = make_pipeline(\n",
        "      GradientBoostingClassifier(max_depth=n)\n",
        "  )\n",
        "  # calculate errors from cross-validation\n",
        "  cv_errs = cross_val_score(pipeline, X=X_train, \n",
        "                             y=y_train,\n",
        "                             scoring='f1_macro', cv=10)\n",
        "  # calculate average of the cross-validation errors\n",
        "  return cv_errs.mean()"
      ],
      "execution_count": 17,
      "outputs": []
    },
    {
      "cell_type": "code",
      "metadata": {
        "colab": {
          "base_uri": "https://localhost:8080/",
          "height": 826
        },
        "id": "lEZrTzdzVbeE",
        "outputId": "508cd6c9-7495-4041-d642-a06315db5143"
      },
      "source": [
        "vals = pd.Series(range(5,21), index=range(5,21))\n",
        "test_errs = vals.apply(get_cv_error_gbc_max_depth)\n",
        "\n",
        "test_errs.plot.line()\n",
        "test_errs.sort_values()"
      ],
      "execution_count": 18,
      "outputs": [
        {
          "output_type": "stream",
          "text": [
            "5\n",
            "6\n",
            "7\n",
            "8\n",
            "9\n",
            "10\n",
            "11\n",
            "12\n",
            "13\n",
            "14\n",
            "15\n",
            "16\n",
            "17\n",
            "18\n",
            "19\n",
            "20\n"
          ],
          "name": "stdout"
        },
        {
          "output_type": "execute_result",
          "data": {
            "text/plain": [
              "7     0.740655\n",
              "20    0.740959\n",
              "11    0.741152\n",
              "19    0.741617\n",
              "16    0.743629\n",
              "18    0.744136\n",
              "6     0.744827\n",
              "17    0.745924\n",
              "13    0.746173\n",
              "5     0.746812\n",
              "9     0.747132\n",
              "8     0.747154\n",
              "10    0.747351\n",
              "15    0.748570\n",
              "12    0.748902\n",
              "14    0.748977\n",
              "dtype: float64"
            ]
          },
          "metadata": {
            "tags": []
          },
          "execution_count": 18
        },
        {
          "output_type": "display_data",
          "data": {
            "image/png": "[encoded data removed]",
            "text/plain": [
              "<Figure size 432x288 with 1 Axes>"
            ]
          },
          "metadata": {
            "tags": [],
            "needs_background": "light"
          }
        }
      ]
    },
    {
      "cell_type": "code",
      "metadata": {
        "id": "6savRr5nWEoP"
      },
      "source": [
        "def get_cv_error_gbc_max_features(n):\n",
        "  print(n)\n",
        "  # define pipeline\n",
        "  pipeline = make_pipeline(\n",
        "      GradientBoostingClassifier(max_features=n)\n",
        "  )\n",
        "  # calculate errors from cross-validation\n",
        "  cv_errs = cross_val_score(pipeline, X=X_train, \n",
        "                             y=y_train,\n",
        "                             scoring='f1_macro', cv=10)\n",
        "  # calculate average of the cross-validation errors\n",
        "  return cv_errs.mean()"
      ],
      "execution_count": 19,
      "outputs": []
    },
    {
      "cell_type": "code",
      "metadata": {
        "id": "UD0RNpc-WSzX",
        "colab": {
          "base_uri": "https://localhost:8080/",
          "height": 588
        },
        "outputId": "d6f62335-16b1-421f-973b-29be6bb52a88"
      },
      "source": [
        "vals = pd.Series(range(2,11), index=range(2,11))\n",
        "test_errs = vals.apply(get_cv_error_gbc_max_features)\n",
        "\n",
        "test_errs.plot.line()\n",
        "test_errs.sort_values()"
      ],
      "execution_count": 20,
      "outputs": [
        {
          "output_type": "stream",
          "text": [
            "2\n",
            "3\n",
            "4\n",
            "5\n",
            "6\n",
            "7\n",
            "8\n",
            "9\n",
            "10\n"
          ],
          "name": "stdout"
        },
        {
          "output_type": "execute_result",
          "data": {
            "text/plain": [
              "2     0.748980\n",
              "10    0.752448\n",
              "7     0.756897\n",
              "8     0.757948\n",
              "9     0.758298\n",
              "5     0.758408\n",
              "3     0.759575\n",
              "6     0.761057\n",
              "4     0.762831\n",
              "dtype: float64"
            ]
          },
          "metadata": {
            "tags": []
          },
          "execution_count": 20
        },
        {
          "output_type": "display_data",
          "data": {
            "image/png": "[encoded data removed]",
            "text/plain": [
              "<Figure size 432x288 with 1 Axes>"
            ]
          },
          "metadata": {
            "tags": [],
            "needs_background": "light"
          }
        }
      ]
    },
    {
      "cell_type": "code",
      "metadata": {
        "colab": {
          "base_uri": "https://localhost:8080/"
        },
        "id": "035uscTA9RTD",
        "outputId": "4ef4dc65-f252-4379-9f8a-32fe974685b6"
      },
      "source": [
        "best_gbc = GradientBoostingClassifier(max_features=8, )\n",
        "best_gbc.fit(X_train, y_train)\n",
        "\n",
        "\n",
        "y_pred = best_gbc.predict(X_test)\n",
        "print(classification_report(y_test, y_pred))"
      ],
      "execution_count": 21,
      "outputs": [
        {
          "output_type": "stream",
          "text": [
            "              precision    recall  f1-score   support\n",
            "\n",
            "         MD5       1.00      1.00      1.00       251\n",
            "       SHA-1       1.00      1.00      1.00       269\n",
            "     SHA-256       0.51      0.43      0.47       265\n",
            "   SHA-3-256       0.51      0.60      0.55       265\n",
            "\n",
            "    accuracy                           0.75      1050\n",
            "   macro avg       0.76      0.76      0.75      1050\n",
            "weighted avg       0.75      0.75      0.75      1050\n",
            "\n"
          ],
          "name": "stdout"
        }
      ]
    },
    {
      "cell_type": "code",
      "metadata": {
        "id": "MVvDmsfcg-yP"
      },
      "source": [
        "def get_cv_error_random_forest_estimators(k):\n",
        "  print(k)\n",
        "  # define pipeline\n",
        "  pipeline = make_pipeline(\n",
        "      RandomForestClassifier(n_estimators=k)\n",
        "  )\n",
        "  # calculate errors from cBhaluezpz123@ross-validation\n",
        "  cv_errs = cross_val_score(pipeline, X=X_train, \n",
        "                             y=y_train,\n",
        "                             scoring='f1_macro', cv=10)\n",
        "  # calculate average of the cross-validation errors\n",
        "  return cv_errs.mean()"
      ],
      "execution_count": 22,
      "outputs": []
    },
    {
      "cell_type": "code",
      "metadata": {
        "colab": {
          "base_uri": "https://localhost:8080/",
          "height": 588
        },
        "id": "S-duhhC4hDBi",
        "outputId": "2e288037-e5cb-47df-e10b-785086725a02"
      },
      "source": [
        "vals = pd.Series(range(200,2000,200), index=range(200,2000,200))\n",
        "test_errs = vals.apply(get_cv_error_random_forest_estimators)\n",
        "\n",
        "test_errs.plot.line()\n",
        "test_errs.sort_values()"
      ],
      "execution_count": 23,
      "outputs": [
        {
          "output_type": "stream",
          "text": [
            "200\n",
            "400\n",
            "600\n",
            "800\n",
            "1000\n",
            "1200\n",
            "1400\n",
            "1600\n",
            "1800\n"
          ],
          "name": "stdout"
        },
        {
          "output_type": "execute_result",
          "data": {
            "text/plain": [
              "200     0.743680\n",
              "1800    0.745104\n",
              "1000    0.745268\n",
              "1200    0.745537\n",
              "800     0.745690\n",
              "400     0.745927\n",
              "1600    0.746006\n",
              "600     0.749027\n",
              "1400    0.749409\n",
              "dtype: float64"
            ]
          },
          "metadata": {
            "tags": []
          },
          "execution_count": 23
        },
        {
          "output_type": "display_data",
          "data": {
            "image/png": "[encoded data removed]",
            "text/plain": [
              "<Figure size 432x288 with 1 Axes>"
            ]
          },
          "metadata": {
            "tags": [],
            "needs_background": "light"
          }
        }
      ]
    },
    {
      "cell_type": "code",
      "metadata": {
        "id": "iW_VbyjkhLqi"
      },
      "source": [
        "def get_cv_error_random_forest_depth(k):\n",
        "  print(k)\n",
        "  # define pipeline\n",
        "  pipeline = make_pipeline(\n",
        "      RandomForestClassifier(max_depth=k)\n",
        "  )\n",
        "  # calculate errors from cBhaluezpz123@ross-validation\n",
        "  cv_errs = cross_val_score(pipeline, X=X_train, \n",
        "                             y=y_train,\n",
        "                             scoring='f1_macro', cv=10)\n",
        "  # calculate average of the cross-validation errors\n",
        "  return cv_errs.mean()"
      ],
      "execution_count": 24,
      "outputs": []
    },
    {
      "cell_type": "code",
      "metadata": {
        "colab": {
          "base_uri": "https://localhost:8080/",
          "height": 588
        },
        "id": "NgsKHE5lhXUg",
        "outputId": "c00a98d8-87c1-4f83-f920-7c74cdbd74fc"
      },
      "source": [
        "vals = pd.Series(range(10,100,10), index=range(10,100,10))\n",
        "test_errs = vals.apply(get_cv_error_random_forest_depth)\n",
        "\n",
        "test_errs.plot.line()\n",
        "test_errs.sort_values()"
      ],
      "execution_count": 25,
      "outputs": [
        {
          "output_type": "stream",
          "text": [
            "10\n",
            "20\n",
            "30\n",
            "40\n",
            "50\n",
            "60\n",
            "70\n",
            "80\n",
            "90\n"
          ],
          "name": "stdout"
        },
        {
          "output_type": "execute_result",
          "data": {
            "text/plain": [
              "60    0.740063\n",
              "50    0.741795\n",
              "80    0.743163\n",
              "90    0.743979\n",
              "70    0.744962\n",
              "20    0.746197\n",
              "40    0.746546\n",
              "30    0.746916\n",
              "10    0.751985\n",
              "dtype: float64"
            ]
          },
          "metadata": {
            "tags": []
          },
          "execution_count": 25
        },
        {
          "output_type": "display_data",
          "data": {
            "image/png": "[encoded data removed]",
            "text/plain": [
              "<Figure size 432x288 with 1 Axes>"
            ]
          },
          "metadata": {
            "tags": [],
            "needs_background": "light"
          }
        }
      ]
    },
    {
      "cell_type": "code",
      "metadata": {
        "colab": {
          "base_uri": "https://localhost:8080/"
        },
        "id": "WcjffpcVhdTQ",
        "outputId": "b5b2ca09-0625-4635-b5a7-a634fb29df2c"
      },
      "source": [
        "best_rf = RandomForestClassifier(max_depth=10, n_estimators=800)\n",
        "best_rf.fit(X_train, y_train)\n",
        "\n",
        "\n",
        "y_pred = best_rf.predict(X_test)\n",
        "print(classification_report(y_test, y_pred))"
      ],
      "execution_count": 26,
      "outputs": [
        {
          "output_type": "stream",
          "text": [
            "              precision    recall  f1-score   support\n",
            "\n",
            "         MD5       1.00      1.00      1.00       251\n",
            "       SHA-1       1.00      1.00      1.00       269\n",
            "     SHA-256       0.50      0.36      0.42       265\n",
            "   SHA-3-256       0.50      0.64      0.56       265\n",
            "\n",
            "    accuracy                           0.75      1050\n",
            "   macro avg       0.75      0.75      0.74      1050\n",
            "weighted avg       0.75      0.75      0.74      1050\n",
            "\n"
          ],
          "name": "stdout"
        }
      ]
    },
    {
      "cell_type": "code",
      "metadata": {
        "id": "WCvwVlZ9S2LM"
      },
      "source": [
        "def get_cv_error_Ada_boost(n):\n",
        "  print(n)\n",
        "  # define pipeline\n",
        "  pipeline = make_pipeline(\n",
        "      AdaBoostClassifier(learning_rate=n, random_state=0)\n",
        "  )\n",
        "  # calculate errors from cross-validation\n",
        "  cv_errs = cross_val_score(pipeline, X=X_train, \n",
        "                             y=y_train,\n",
        "                             scoring='f1_macro', cv=10)\n",
        "  # calculate average of the cross-validation errors\n",
        "  return cv_errs.mean()"
      ],
      "execution_count": 27,
      "outputs": []
    },
    {
      "cell_type": "code",
      "metadata": {
        "id": "ZuiMXgOOS2PO",
        "colab": {
          "base_uri": "https://localhost:8080/",
          "height": 792
        },
        "outputId": "1e54e0a4-340a-46bb-bba8-ecfa581ccdf5"
      },
      "source": [
        "vals = pd.Series(range(1,16), index=range(1,16))\n",
        "test_errs = vals.apply(get_cv_error_Ada_boost)\n",
        "\n",
        "test_errs.plot.line()\n",
        "test_errs.sort_values()"
      ],
      "execution_count": 28,
      "outputs": [
        {
          "output_type": "stream",
          "text": [
            "1\n",
            "2\n",
            "3\n",
            "4\n",
            "5\n",
            "6\n",
            "7\n",
            "8\n",
            "9\n",
            "10\n",
            "11\n",
            "12\n",
            "13\n",
            "14\n",
            "15\n"
          ],
          "name": "stdout"
        },
        {
          "output_type": "execute_result",
          "data": {
            "text/plain": [
              "8     0.332955\n",
              "15    0.336569\n",
              "5     0.470043\n",
              "6     0.663417\n",
              "7     0.663417\n",
              "9     0.663597\n",
              "4     0.667843\n",
              "10    0.669119\n",
              "11    0.669119\n",
              "12    0.669119\n",
              "13    0.669119\n",
              "14    0.669119\n",
              "1     0.669456\n",
              "3     0.671891\n",
              "2     0.705226\n",
              "dtype: float64"
            ]
          },
          "metadata": {
            "tags": []
          },
          "execution_count": 28
        },
        {
          "output_type": "display_data",
          "data": {
            "image/png": "[encoded data removed]",
            "text/plain": [
              "<Figure size 432x288 with 1 Axes>"
            ]
          },
          "metadata": {
            "tags": [],
            "needs_background": "light"
          }
        }
      ]
    },
    {
      "cell_type": "code",
      "metadata": {
        "id": "yVdBYW0PVJiz",
        "colab": {
          "base_uri": "https://localhost:8080/"
        },
        "outputId": "7adcdc0b-e4f8-4418-80de-da1ffa01f50d"
      },
      "source": [
        "best_ada = AdaBoostClassifier(learning_rate=2)\n",
        "best_ada.fit(X_train, y_train)\n",
        "\n",
        "\n",
        "y_pred = best_ada.predict(X_test)\n",
        "print(classification_report(y_test, y_pred))"
      ],
      "execution_count": 29,
      "outputs": [
        {
          "output_type": "stream",
          "text": [
            "              precision    recall  f1-score   support\n",
            "\n",
            "         MD5       1.00      1.00      1.00       251\n",
            "       SHA-1       1.00      1.00      1.00       269\n",
            "     SHA-256       0.50      0.78      0.61       265\n",
            "   SHA-3-256       0.50      0.22      0.31       265\n",
            "\n",
            "    accuracy                           0.75      1050\n",
            "   macro avg       0.75      0.75      0.73      1050\n",
            "weighted avg       0.75      0.75      0.73      1050\n",
            "\n"
          ],
          "name": "stdout"
        }
      ]
    },
    {
      "cell_type": "markdown",
      "metadata": {
        "id": "jbmhagGohkxR"
      },
      "source": [
        "# Picking an Algorithm and Further Fine Tuning"
      ]
    },
    {
      "cell_type": "markdown",
      "metadata": {
        "id": "A09I5M7LhpGI"
      },
      "source": [
        "Most of the machine learning algorithms we used, after the pca components and scaling, resulted in the same results (for accuracy, f1score, etc). They hovered around 0.74 for reasons described below. We decided to pick the KNeighborsClassifier since it was relatively simple/fast to train and intuitively understand, and decided to further tune it."
      ]
    },
    {
      "cell_type": "code",
      "metadata": {
        "id": "vPM2ppiSyNnC"
      },
      "source": [
        "def get_cv_error_knn(k, p, features=None):\n",
        "  print(k, p)\n",
        "  pipeline = make_pipeline(\n",
        "      KNeighborsClassifier(n_neighbors=k, p=p)\n",
        "  )\n",
        "\n",
        "  if features != None:\n",
        "    cv_errs = cross_val_score(pipeline, X=X_train[features], \n",
        "                              y=y_train,\n",
        "                              scoring='accuracy', cv=10)\n",
        "  else:\n",
        "    cv_errs = cross_val_score(pipeline, X=X_train, \n",
        "                              y=y_train,\n",
        "                              scoring='accuracy', cv=10)\n",
        "    \n",
        "  return cv_errs.mean()"
      ],
      "execution_count": 30,
      "outputs": []
    },
    {
      "cell_type": "code",
      "metadata": {
        "id": "cYFgOp4Xyjkv",
        "colab": {
          "base_uri": "https://localhost:8080/",
          "height": 1000
        },
        "outputId": "350ef50f-6c6a-406b-f6bc-d36adca710ff"
      },
      "source": [
        "k_vals = {}\n",
        "for i in range(1,31):\n",
        "  k_vals[i] = get_cv_error_knn(i, 2)\n",
        "\n",
        "test_errs_kvals = pd.Series(k_vals)\n",
        "\n",
        "test_errs_kvals.plot.line()\n",
        "test_errs_kvals.sort_values()"
      ],
      "execution_count": 31,
      "outputs": [
        {
          "output_type": "stream",
          "text": [
            "1 2\n",
            "2 2\n",
            "3 2\n",
            "4 2\n",
            "5 2\n",
            "6 2\n",
            "7 2\n",
            "8 2\n",
            "9 2\n",
            "10 2\n",
            "11 2\n",
            "12 2\n",
            "13 2\n",
            "14 2\n",
            "15 2\n",
            "16 2\n",
            "17 2\n",
            "18 2\n",
            "19 2\n",
            "20 2\n",
            "21 2\n",
            "22 2\n",
            "23 2\n",
            "24 2\n",
            "25 2\n",
            "26 2\n",
            "27 2\n",
            "28 2\n",
            "29 2\n",
            "30 2\n"
          ],
          "name": "stdout"
        },
        {
          "output_type": "execute_result",
          "data": {
            "text/plain": [
              "7     0.743333\n",
              "12    0.745952\n",
              "10    0.746190\n",
              "1     0.746905\n",
              "8     0.748571\n",
              "9     0.748810\n",
              "6     0.749048\n",
              "5     0.749286\n",
              "2     0.750476\n",
              "11    0.750952\n",
              "14    0.752381\n",
              "4     0.753333\n",
              "13    0.755000\n",
              "16    0.755238\n",
              "3     0.755714\n",
              "23    0.756905\n",
              "15    0.757619\n",
              "17    0.759524\n",
              "27    0.759762\n",
              "18    0.760000\n",
              "30    0.760238\n",
              "21    0.760476\n",
              "28    0.760714\n",
              "26    0.760952\n",
              "25    0.761429\n",
              "24    0.762381\n",
              "29    0.762619\n",
              "22    0.763095\n",
              "19    0.764762\n",
              "20    0.764762\n",
              "dtype: float64"
            ]
          },
          "metadata": {
            "tags": []
          },
          "execution_count": 31
        },
        {
          "output_type": "display_data",
          "data": {
            "image/png": "[encoded data removed]",
            "text/plain": [
              "<Figure size 432x288 with 1 Axes>"
            ]
          },
          "metadata": {
            "tags": [],
            "needs_background": "light"
          }
        }
      ]
    },
    {
      "cell_type": "code",
      "metadata": {
        "id": "1k1Jw3t41_1L",
        "colab": {
          "base_uri": "https://localhost:8080/",
          "height": 589
        },
        "outputId": "2eeba4f0-fa6e-4d4d-ac2b-8162d64a9187"
      },
      "source": [
        "p_vals = {}\n",
        "for i in range(2,11):\n",
        "  p_vals[i] = get_cv_error_knn(test_errs_kvals.idxmax(),i)\n",
        "\n",
        "test_errs_pvals = pd.Series(p_vals)\n",
        "\n",
        "test_errs_pvals.plot.line()\n",
        "test_errs_pvals.sort_values()"
      ],
      "execution_count": 32,
      "outputs": [
        {
          "output_type": "stream",
          "text": [
            "19 2\n",
            "19 3\n",
            "19 4\n",
            "19 5\n",
            "19 6\n",
            "19 7\n",
            "19 8\n",
            "19 9\n",
            "19 10\n"
          ],
          "name": "stdout"
        },
        {
          "output_type": "execute_result",
          "data": {
            "text/plain": [
              "10    0.757619\n",
              "7     0.759524\n",
              "8     0.759524\n",
              "9     0.759762\n",
              "6     0.761905\n",
              "5     0.762381\n",
              "3     0.762857\n",
              "2     0.764762\n",
              "4     0.764762\n",
              "dtype: float64"
            ]
          },
          "metadata": {
            "tags": []
          },
          "execution_count": 32
        },
        {
          "output_type": "display_data",
          "data": {
            "image/png": "[encoded data removed]",
            "text/plain": [
              "<Figure size 432x288 with 1 Axes>"
            ]
          },
          "metadata": {
            "tags": [],
            "needs_background": "light"
          }
        }
      ]
    },
    {
      "cell_type": "code",
      "metadata": {
        "colab": {
          "base_uri": "https://localhost:8080/"
        },
        "id": "y6eXlYTkz3-c",
        "outputId": "8edb0657-7829-49e2-b1a8-e71cd7ed551a"
      },
      "source": [
        "best_knn = KNeighborsClassifier(n_neighbors=test_errs_kvals.idxmax(), p=test_errs_pvals.idxmax())\n",
        "best_knn.fit(X_train, y_train)\n",
        "\n",
        "y_pred = best_knn.predict(X_test)\n",
        "print(classification_report(y_test, y_pred))"
      ],
      "execution_count": 33,
      "outputs": [
        {
          "output_type": "stream",
          "text": [
            "              precision    recall  f1-score   support\n",
            "\n",
            "         MD5       1.00      1.00      1.00       251\n",
            "       SHA-1       1.00      1.00      1.00       269\n",
            "     SHA-256       0.51      0.47      0.49       265\n",
            "   SHA-3-256       0.51      0.55      0.53       265\n",
            "\n",
            "    accuracy                           0.75      1050\n",
            "   macro avg       0.75      0.75      0.75      1050\n",
            "weighted avg       0.75      0.75      0.75      1050\n",
            "\n"
          ],
          "name": "stdout"
        }
      ]
    },
    {
      "cell_type": "code",
      "metadata": {
        "colab": {
          "base_uri": "https://localhost:8080/"
        },
        "id": "cX7EBAsP1T5J",
        "outputId": "32b3b000-8714-4a0d-f484-bd7327cf32e6"
      },
      "source": [
        "classification_report(y_test, y_pred, output_dict=True)"
      ],
      "execution_count": 34,
      "outputs": [
        {
          "output_type": "execute_result",
          "data": {
            "text/plain": [
              "{'MD5': {'f1-score': 1.0, 'precision': 1.0, 'recall': 1.0, 'support': 251},\n",
              " 'SHA-1': {'f1-score': 0.9981378026070763,\n",
              "  'precision': 1.0,\n",
              "  'recall': 0.9962825278810409,\n",
              "  'support': 269},\n",
              " 'SHA-256': {'f1-score': 0.48722986247544203,\n",
              "  'precision': 0.5081967213114754,\n",
              "  'recall': 0.4679245283018868,\n",
              "  'support': 265},\n",
              " 'SHA-3-256': {'f1-score': 0.5253623188405796,\n",
              "  'precision': 0.5052264808362369,\n",
              "  'recall': 0.5471698113207547,\n",
              "  'support': 265},\n",
              " 'accuracy': 0.7504761904761905,\n",
              " 'macro avg': {'f1-score': 0.7526824959807744,\n",
              "  'precision': 0.7533558005369281,\n",
              "  'recall': 0.7528442168759206,\n",
              "  'support': 1050},\n",
              " 'weighted avg': {'f1-score': 0.7503199970952851,\n",
              "  'precision': 0.7510068081610893,\n",
              "  'recall': 0.7504761904761905,\n",
              "  'support': 1050}}"
            ]
          },
          "metadata": {
            "tags": []
          },
          "execution_count": 34
        }
      ]
    },
    {
      "cell_type": "markdown",
      "metadata": {
        "id": "QUxnR_vu0XEn"
      },
      "source": [
        "Rather than doing standard feature selection, we decided to run permutation based feature importance on the full model above and remove the features that were least important iteratively until we arrived at a final reduced model."
      ]
    },
    {
      "cell_type": "code",
      "metadata": {
        "colab": {
          "base_uri": "https://localhost:8080/"
        },
        "id": "smAZiTWl1wD5",
        "outputId": "6b3832b6-8bab-45cf-e228-dcfe7c3333ca"
      },
      "source": [
        "r = permutation_importance(best_knn, X_test, y_test, n_repeats=3)\n",
        "r"
      ],
      "execution_count": 35,
      "outputs": [
        {
          "output_type": "execute_result",
          "data": {
            "text/plain": [
              "{'importances': array([[ 0.00761905,  0.00952381,  0.00857143],\n",
              "        [ 0.        ,  0.        ,  0.        ],\n",
              "        [ 0.11333333,  0.10380952,  0.11619048],\n",
              "        [ 0.1152381 ,  0.11809524,  0.11904762],\n",
              "        [ 0.48952381,  0.49619048,  0.49619048],\n",
              "        [-0.00380952, -0.00095238,  0.        ],\n",
              "        [ 0.00285714,  0.00285714,  0.00285714],\n",
              "        [-0.0047619 , -0.00380952, -0.00380952],\n",
              "        [ 0.00285714,  0.00190476,  0.00095238],\n",
              "        [-0.00095238,  0.00095238,  0.00095238],\n",
              "        [ 0.        ,  0.        ,  0.        ],\n",
              "        [ 0.00380952,  0.0047619 ,  0.00285714],\n",
              "        [ 0.        ,  0.        ,  0.        ],\n",
              "        [ 0.        ,  0.        ,  0.        ],\n",
              "        [ 0.        ,  0.        ,  0.        ],\n",
              "        [ 0.        ,  0.        ,  0.        ],\n",
              "        [ 0.        ,  0.        ,  0.        ],\n",
              "        [-0.00190476, -0.00190476, -0.00380952],\n",
              "        [-0.00190476,  0.        , -0.00095238],\n",
              "        [ 0.00095238,  0.00095238,  0.00095238],\n",
              "        [ 0.00095238,  0.00095238,  0.00095238],\n",
              "        [-0.00095238, -0.00095238, -0.00095238],\n",
              "        [ 0.        ,  0.        ,  0.00095238],\n",
              "        [ 0.00095238,  0.00095238,  0.00095238],\n",
              "        [ 0.        ,  0.        ,  0.        ],\n",
              "        [ 0.        ,  0.        ,  0.        ],\n",
              "        [ 0.00095238,  0.        ,  0.        ],\n",
              "        [ 0.        ,  0.        ,  0.        ],\n",
              "        [ 0.        ,  0.        ,  0.        ],\n",
              "        [ 0.        ,  0.        ,  0.        ],\n",
              "        [ 0.        ,  0.        ,  0.        ],\n",
              "        [ 0.        ,  0.        ,  0.        ],\n",
              "        [ 0.        ,  0.        ,  0.        ],\n",
              "        [ 0.        ,  0.        ,  0.        ],\n",
              "        [ 0.        ,  0.        ,  0.        ],\n",
              "        [ 0.        ,  0.        ,  0.        ],\n",
              "        [ 0.        ,  0.        ,  0.        ],\n",
              "        [ 0.        ,  0.        ,  0.        ],\n",
              "        [ 0.        ,  0.        ,  0.        ],\n",
              "        [ 0.        ,  0.        ,  0.        ],\n",
              "        [ 0.        , -0.00190476, -0.00285714],\n",
              "        [ 0.        ,  0.        ,  0.        ],\n",
              "        [ 0.00380952,  0.00285714,  0.00285714],\n",
              "        [ 0.00285714,  0.00761905,  0.0047619 ],\n",
              "        [ 0.        ,  0.        ,  0.        ],\n",
              "        [ 0.        ,  0.        ,  0.        ],\n",
              "        [ 0.        ,  0.        ,  0.        ],\n",
              "        [ 0.        ,  0.        ,  0.        ],\n",
              "        [ 0.        ,  0.        ,  0.        ],\n",
              "        [ 0.        ,  0.        ,  0.        ],\n",
              "        [ 0.        ,  0.        ,  0.        ],\n",
              "        [ 0.        ,  0.        ,  0.        ],\n",
              "        [ 0.        ,  0.        ,  0.        ],\n",
              "        [ 0.        ,  0.        ,  0.        ],\n",
              "        [ 0.        ,  0.        ,  0.        ],\n",
              "        [ 0.        ,  0.        ,  0.        ],\n",
              "        [ 0.        ,  0.        ,  0.        ],\n",
              "        [ 0.        ,  0.        ,  0.        ],\n",
              "        [ 0.        ,  0.        ,  0.        ],\n",
              "        [ 0.        ,  0.        ,  0.        ],\n",
              "        [ 0.        ,  0.        ,  0.        ],\n",
              "        [ 0.        ,  0.        ,  0.        ],\n",
              "        [ 0.        ,  0.        ,  0.        ],\n",
              "        [ 0.        ,  0.        ,  0.        ],\n",
              "        [ 0.        ,  0.        ,  0.        ],\n",
              "        [ 0.        ,  0.        ,  0.        ],\n",
              "        [ 0.        ,  0.        ,  0.        ],\n",
              "        [ 0.        ,  0.        ,  0.        ],\n",
              "        [ 0.        ,  0.        ,  0.        ],\n",
              "        [ 0.        ,  0.        ,  0.        ],\n",
              "        [ 0.        ,  0.        ,  0.        ],\n",
              "        [ 0.        ,  0.        ,  0.        ],\n",
              "        [ 0.        ,  0.        ,  0.        ],\n",
              "        [ 0.        ,  0.        ,  0.        ],\n",
              "        [ 0.        ,  0.        ,  0.        ],\n",
              "        [ 0.        ,  0.        ,  0.        ],\n",
              "        [ 0.        ,  0.        ,  0.        ],\n",
              "        [ 0.        ,  0.        ,  0.        ],\n",
              "        [ 0.        ,  0.        ,  0.        ],\n",
              "        [ 0.        ,  0.        ,  0.        ],\n",
              "        [ 0.        ,  0.        ,  0.        ],\n",
              "        [ 0.        ,  0.        ,  0.        ],\n",
              "        [ 0.        ,  0.        , -0.00095238],\n",
              "        [ 0.        ,  0.        ,  0.        ],\n",
              "        [ 0.        ,  0.        ,  0.        ],\n",
              "        [ 0.        ,  0.        ,  0.        ],\n",
              "        [ 0.        ,  0.        ,  0.        ],\n",
              "        [ 0.        ,  0.        ,  0.        ],\n",
              "        [ 0.        ,  0.        ,  0.        ],\n",
              "        [ 0.        ,  0.        ,  0.        ],\n",
              "        [ 0.        ,  0.        ,  0.        ],\n",
              "        [-0.0047619 ,  0.        ,  0.        ],\n",
              "        [ 0.00666667, -0.00095238,  0.00285714]]),\n",
              " 'importances_mean': array([ 8.57142857e-03,  0.00000000e+00,  1.11111111e-01,  1.17460317e-01,\n",
              "         4.93968254e-01, -1.58730159e-03,  2.85714286e-03, -4.12698413e-03,\n",
              "         1.90476190e-03,  3.17460317e-04,  0.00000000e+00,  3.80952381e-03,\n",
              "         0.00000000e+00,  0.00000000e+00,  0.00000000e+00,  0.00000000e+00,\n",
              "         0.00000000e+00, -2.53968254e-03, -9.52380952e-04,  9.52380952e-04,\n",
              "         9.52380952e-04, -9.52380952e-04,  3.17460317e-04,  9.52380952e-04,\n",
              "         0.00000000e+00,  0.00000000e+00,  3.17460317e-04,  0.00000000e+00,\n",
              "         0.00000000e+00,  0.00000000e+00,  0.00000000e+00,  0.00000000e+00,\n",
              "         0.00000000e+00,  0.00000000e+00,  0.00000000e+00,  0.00000000e+00,\n",
              "         0.00000000e+00,  0.00000000e+00,  0.00000000e+00,  0.00000000e+00,\n",
              "        -1.58730159e-03,  0.00000000e+00,  3.17460317e-03,  5.07936508e-03,\n",
              "         0.00000000e+00,  0.00000000e+00,  0.00000000e+00,  0.00000000e+00,\n",
              "         0.00000000e+00,  0.00000000e+00,  0.00000000e+00,  0.00000000e+00,\n",
              "         0.00000000e+00,  0.00000000e+00,  0.00000000e+00,  0.00000000e+00,\n",
              "         0.00000000e+00,  0.00000000e+00,  0.00000000e+00,  0.00000000e+00,\n",
              "         0.00000000e+00,  0.00000000e+00,  0.00000000e+00,  0.00000000e+00,\n",
              "         0.00000000e+00,  0.00000000e+00,  0.00000000e+00,  0.00000000e+00,\n",
              "         0.00000000e+00,  0.00000000e+00,  0.00000000e+00,  0.00000000e+00,\n",
              "         0.00000000e+00,  0.00000000e+00,  0.00000000e+00,  0.00000000e+00,\n",
              "         0.00000000e+00,  0.00000000e+00,  0.00000000e+00,  0.00000000e+00,\n",
              "         0.00000000e+00,  0.00000000e+00, -3.17460317e-04,  0.00000000e+00,\n",
              "         0.00000000e+00,  0.00000000e+00,  0.00000000e+00,  0.00000000e+00,\n",
              "         0.00000000e+00,  0.00000000e+00,  0.00000000e+00, -1.58730159e-03,\n",
              "         2.85714286e-03]),\n",
              " 'importances_std': array([0.00077762, 0.        , 0.00529312, 0.00161874, 0.0031427 ,\n",
              "        0.00161874, 0.        , 0.00044896, 0.00077762, 0.00089791,\n",
              "        0.        , 0.00077762, 0.        , 0.        , 0.        ,\n",
              "        0.        , 0.        , 0.00089791, 0.00077762, 0.        ,\n",
              "        0.        , 0.        , 0.00044896, 0.        , 0.        ,\n",
              "        0.        , 0.00044896, 0.        , 0.        , 0.        ,\n",
              "        0.        , 0.        , 0.        , 0.        , 0.        ,\n",
              "        0.        , 0.        , 0.        , 0.        , 0.        ,\n",
              "        0.00118783, 0.        , 0.00044896, 0.00195696, 0.        ,\n",
              "        0.        , 0.        , 0.        , 0.        , 0.        ,\n",
              "        0.        , 0.        , 0.        , 0.        , 0.        ,\n",
              "        0.        , 0.        , 0.        , 0.        , 0.        ,\n",
              "        0.        , 0.        , 0.        , 0.        , 0.        ,\n",
              "        0.        , 0.        , 0.        , 0.        , 0.        ,\n",
              "        0.        , 0.        , 0.        , 0.        , 0.        ,\n",
              "        0.        , 0.        , 0.        , 0.        , 0.        ,\n",
              "        0.        , 0.        , 0.00044896, 0.        , 0.        ,\n",
              "        0.        , 0.        , 0.        , 0.        , 0.        ,\n",
              "        0.        , 0.00224478, 0.00311046])}"
            ]
          },
          "metadata": {
            "tags": []
          },
          "execution_count": 35
        }
      ]
    },
    {
      "cell_type": "code",
      "metadata": {
        "colab": {
          "base_uri": "https://localhost:8080/"
        },
        "id": "k8CBzuf92lrC",
        "outputId": "a6731715-4b3f-46e3-b314-d889ca996ed1"
      },
      "source": [
        "cols = []\n",
        "for i in r.importances_mean.argsort()[::-1]:\n",
        "  if r.importances_mean[i] - 2 * r.importances_std[i] > 0:\n",
        "    print(f\"{X_train.columns[i]:<8}\"\n",
        "    f\"{r.importances_mean[i]:.3f}\"\n",
        "    f\" +/- {r.importances_std[i]:.3f}\")\n",
        "    cols.append(i)"
      ],
      "execution_count": 36,
      "outputs": [
        {
          "output_type": "stream",
          "text": [
            "hash len bits0.494 +/- 0.003\n",
            "hash 1 bits0.117 +/- 0.002\n",
            "hash 0 bits0.111 +/- 0.005\n",
            "consecutiveCount0.009 +/- 0.001\n",
            "consecutiveByte_b'\\x01'0.005 +/- 0.002\n",
            "consecutiveByte_b' '0.004 +/- 0.001\n",
            "consecutiveByte_b'\\x00'0.003 +/- 0.000\n",
            "file type_.jpg0.003 +/- 0.000\n",
            "file type_.pdf0.002 +/- 0.001\n",
            "consecutiveByte_b'6'0.001 +/- 0.000\n",
            "consecutiveByte_b'3'0.001 +/- 0.000\n",
            "consecutiveByte_b'2'0.001 +/- 0.000\n"
          ],
          "name": "stdout"
        }
      ]
    },
    {
      "cell_type": "markdown",
      "metadata": {
        "id": "gbi3o8Fv4n57"
      },
      "source": [
        "So, we should include those features (and features related to them, like common dummy variables) in the reduced model."
      ]
    },
    {
      "cell_type": "code",
      "metadata": {
        "id": "SG8ChGaX-XzL",
        "colab": {
          "base_uri": "https://localhost:8080/"
        },
        "outputId": "2546e899-3e29-4087-880e-4b6c2b8b6e7c"
      },
      "source": [
        "cols = list(set(cols).union(set(range(10,91))))\n",
        "X_train.columns[cols]"
      ],
      "execution_count": 37,
      "outputs": [
        {
          "output_type": "execute_result",
          "data": {
            "text/plain": [
              "Index(['consecutiveCount', 'hash 0 bits', 'hash 1 bits', 'hash len bits',\n",
              "       'file type_.jpg', 'file type_.pdf', 'consecutiveByte_b\"'\"',\n",
              "       'consecutiveByte_b' '', 'consecutiveByte_b'!'', 'consecutiveByte_b'\"'',\n",
              "       'consecutiveByte_b'('', 'consecutiveByte_b'-'', 'consecutiveByte_b'.'',\n",
              "       'consecutiveByte_b'0'', 'consecutiveByte_b'1'', 'consecutiveByte_b'2'',\n",
              "       'consecutiveByte_b'3'', 'consecutiveByte_b'4'', 'consecutiveByte_b'5'',\n",
              "       'consecutiveByte_b'6'', 'consecutiveByte_b'7'', 'consecutiveByte_b'8'',\n",
              "       'consecutiveByte_b'9'', 'consecutiveByte_b';'', 'consecutiveByte_b'>'',\n",
              "       'consecutiveByte_b'?'', 'consecutiveByte_b'@'', 'consecutiveByte_b'A'',\n",
              "       'consecutiveByte_b'B'', 'consecutiveByte_b'D'', 'consecutiveByte_b'O'',\n",
              "       'consecutiveByte_b'P'', 'consecutiveByte_b'Q'', 'consecutiveByte_b'U'',\n",
              "       'consecutiveByte_b'Y'', 'consecutiveByte_b'\\\\'',\n",
              "       'consecutiveByte_b'\\n'', 'consecutiveByte_b'\\r'',\n",
              "       'consecutiveByte_b'\\x00'', 'consecutiveByte_b'\\x01'',\n",
              "       'consecutiveByte_b'\\x02'', 'consecutiveByte_b'\\x03'',\n",
              "       'consecutiveByte_b'\\x08'', 'consecutiveByte_b'\\x0b'',\n",
              "       'consecutiveByte_b'\\x0c'', 'consecutiveByte_b'\\x0f'',\n",
              "       'consecutiveByte_b'\\x10'', 'consecutiveByte_b'\\x11'',\n",
              "       'consecutiveByte_b'\\x14'', 'consecutiveByte_b'\\x16'',\n",
              "       'consecutiveByte_b'\\x1a'', 'consecutiveByte_b'\\x1e'',\n",
              "       'consecutiveByte_b'\\x82'', 'consecutiveByte_b'\\x83'',\n",
              "       'consecutiveByte_b'\\x84'', 'consecutiveByte_b'\\x88'',\n",
              "       'consecutiveByte_b'\\x8a'', 'consecutiveByte_b'\\x8f'',\n",
              "       'consecutiveByte_b'\\x91'', 'consecutiveByte_b'\\x92'',\n",
              "       'consecutiveByte_b'\\x9e'', 'consecutiveByte_b'\\xa3'',\n",
              "       'consecutiveByte_b'\\xa4'', 'consecutiveByte_b'\\xa5'',\n",
              "       'consecutiveByte_b'\\xaa'', 'consecutiveByte_b'\\xb3'',\n",
              "       'consecutiveByte_b'\\xd1'', 'consecutiveByte_b'\\xdd'',\n",
              "       'consecutiveByte_b'\\xe7'', 'consecutiveByte_b'\\xee'',\n",
              "       'consecutiveByte_b'\\xf4'', 'consecutiveByte_b'\\xf5'',\n",
              "       'consecutiveByte_b'\\xff'', 'consecutiveByte_b'_'',\n",
              "       'consecutiveByte_b'a'', 'consecutiveByte_b'b'', 'consecutiveByte_b'c'',\n",
              "       'consecutiveByte_b'd'', 'consecutiveByte_b'e'', 'consecutiveByte_b'f'',\n",
              "       'consecutiveByte_b'h'', 'consecutiveByte_b'i'', 'consecutiveByte_b'o'',\n",
              "       'consecutiveByte_b'p'', 'consecutiveByte_b's'', 'consecutiveByte_b'w'',\n",
              "       'consecutiveByte_b'~''],\n",
              "      dtype='object')"
            ]
          },
          "metadata": {
            "tags": []
          },
          "execution_count": 37
        }
      ]
    },
    {
      "cell_type": "code",
      "metadata": {
        "id": "rKkC9b1G6Bi3",
        "colab": {
          "base_uri": "https://localhost:8080/"
        },
        "outputId": "11aa6417-3ad1-49e1-ef95-1d418b4c1f52"
      },
      "source": [
        "X_train2 = X_train.iloc[:, cols]\n",
        "X_test2 = X_test.iloc[:, cols]\n",
        "\n",
        "best_knn = KNeighborsClassifier(n_neighbors=test_errs_kvals.idxmax(), p=test_errs_pvals.idxmax())\n",
        "best_knn.fit(X_train2, y_train)\n",
        "\n",
        "y_pred = best_knn.predict(X_test2)\n",
        "classification_report(y_test, y_pred, output_dict=True)"
      ],
      "execution_count": 38,
      "outputs": [
        {
          "output_type": "execute_result",
          "data": {
            "text/plain": [
              "{'MD5': {'f1-score': 1.0, 'precision': 1.0, 'recall': 1.0, 'support': 251},\n",
              " 'SHA-1': {'f1-score': 1.0, 'precision': 1.0, 'recall': 1.0, 'support': 269},\n",
              " 'SHA-256': {'f1-score': 0.5058823529411764,\n",
              "  'precision': 0.5265306122448979,\n",
              "  'recall': 0.4867924528301887,\n",
              "  'support': 265},\n",
              " 'SHA-3-256': {'f1-score': 0.5418181818181819,\n",
              "  'precision': 0.5228070175438596,\n",
              "  'recall': 0.5622641509433962,\n",
              "  'support': 265},\n",
              " 'accuracy': 0.76,\n",
              " 'macro avg': {'f1-score': 0.7619251336898396,\n",
              "  'precision': 0.7623344074471894,\n",
              "  'recall': 0.7622641509433963,\n",
              "  'support': 1050},\n",
              " 'weighted avg': {'f1-score': 0.7596577540106951,\n",
              "  'precision': 0.760070925613353,\n",
              "  'recall': 0.76,\n",
              "  'support': 1050}}"
            ]
          },
          "metadata": {
            "tags": []
          },
          "execution_count": 38
        }
      ]
    },
    {
      "cell_type": "markdown",
      "metadata": {
        "id": "NYiHF9N189mR"
      },
      "source": [
        "This actually increased our F-1 score while having less features! Definitely better than the previous model. Running feature importance again:"
      ]
    },
    {
      "cell_type": "code",
      "metadata": {
        "id": "2Vno28jw9Wi_",
        "colab": {
          "base_uri": "https://localhost:8080/"
        },
        "outputId": "17aba4e7-49bb-431d-be10-870d6df6a552"
      },
      "source": [
        "r = permutation_importance(best_knn, X_test2, y_test, n_repeats=3)\n",
        "\n",
        "cols = []\n",
        "for i in r.importances_mean.argsort()[::-1]:\n",
        "  if r.importances_mean[i] - 2 * r.importances_std[i] > 0:\n",
        "    print(f\"{X_train2.columns[i]:<8}\"\n",
        "    f\"{r.importances_mean[i]:.3f}\"\n",
        "    f\" +/- {r.importances_std[i]:.3f}\")\n",
        "    cols.append(i)"
      ],
      "execution_count": 39,
      "outputs": [
        {
          "output_type": "stream",
          "text": [
            "hash len bits0.494 +/- 0.010\n",
            "hash 0 bits0.129 +/- 0.011\n",
            "hash 1 bits0.126 +/- 0.011\n",
            "consecutiveByte_b'\\n'0.006 +/- 0.003\n",
            "consecutiveByte_b'\\x01'0.004 +/- 0.002\n",
            "consecutiveByte_b'\\x00'0.004 +/- 0.001\n",
            "consecutiveByte_b'2'0.001 +/- 0.000\n",
            "consecutiveByte_b'6'0.001 +/- 0.000\n"
          ],
          "name": "stdout"
        }
      ]
    },
    {
      "cell_type": "markdown",
      "metadata": {
        "id": "jTRaf9iP9okd"
      },
      "source": [
        "It seems like all the features mentioned earlier are still significant. Therefore, we have found our most reduced model. As an aside, let's see what would happen in 2 cases: (a) where we include the PCA components, and (b) where our model only includes the length of the hash."
      ]
    },
    {
      "cell_type": "code",
      "metadata": {
        "id": "Nlq_E_dj9juq",
        "colab": {
          "base_uri": "https://localhost:8080/"
        },
        "outputId": "e438a7dc-84ed-46c4-f5be-ed266f50d07e"
      },
      "source": [
        "X_train3 = X_train2.join(X_train.iloc[:, [91,92]])\n",
        "X_test3 = X_test2.join(X_test.iloc[:, [91,92]])\n",
        "\n",
        "best_knn = KNeighborsClassifier(n_neighbors=test_errs_kvals.idxmax(), p=test_errs_pvals.idxmax())\n",
        "best_knn.fit(X_train3, y_train)\n",
        "\n",
        "y_pred = best_knn.predict(X_test3)\n",
        "classification_report(y_test, y_pred, output_dict=True)"
      ],
      "execution_count": 40,
      "outputs": [
        {
          "output_type": "execute_result",
          "data": {
            "text/plain": [
              "{'MD5': {'f1-score': 1.0, 'precision': 1.0, 'recall': 1.0, 'support': 251},\n",
              " 'SHA-1': {'f1-score': 0.9981378026070763,\n",
              "  'precision': 1.0,\n",
              "  'recall': 0.9962825278810409,\n",
              "  'support': 269},\n",
              " 'SHA-256': {'f1-score': 0.4741035856573705,\n",
              "  'precision': 0.5021097046413502,\n",
              "  'recall': 0.4490566037735849,\n",
              "  'support': 265},\n",
              " 'SHA-3-256': {'f1-score': 0.5259391771019677,\n",
              "  'precision': 0.5,\n",
              "  'recall': 0.5547169811320755,\n",
              "  'support': 265},\n",
              " 'accuracy': 0.7476190476190476,\n",
              " 'macro avg': {'f1-score': 0.7495451413416037,\n",
              "  'precision': 0.7505274261603375,\n",
              "  'recall': 0.7500140281966754,\n",
              "  'support': 1050},\n",
              " 'weighted avg': {'f1-score': 0.7471527628881219,\n",
              "  'precision': 0.7481514968856742,\n",
              "  'recall': 0.7476190476190476,\n",
              "  'support': 1050}}"
            ]
          },
          "metadata": {
            "tags": []
          },
          "execution_count": 40
        }
      ]
    },
    {
      "cell_type": "markdown",
      "metadata": {
        "id": "LJ0xbw1uCX08"
      },
      "source": [
        "Adding the principal components of the file distribution of bytes leads to a slightly lower f-1 score. Even if the decrease is insignificant, we prefer models with less features, so the earlier model is still better."
      ]
    },
    {
      "cell_type": "code",
      "metadata": {
        "id": "wwE8Uchy03Tj",
        "colab": {
          "base_uri": "https://localhost:8080/"
        },
        "outputId": "e8152077-9413-41ca-97f2-c7eb2fec45bd"
      },
      "source": [
        "X_train4 = X_train[['hash len']]\n",
        "X_test4 = X_test[['hash len']]\n",
        "\n",
        "best_knn = KNeighborsClassifier(n_neighbors=test_errs_kvals.idxmax(), p=test_errs_pvals.idxmax())\n",
        "best_knn.fit(X_train4, y_train)\n",
        "\n",
        "y_pred = best_knn.predict(X_test4)\n",
        "classification_report(y_test, y_pred, output_dict=True)"
      ],
      "execution_count": 41,
      "outputs": [
        {
          "output_type": "execute_result",
          "data": {
            "text/plain": [
              "{'MD5': {'f1-score': 1.0, 'precision': 1.0, 'recall': 1.0, 'support': 251},\n",
              " 'SHA-1': {'f1-score': 1.0, 'precision': 1.0, 'recall': 1.0, 'support': 269},\n",
              " 'SHA-256': {'f1-score': 0.6666666666666666,\n",
              "  'precision': 0.5,\n",
              "  'recall': 1.0,\n",
              "  'support': 265},\n",
              " 'SHA-3-256': {'f1-score': 0.0,\n",
              "  'precision': 0.0,\n",
              "  'recall': 0.0,\n",
              "  'support': 265},\n",
              " 'accuracy': 0.7476190476190476,\n",
              " 'macro avg': {'f1-score': 0.6666666666666666,\n",
              "  'precision': 0.625,\n",
              "  'recall': 0.75,\n",
              "  'support': 1050},\n",
              " 'weighted avg': {'f1-score': 0.6634920634920635,\n",
              "  'precision': 0.6214285714285714,\n",
              "  'recall': 0.7476190476190476,\n",
              "  'support': 1050}}"
            ]
          },
          "metadata": {
            "tags": []
          },
          "execution_count": 41
        }
      ]
    },
    {
      "cell_type": "markdown",
      "metadata": {
        "id": "tO-jb9IGCxXg"
      },
      "source": [
        "Predicting only on the hash length significantly decreases the f1-score. Therefore, only predicting on the hash length does not yield an appropriate model."
      ]
    },
    {
      "cell_type": "markdown",
      "metadata": {
        "id": "ePuWVDBnDlM9"
      },
      "source": [
        "Finally, we consider how much better our model does than a model which would randomly guess:"
      ]
    },
    {
      "cell_type": "code",
      "metadata": {
        "colab": {
          "base_uri": "https://localhost:8080/"
        },
        "id": "0mDWOjwg-ruI",
        "outputId": "d1ca3214-7865-426e-da9f-b8636cd89ba6"
      },
      "source": [
        "cols = list(range(0, 5))\n",
        "cols.extend([i for i in range(10, 91)])\n",
        "X_train.columns[cols]"
      ],
      "execution_count": 42,
      "outputs": [
        {
          "output_type": "execute_result",
          "data": {
            "text/plain": [
              "Index(['consecutiveCount', 'hash len', 'hash 0 bits', 'hash 1 bits',\n",
              "       'hash len bits', 'consecutiveByte_b\"'\"', 'consecutiveByte_b' '',\n",
              "       'consecutiveByte_b'!'', 'consecutiveByte_b'\"'', 'consecutiveByte_b'('',\n",
              "       'consecutiveByte_b'-'', 'consecutiveByte_b'.'', 'consecutiveByte_b'0'',\n",
              "       'consecutiveByte_b'1'', 'consecutiveByte_b'2'', 'consecutiveByte_b'3'',\n",
              "       'consecutiveByte_b'4'', 'consecutiveByte_b'5'', 'consecutiveByte_b'6'',\n",
              "       'consecutiveByte_b'7'', 'consecutiveByte_b'8'', 'consecutiveByte_b'9'',\n",
              "       'consecutiveByte_b';'', 'consecutiveByte_b'>'', 'consecutiveByte_b'?'',\n",
              "       'consecutiveByte_b'@'', 'consecutiveByte_b'A'', 'consecutiveByte_b'B'',\n",
              "       'consecutiveByte_b'D'', 'consecutiveByte_b'O'', 'consecutiveByte_b'P'',\n",
              "       'consecutiveByte_b'Q'', 'consecutiveByte_b'U'', 'consecutiveByte_b'Y'',\n",
              "       'consecutiveByte_b'\\\\'', 'consecutiveByte_b'\\n'',\n",
              "       'consecutiveByte_b'\\r'', 'consecutiveByte_b'\\x00'',\n",
              "       'consecutiveByte_b'\\x01'', 'consecutiveByte_b'\\x02'',\n",
              "       'consecutiveByte_b'\\x03'', 'consecutiveByte_b'\\x08'',\n",
              "       'consecutiveByte_b'\\x0b'', 'consecutiveByte_b'\\x0c'',\n",
              "       'consecutiveByte_b'\\x0f'', 'consecutiveByte_b'\\x10'',\n",
              "       'consecutiveByte_b'\\x11'', 'consecutiveByte_b'\\x14'',\n",
              "       'consecutiveByte_b'\\x16'', 'consecutiveByte_b'\\x1a'',\n",
              "       'consecutiveByte_b'\\x1e'', 'consecutiveByte_b'\\x82'',\n",
              "       'consecutiveByte_b'\\x83'', 'consecutiveByte_b'\\x84'',\n",
              "       'consecutiveByte_b'\\x88'', 'consecutiveByte_b'\\x8a'',\n",
              "       'consecutiveByte_b'\\x8f'', 'consecutiveByte_b'\\x91'',\n",
              "       'consecutiveByte_b'\\x92'', 'consecutiveByte_b'\\x9e'',\n",
              "       'consecutiveByte_b'\\xa3'', 'consecutiveByte_b'\\xa4'',\n",
              "       'consecutiveByte_b'\\xa5'', 'consecutiveByte_b'\\xaa'',\n",
              "       'consecutiveByte_b'\\xb3'', 'consecutiveByte_b'\\xd1'',\n",
              "       'consecutiveByte_b'\\xdd'', 'consecutiveByte_b'\\xe7'',\n",
              "       'consecutiveByte_b'\\xee'', 'consecutiveByte_b'\\xf4'',\n",
              "       'consecutiveByte_b'\\xf5'', 'consecutiveByte_b'\\xff'',\n",
              "       'consecutiveByte_b'_'', 'consecutiveByte_b'a'', 'consecutiveByte_b'b'',\n",
              "       'consecutiveByte_b'c'', 'consecutiveByte_b'd'', 'consecutiveByte_b'e'',\n",
              "       'consecutiveByte_b'f'', 'consecutiveByte_b'h'', 'consecutiveByte_b'i'',\n",
              "       'consecutiveByte_b'o'', 'consecutiveByte_b'p'', 'consecutiveByte_b's'',\n",
              "       'consecutiveByte_b'w'', 'consecutiveByte_b'~''],\n",
              "      dtype='object')"
            ]
          },
          "metadata": {
            "tags": []
          },
          "execution_count": 42
        }
      ]
    },
    {
      "cell_type": "code",
      "metadata": {
        "id": "25Pr2n7hDuqJ",
        "colab": {
          "base_uri": "https://localhost:8080/"
        },
        "outputId": "f3f74105-bb34-47c1-c48d-363018a89bc4"
      },
      "source": [
        "# explicitly recreasting final model\n",
        "X_train_final = X_train[X_train.columns[cols]]\n",
        "X_test_final = X_test[X_test.columns[cols]]\n",
        "\n",
        "final_knn = KNeighborsClassifier(n_neighbors=test_errs_kvals.idxmax(), p=test_errs_pvals.idxmax())\n",
        "final_knn.fit(X_train_final, y_train)\n",
        "\n",
        "y_pred = final_knn.predict(X_test_final)\n",
        "classification_report(y_test, y_pred, output_dict=True)"
      ],
      "execution_count": 43,
      "outputs": [
        {
          "output_type": "execute_result",
          "data": {
            "text/plain": [
              "{'MD5': {'f1-score': 1.0, 'precision': 1.0, 'recall': 1.0, 'support': 251},\n",
              " 'SHA-1': {'f1-score': 1.0, 'precision': 1.0, 'recall': 1.0, 'support': 269},\n",
              " 'SHA-256': {'f1-score': 0.5028790786948176,\n",
              "  'precision': 0.51171875,\n",
              "  'recall': 0.49433962264150944,\n",
              "  'support': 265},\n",
              " 'SHA-3-256': {'f1-score': 0.5194805194805195,\n",
              "  'precision': 0.5109489051094891,\n",
              "  'recall': 0.5283018867924528,\n",
              "  'support': 265},\n",
              " 'accuracy': 0.7533333333333333,\n",
              " 'macro avg': {'f1-score': 0.7555898995438344,\n",
              "  'precision': 0.7556669137773723,\n",
              "  'recall': 0.7556603773584906,\n",
              "  'support': 1050},\n",
              " 'weighted avg': {'f1-score': 0.7532621843013946,\n",
              "  'precision': 0.7533399320038234,\n",
              "  'recall': 0.7533333333333333,\n",
              "  'support': 1050}}"
            ]
          },
          "metadata": {
            "tags": []
          },
          "execution_count": 43
        }
      ]
    },
    {
      "cell_type": "code",
      "metadata": {
        "id": "BGsJGoF9D1of",
        "colab": {
          "base_uri": "https://localhost:8080/"
        },
        "outputId": "b3d6556a-0eeb-44da-ea8f-279d5f62cb50"
      },
      "source": [
        "y_test.value_counts(normalize=True)"
      ],
      "execution_count": 44,
      "outputs": [
        {
          "output_type": "execute_result",
          "data": {
            "text/plain": [
              "SHA-1        0.256190\n",
              "SHA-3-256    0.252381\n",
              "SHA-256      0.252381\n",
              "MD5          0.239048\n",
              "Name: hash type, dtype: float64"
            ]
          },
          "metadata": {
            "tags": []
          },
          "execution_count": 44
        }
      ]
    },
    {
      "cell_type": "markdown",
      "metadata": {
        "id": "9_xGA_iZD7l_"
      },
      "source": [
        "The highest accuracy you could attain with a model that chooses randomly is 0.256190. Our final model has an f-1 score of 0.7555898995438344, which is much better than the randomized model.\n",
        "\n",
        "However, it is important to note that our final model mostly takes into account the hash length (in bits), the number of 0 bits, and the number of 1 bits. Thus, it is mostly leveraging the distinct hash lengths of the various algorithms to predict the hash. However, there is a slgiht contribution from the consecutive byte value and consecutive byte count features, which indicates that there might be a \"periodic\" nature in the hash algorithm that our model was able to pick up on. Interestingly, the file size, file type, etc. were not essential features. These results, and more, are expanded upon and interpreted further in our report.\n",
        "\n",
        "Therefore, given that we are predicting mostly on the number of total/0/1 bits in the hash, we determine that hash algorithms are MOSTLY secure. However, the other features indicate further work that could be done with respect to identifying hash algorithms. This is once again expanded in the report."
      ]
    }
  ]
}