{
  "nbformat": 4,
  "nbformat_minor": 0,
  "metadata": {
    "colab": {
      "name": "Data_Processing.ipynb",
      "provenance": [],
      "collapsed_sections": []
    },
    "kernelspec": {
      "name": "python3",
      "display_name": "Python 3"
    },
    "language_info": {
      "name": "python"
    }
  },
  "cells": [
    {
      "cell_type": "code",
      "metadata": {
        "id": "ypNqSMrGZ9Pe",
        "colab": {
          "base_uri": "https://localhost:8080/"
        },
        "outputId": "7eafc102-b88d-47bf-ac3e-185fa08d2d1c"
      },
      "source": [
        "from google.colab import drive\n",
        "drive.mount('/content/drive', force_remount=True)\n",
        "\n",
        "import pandas as pd\n",
        "import os\n",
        "import numpy as np"
      ],
      "execution_count": null,
      "outputs": [
        {
          "output_type": "stream",
          "text": [
            "Mounted at /content/drive\n"
          ],
          "name": "stdout"
        }
      ]
    },
    {
      "cell_type": "code",
      "metadata": {
        "colab": {
          "base_uri": "https://localhost:8080/"
        },
        "id": "EdzkcAv8aJCP",
        "outputId": "c93a754f-6c2b-41a1-fd9c-8d06b2148f6a"
      },
      "source": [
        "%cd /content/drive/MyDrive/466\\ Project/CSC466-Project/Raw\\ Data"
      ],
      "execution_count": null,
      "outputs": [
        {
          "output_type": "stream",
          "text": [
            "/content/drive/MyDrive/466 Project/CSC466-Project/Raw Data\n"
          ],
          "name": "stdout"
        }
      ]
    },
    {
      "cell_type": "code",
      "metadata": {
        "id": "NRBL9UEG3jCL"
      },
      "source": [
        "def get_hash_info(df):\n",
        "  hash_list = []\n",
        "  hash_type = []\n",
        "  len_list = []\n",
        "  hash_chars = [str(i) for i in range(0, 10)]\n",
        "  hash_chars.extend(['a','b','c','d','e','f'])\n",
        "  hash_dist = [[] for i in range(len(df))]\n",
        "  num_0 = []\n",
        "  num_1 = []\n",
        "\n",
        "  for i in range(len(df)):\n",
        "    rand_col = (np.random.choice([\"SHA-256\", \"SHA-1\", \"MD5\",\"SHA-3-256\"]))\n",
        "    hash_list.append(df.iloc[i][rand_col])\n",
        "    hash_type.append(rand_col)\n",
        "    len_list.append(len(df.iloc[i][rand_col]))\n",
        "\n",
        "    for char in hash_chars:\n",
        "      hash_dist[i].append(hash_list[i].count(char))\n",
        "\n",
        "    hash_bin = bin(int(hash_list[i], 16))[2:]\n",
        "    num_1.append(hash_bin.count('1'))\n",
        "    num_0.append(4*len(hash_list[i]) - num_1[i])\n",
        "\n",
        "  return pd.Series(hash_list), pd.Series(hash_type), pd.Series(len_list), \\\n",
        "          pd.Series(hash_dist), pd.Series(num_0), pd.Series(num_1)\n"
      ],
      "execution_count": null,
      "outputs": []
    },
    {
      "cell_type": "code",
      "metadata": {
        "colab": {
          "base_uri": "https://localhost:8080/"
        },
        "id": "FEjwG2OKXo5R",
        "outputId": "2dc2c1ac-d12c-49d9-cce9-f82ed6e81330"
      },
      "source": [
        "files = os.listdir()\n",
        "processed_files = os.listdir('../Processed Data')\n",
        "print(files, processed_files)\n",
        "\n",
        "# processes unprocessed files\n",
        "for file in files:\n",
        "  if file in processed_files:\n",
        "    continue\n",
        "  \n",
        "  df = pd.read_csv(file)\n",
        "\n",
        "  df[\"hash\"], df[\"hash type\"], df[\"hash len\"], df['hash dist'], df['hash 0 bits'],\\\n",
        "      df['hash 1 bits'] = get_hash_info(df)\n",
        "  df['hash len bits'] = 4*df['hash len']\n",
        "\n",
        "  df['file dist of bytes'] = df['file dist of bytes'].apply(eval)\n",
        "  df['file size (bytes)'] = df['file dist of bytes'].apply(lambda x: sum(x))\n",
        "\n",
        "  df.drop(columns=[\"SHA-256\", \"SHA-1\", \"MD5\", \"SHA-3-256\", \\\n",
        "                   'filename', 'file size'], inplace=True)\n",
        "\n",
        "  df.to_csv('../Processed Data/' + file, index=False)"
      ],
      "execution_count": null,
      "outputs": [
        {
          "output_type": "stream",
          "text": [
            "['jpgHash.csv', 'json10May926.csv', 'txt10May920.csv', 'pdfHash.csv'] []\n"
          ],
          "name": "stdout"
        }
      ]
    },
    {
      "cell_type": "code",
      "metadata": {
        "colab": {
          "base_uri": "https://localhost:8080/"
        },
        "id": "1-GD4u2Ojj3O",
        "outputId": "7ae72dd8-2a82-4981-946d-8cd0ff2fd0ad"
      },
      "source": [
        "%cd ../Processed\\ Data"
      ],
      "execution_count": null,
      "outputs": [
        {
          "output_type": "stream",
          "text": [
            "/content/drive/My Drive/466 Project/CSC466-Project/Processed Data\n"
          ],
          "name": "stdout"
        }
      ]
    },
    {
      "cell_type": "code",
      "metadata": {
        "colab": {
          "base_uri": "https://localhost:8080/",
          "height": 1000
        },
        "id": "XNCQdICxh_P1",
        "outputId": "094c7b13-3689-4198-eeba-9117123233ed"
      },
      "source": [
        "# combines processed files into an overall file\n",
        "processed_files = os.listdir()\n",
        "processed_files\n",
        "\n",
        "total_data = pd.DataFrame()\n",
        "for file in processed_files:\n",
        "  curr_df = pd.read_csv(file)\n",
        "  total_data = total_data.append(curr_df, ignore_index=True)\n",
        "\n",
        "total_data.drop_duplicates(ignore_index=True, inplace=True)\n",
        "total_data.to_csv('../total_data.csv', index=False)\n",
        "total_data"
      ],
      "execution_count": null,
      "outputs": [
        {
          "output_type": "execute_result",
          "data": {
            "text/html": [
              "<div>\n",
              "<style scoped>\n",
              "    .dataframe tbody tr th:only-of-type {\n",
              "        vertical-align: middle;\n",
              "    }\n",
              "\n",
              "    .dataframe tbody tr th {\n",
              "        vertical-align: top;\n",
              "    }\n",
              "\n",
              "    .dataframe thead th {\n",
              "        text-align: right;\n",
              "    }\n",
              "</style>\n",
              "<table border=\"1\" class=\"dataframe\">\n",
              "  <thead>\n",
              "    <tr style=\"text-align: right;\">\n",
              "      <th></th>\n",
              "      <th>file type</th>\n",
              "      <th>file dist of bytes</th>\n",
              "      <th>consecutiveByte</th>\n",
              "      <th>consecutiveCount</th>\n",
              "      <th>hash</th>\n",
              "      <th>hash type</th>\n",
              "      <th>hash len</th>\n",
              "      <th>hash dist</th>\n",
              "      <th>hash 0 bits</th>\n",
              "      <th>hash 1 bits</th>\n",
              "      <th>hash len bits</th>\n",
              "      <th>file size (bytes)</th>\n",
              "    </tr>\n",
              "  </thead>\n",
              "  <tbody>\n",
              "    <tr>\n",
              "      <th>0</th>\n",
              "      <td>.jpg</td>\n",
              "      <td>[185, 71, 61, 64, 62, 43, 59, 58, 47, 49, 108,...</td>\n",
              "      <td>b'\\n'</td>\n",
              "      <td>50</td>\n",
              "      <td>fc02cfed7b327dfc8ea64daeb388803dda1f53df</td>\n",
              "      <td>SHA-1</td>\n",
              "      <td>40</td>\n",
              "      <td>[2, 1, 2, 4, 1, 1, 1, 2, 4, 0, 3, 2, 3, 6, 3, 5]</td>\n",
              "      <td>69</td>\n",
              "      <td>91</td>\n",
              "      <td>160</td>\n",
              "      <td>14425</td>\n",
              "    </tr>\n",
              "    <tr>\n",
              "      <th>1</th>\n",
              "      <td>.jpg</td>\n",
              "      <td>[192, 78, 55, 54, 53, 54, 61, 70, 50, 55, 115,...</td>\n",
              "      <td>b'\\n'</td>\n",
              "      <td>50</td>\n",
              "      <td>8a7712058d814572ff536384fff2dffa26169460d861b5...</td>\n",
              "      <td>SHA-256</td>\n",
              "      <td>64</td>\n",
              "      <td>[4, 6, 5, 5, 4, 5, 6, 4, 6, 1, 4, 1, 1, 3, 2, 7]</td>\n",
              "      <td>133</td>\n",
              "      <td>123</td>\n",
              "      <td>256</td>\n",
              "      <td>13631</td>\n",
              "    </tr>\n",
              "    <tr>\n",
              "      <th>2</th>\n",
              "      <td>.jpg</td>\n",
              "      <td>[181, 80, 57, 57, 63, 60, 63, 70, 44, 44, 115,...</td>\n",
              "      <td>b'\\n'</td>\n",
              "      <td>50</td>\n",
              "      <td>be27d2bb8b26fbd951851ac0b27fdd833ccf194d37da69...</td>\n",
              "      <td>SHA-3-256</td>\n",
              "      <td>64</td>\n",
              "      <td>[2, 3, 5, 6, 2, 3, 3, 5, 3, 5, 3, 6, 5, 7, 1, 5]</td>\n",
              "      <td>116</td>\n",
              "      <td>140</td>\n",
              "      <td>256</td>\n",
              "      <td>16170</td>\n",
              "    </tr>\n",
              "    <tr>\n",
              "      <th>3</th>\n",
              "      <td>.jpg</td>\n",
              "      <td>[215, 68, 51, 73, 52, 57, 52, 55, 40, 43, 102,...</td>\n",
              "      <td>b'\\n'</td>\n",
              "      <td>50</td>\n",
              "      <td>a56f71e3497a5bcf8b955dbe4bcb2497</td>\n",
              "      <td>MD5</td>\n",
              "      <td>32</td>\n",
              "      <td>[0, 1, 1, 1, 3, 4, 1, 3, 1, 3, 2, 5, 2, 1, 2, 2]</td>\n",
              "      <td>55</td>\n",
              "      <td>73</td>\n",
              "      <td>128</td>\n",
              "      <td>14762</td>\n",
              "    </tr>\n",
              "    <tr>\n",
              "      <th>4</th>\n",
              "      <td>.jpg</td>\n",
              "      <td>[191, 90, 60, 66, 56, 59, 66, 60, 53, 54, 102,...</td>\n",
              "      <td>b'\\n'</td>\n",
              "      <td>50</td>\n",
              "      <td>c772a6cc5373e3c06dfc359babd96775a91ab97498ecbe...</td>\n",
              "      <td>SHA-256</td>\n",
              "      <td>64</td>\n",
              "      <td>[2, 2, 1, 4, 3, 4, 4, 9, 2, 7, 6, 5, 7, 3, 4, 1]</td>\n",
              "      <td>117</td>\n",
              "      <td>139</td>\n",
              "      <td>256</td>\n",
              "      <td>14517</td>\n",
              "    </tr>\n",
              "    <tr>\n",
              "      <th>...</th>\n",
              "      <td>...</td>\n",
              "      <td>...</td>\n",
              "      <td>...</td>\n",
              "      <td>...</td>\n",
              "      <td>...</td>\n",
              "      <td>...</td>\n",
              "      <td>...</td>\n",
              "      <td>...</td>\n",
              "      <td>...</td>\n",
              "      <td>...</td>\n",
              "      <td>...</td>\n",
              "      <td>...</td>\n",
              "    </tr>\n",
              "    <tr>\n",
              "      <th>5245</th>\n",
              "      <td>.pdf</td>\n",
              "      <td>[10194, 3869, 3826, 3705, 3466, 3743, 3592, 38...</td>\n",
              "      <td>b' '</td>\n",
              "      <td>72</td>\n",
              "      <td>8b87f8aa3e04d37f66f64c3bff88b0efa0e9694f3833f4...</td>\n",
              "      <td>SHA-256</td>\n",
              "      <td>64</td>\n",
              "      <td>[5, 2, 1, 9, 5, 1, 4, 2, 8, 2, 5, 5, 1, 2, 4, 8]</td>\n",
              "      <td>125</td>\n",
              "      <td>131</td>\n",
              "      <td>256</td>\n",
              "      <td>1039358</td>\n",
              "    </tr>\n",
              "    <tr>\n",
              "      <th>5246</th>\n",
              "      <td>.pdf</td>\n",
              "      <td>[29855, 14763, 15433, 17860, 14182, 15818, 156...</td>\n",
              "      <td>b'\\x00'</td>\n",
              "      <td>359</td>\n",
              "      <td>461add4173b80d1781c438db98c5e4e200f0987847de9f...</td>\n",
              "      <td>SHA-256</td>\n",
              "      <td>64</td>\n",
              "      <td>[4, 5, 3, 3, 6, 1, 2, 6, 7, 8, 1, 3, 3, 5, 5, 2]</td>\n",
              "      <td>134</td>\n",
              "      <td>122</td>\n",
              "      <td>256</td>\n",
              "      <td>4789771</td>\n",
              "    </tr>\n",
              "    <tr>\n",
              "      <th>5247</th>\n",
              "      <td>.pdf</td>\n",
              "      <td>[3220, 3164, 3107, 3076, 3088, 3066, 3136, 319...</td>\n",
              "      <td>b' '</td>\n",
              "      <td>100</td>\n",
              "      <td>dcb2b9effcf8f1d92bb91ba8a3cd58516399b2431318eb...</td>\n",
              "      <td>SHA-256</td>\n",
              "      <td>64</td>\n",
              "      <td>[1, 6, 4, 5, 2, 6, 2, 0, 5, 6, 3, 8, 3, 4, 4, 5]</td>\n",
              "      <td>121</td>\n",
              "      <td>135</td>\n",
              "      <td>256</td>\n",
              "      <td>1311284</td>\n",
              "    </tr>\n",
              "    <tr>\n",
              "      <th>5248</th>\n",
              "      <td>.pdf</td>\n",
              "      <td>[1053, 896, 765, 768, 794, 783, 715, 760, 756,...</td>\n",
              "      <td>b'\\x14'</td>\n",
              "      <td>50</td>\n",
              "      <td>ae1ac4367178c45daef2878bf05e2487</td>\n",
              "      <td>MD5</td>\n",
              "      <td>32</td>\n",
              "      <td>[1, 2, 2, 1, 3, 2, 1, 4, 4, 0, 3, 1, 2, 1, 3, 2]</td>\n",
              "      <td>64</td>\n",
              "      <td>64</td>\n",
              "      <td>128</td>\n",
              "      <td>226594</td>\n",
              "    </tr>\n",
              "    <tr>\n",
              "      <th>5249</th>\n",
              "      <td>.pdf</td>\n",
              "      <td>[1599, 1775, 1764, 1863, 1700, 1754, 1834, 183...</td>\n",
              "      <td>b' '</td>\n",
              "      <td>11</td>\n",
              "      <td>6a719b1cf2aa74ceafc2f3dd93ea2647a15b76d7</td>\n",
              "      <td>SHA-1</td>\n",
              "      <td>40</td>\n",
              "      <td>[0, 3, 3, 2, 2, 1, 3, 5, 0, 2, 6, 2, 3, 3, 2, 3]</td>\n",
              "      <td>70</td>\n",
              "      <td>90</td>\n",
              "      <td>160</td>\n",
              "      <td>507346</td>\n",
              "    </tr>\n",
              "  </tbody>\n",
              "</table>\n",
              "<p>5250 rows × 12 columns</p>\n",
              "</div>"
            ],
            "text/plain": [
              "     file type  ... file size (bytes)\n",
              "0         .jpg  ...             14425\n",
              "1         .jpg  ...             13631\n",
              "2         .jpg  ...             16170\n",
              "3         .jpg  ...             14762\n",
              "4         .jpg  ...             14517\n",
              "...        ...  ...               ...\n",
              "5245      .pdf  ...           1039358\n",
              "5246      .pdf  ...           4789771\n",
              "5247      .pdf  ...           1311284\n",
              "5248      .pdf  ...            226594\n",
              "5249      .pdf  ...            507346\n",
              "\n",
              "[5250 rows x 12 columns]"
            ]
          },
          "metadata": {
            "tags": []
          },
          "execution_count": 21
        }
      ]
    },
    {
      "cell_type": "markdown",
      "metadata": {
        "id": "esjvKGBhcKmR"
      },
      "source": [
        "# TO DO\n",
        "\n",
        "* Split hash into groups/chunks (3, maybe 5) (do this appropriately while training the models)"
      ]
    }
  ]
}