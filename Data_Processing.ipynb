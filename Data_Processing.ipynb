{
  "nbformat": 4,
  "nbformat_minor": 0,
  "metadata": {
    "colab": {
      "name": "Data Processing.ipynb",
      "provenance": [],
      "collapsed_sections": [],
      "authorship_tag": "ABX9TyOvhSczUzI4pAw1NxSWimf5"
    },
    "kernelspec": {
      "name": "python3",
      "display_name": "Python 3"
    },
    "language_info": {
      "name": "python"
    }
  },
  "cells": [
    {
      "cell_type": "code",
      "metadata": {
        "colab": {
          "base_uri": "https://localhost:8080/"
        },
        "id": "ypNqSMrGZ9Pe",
        "outputId": "bce4aeb5-dd1b-4578-ff5d-01fe83d3e3a0"
      },
      "source": [
        "from google.colab import drive\n",
        "drive.mount('/content/drive')\n",
        "\n",
        "import pandas\n",
        "import os"
      ],
      "execution_count": 16,
      "outputs": [
        {
          "output_type": "stream",
          "text": [
            "Drive already mounted at /content/drive; to attempt to forcibly remount, call drive.mount(\"/content/drive\", force_remount=True).\n"
          ],
          "name": "stdout"
        }
      ]
    },
    {
      "cell_type": "code",
      "metadata": {
        "colab": {
          "base_uri": "https://localhost:8080/"
        },
        "id": "ccvktrWXasHN",
        "outputId": "c26816f1-5230-4a0b-9eff-3404833d1bd4"
      },
      "source": [
        "files = os.listdir()\n",
        "processed_files = "
      ],
      "execution_count": 17,
      "outputs": [
        {
          "output_type": "execute_result",
          "data": {
            "text/plain": [
              "['.git',\n",
              " '.idea',\n",
              " 'CSC 466 Project Pitch- Group 3.pdf',\n",
              " 'Lab_6.ipynb',\n",
              " 'README.md',\n",
              " 'a.pdf',\n",
              " 'b.pdf',\n",
              " 'harsh.py',\n",
              " 'images',\n",
              " 'pdfHash.csv',\n",
              " 'pdfHash.txt',\n",
              " 'pdfs',\n",
              " 'python',\n",
              " 'test.ipynb',\n",
              " 'testing.py']"
            ]
          },
          "metadata": {
            "tags": []
          },
          "execution_count": 17
        }
      ]
    },
    {
      "cell_type": "code",
      "metadata": {
        "colab": {
          "base_uri": "https://localhost:8080/"
        },
        "id": "EdzkcAv8aJCP",
        "outputId": "ed0c9b04-3e8e-4824-df5b-87f6b45530dd"
      },
      "source": [
        "%cd /content/drive/MyDrive/466\\ Project/CSC466-Project"
      ],
      "execution_count": 15,
      "outputs": [
        {
          "output_type": "stream",
          "text": [
            "/content/drive/MyDrive/466 Project/CSC466-Project\n"
          ],
          "name": "stdout"
        }
      ]
    },
    {
      "cell_type": "code",
      "metadata": {
        "colab": {
          "base_uri": "https://localhost:8080/"
        },
        "id": "jEEfBGRwaPZj",
        "outputId": "8637b4b5-6782-4849-c733-839baabe256c"
      },
      "source": [
        "!pwd"
      ],
      "execution_count": 13,
      "outputs": [
        {
          "output_type": "stream",
          "text": [
            "/content/drive/MyDrive/466 Project\n"
          ],
          "name": "stdout"
        }
      ]
    },
    {
      "cell_type": "markdown",
      "metadata": {
        "id": "ejuOaQiFb518"
      },
      "source": [
        ""
      ]
    },
    {
      "cell_type": "code",
      "metadata": {
        "colab": {
          "base_uri": "https://localhost:8080/"
        },
        "id": "FEjwG2OKXo5R",
        "outputId": "d7225a17-2d6d-4bfa-9e7b-475fd3d62afe"
      },
      "source": [
        "# processed unprocessed files\n",
        "for file in files and not in processed_files:\n",
        "  df = pd.read_csv(file)\n",
        "  df.dtypes\n",
        "\n",
        "  df.to_csv(new_dir + file)"
      ],
      "execution_count": 6,
      "outputs": [
        {
          "output_type": "execute_result",
          "data": {
            "text/plain": [
              "filename               object\n",
              "file size             float64\n",
              "file type              object\n",
              "file dist of bytes     object\n",
              "consecutiveByte        object\n",
              "consecutiveCount        int64\n",
              "SHA-256                object\n",
              "SHA-1                  object\n",
              "MD5                    object\n",
              "SHA-3-256              object\n",
              "dtype: object"
            ]
          },
          "metadata": {
            "tags": []
          },
          "execution_count": 6
        }
      ]
    },
    {
      "cell_type": "code",
      "metadata": {
        "colab": {
          "base_uri": "https://localhost:8080/",
          "height": 131
        },
        "id": "0NUFfGhBbTJo",
        "outputId": "4b923efe-e04b-4ed6-db86-c92e1b210f95"
      },
      "source": [
        "a = [1,2,3,4]\n",
        "b = [2,5,6]\n",
        "\n",
        "for i in b and not in a:\n",
        "  print(i)"
      ],
      "execution_count": 19,
      "outputs": [
        {
          "output_type": "error",
          "ename": "SyntaxError",
          "evalue": "ignored",
          "traceback": [
            "\u001b[0;36m  File \u001b[0;32m\"<ipython-input-19-2c731ae5cf80>\"\u001b[0;36m, line \u001b[0;32m4\u001b[0m\n\u001b[0;31m    for i in b and not in a:\u001b[0m\n\u001b[0m                        ^\u001b[0m\n\u001b[0;31mSyntaxError\u001b[0m\u001b[0;31m:\u001b[0m invalid syntax\n"
          ]
        }
      ]
    },
    {
      "cell_type": "markdown",
      "metadata": {
        "id": "esjvKGBhcKmR"
      },
      "source": [
        "# TO DO\n",
        "\n",
        "* Count total number of chars for each file\n",
        "* Pick random hash out of available hashes; record both hash and name of hash\n",
        "* Split hash into groups/chunks (3, maybe 5)\n",
        "* Count length of hash\n",
        "* Count number of 0s/1s in hash\n",
        "* Distribution of 0-e in hash"
      ]
    }
  ]
}