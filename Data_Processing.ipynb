{
  "nbformat": 4,
  "nbformat_minor": 0,
  "metadata": {
    "colab": {
      "name": "Data Processing.ipynb",
      "provenance": [],
      "collapsed_sections": []
    },
    "kernelspec": {
      "name": "python3",
      "display_name": "Python 3"
    },
    "language_info": {
      "name": "python"
    }
  },
  "cells": [
    {
      "cell_type": "code",
      "metadata": {
        "colab": {
          "base_uri": "https://localhost:8080/"
        },
        "id": "ypNqSMrGZ9Pe",
        "outputId": "96e2bfbf-cad2-41d2-d128-c40b6ca6176c"
      },
      "source": [
        "from google.colab import drive\n",
        "drive.mount('/content/drive', force_remount=True)\n",
        "\n",
        "import pandas\n",
        "import os"
      ],
      "execution_count": 5,
      "outputs": [
        {
          "output_type": "stream",
          "text": [
            "Mounted at /content/drive\n"
          ],
          "name": "stdout"
        }
      ]
    },
    {
      "cell_type": "code",
      "metadata": {
        "id": "ccvktrWXasHN"
      },
      "source": [
        "files = os.listdir()"
      ],
      "execution_count": 6,
      "outputs": []
    },
    {
      "cell_type": "code",
      "metadata": {
        "colab": {
          "base_uri": "https://localhost:8080/"
        },
        "id": "EdzkcAv8aJCP",
        "outputId": "68ec627f-a7bd-45c4-ba0b-744dcce5b4f5"
      },
      "source": [
        "%cd /content/drive/MyDrive/466\\ Project/CSC466-Project"
      ],
      "execution_count": 7,
      "outputs": [
        {
          "output_type": "stream",
          "text": [
            "/content/drive/MyDrive/466 Project/CSC466-Project\n"
          ],
          "name": "stdout"
        }
      ]
    },
    {
      "cell_type": "code",
      "metadata": {
        "colab": {
          "base_uri": "https://localhost:8080/"
        },
        "id": "jEEfBGRwaPZj",
        "outputId": "6b06be3a-4b9e-44d6-f5f4-c7c433eb603a"
      },
      "source": [
        "!pwd"
      ],
      "execution_count": 8,
      "outputs": [
        {
          "output_type": "stream",
          "text": [
            "/content/drive/MyDrive/466 Project/CSC466-Project\n"
          ],
          "name": "stdout"
        }
      ]
    },
    {
      "cell_type": "code",
      "metadata": {
        "id": "NRBL9UEG3jCL"
      },
      "source": [
        "def get_hash_info(df):\n",
        "  hash_list = []\n",
        "  hash_type = []\n",
        "  len_list = []\n",
        "  for i in range(len(df)):\n",
        "    rand_col = (np.random.choice([\"SHA-256\", \"SHA-1\", \"MD5\",\"SHA-3-256\"]))\n",
        "    hash_list.append(df.iloc[i][rand_col])\n",
        "    hash_type.append(rand_col)\n",
        "    len_list.append(len(df.iloc[i][rand_col]))\n",
        "  return pd.Series(hash_list), pd.Series(hash_type), pd.Series(len_list)\n"
      ],
      "execution_count": 9,
      "outputs": []
    },
    {
      "cell_type": "markdown",
      "metadata": {
        "id": "ejuOaQiFb518"
      },
      "source": [
        ""
      ]
    },
    {
      "cell_type": "code",
      "metadata": {
        "colab": {
          "base_uri": "https://localhost:8080/",
          "height": 911
        },
        "id": "FEjwG2OKXo5R",
        "outputId": "2f6ea33b-fc92-4db6-a451-dcd7421f2a71"
      },
      "source": [
        "# processed unprocessed files\n",
        "import pandas as pd\n",
        "import numpy as np\n",
        "\n",
        "import os\n",
        "files = [\"pdfHash.csv\", \"jpgHash.csv\"]\n",
        "df = pd.DataFrame()\n",
        "for file in files:\n",
        "  df = df.append(pd.read_csv(file))\n",
        "\n",
        "df[\"hash\"], df[\"hash_type\"], df[\"hash_len\"] = get_hash_info(df)\n",
        "df = df.drop(columns=[\"SHA-256\", \"SHA-1\", \"MD5\", \"SHA-3-256\"])\n",
        "\n",
        "display(df.head())\n",
        "\n"
      ],
      "execution_count": 11,
      "outputs": [
        {
          "output_type": "display_data",
          "data": {
            "text/html": [
              "<div>\n",
              "<style scoped>\n",
              "    .dataframe tbody tr th:only-of-type {\n",
              "        vertical-align: middle;\n",
              "    }\n",
              "\n",
              "    .dataframe tbody tr th {\n",
              "        vertical-align: top;\n",
              "    }\n",
              "\n",
              "    .dataframe thead th {\n",
              "        text-align: right;\n",
              "    }\n",
              "</style>\n",
              "<table border=\"1\" class=\"dataframe\">\n",
              "  <thead>\n",
              "    <tr style=\"text-align: right;\">\n",
              "      <th></th>\n",
              "      <th>filename</th>\n",
              "      <th>file size</th>\n",
              "      <th>file type</th>\n",
              "      <th>file dist of bytes</th>\n",
              "      <th>consecutiveByte</th>\n",
              "      <th>consecutiveCount</th>\n",
              "      <th>hash</th>\n",
              "      <th>hash_type</th>\n",
              "      <th>hash_len</th>\n",
              "    </tr>\n",
              "  </thead>\n",
              "  <tbody>\n",
              "    <tr>\n",
              "      <th>0</th>\n",
              "      <td>/mnt/f/pdfs/100G Networking Technology Overvie...</td>\n",
              "      <td>1.516903</td>\n",
              "      <td>.pdf</td>\n",
              "      <td>[16562, 6642, 6021, 6415, 5546, 5398, 5934, 58...</td>\n",
              "      <td>b'\\x10'</td>\n",
              "      <td>50</td>\n",
              "      <td>3802d97d4aa5d9b65936337cbb06984e4df66bb6</td>\n",
              "      <td>SHA-1</td>\n",
              "      <td>40</td>\n",
              "    </tr>\n",
              "    <tr>\n",
              "      <th>1</th>\n",
              "      <td>/mnt/f/pdfs/2018 CppCon Unwinding the Stack - ...</td>\n",
              "      <td>1.164143</td>\n",
              "      <td>.pdf</td>\n",
              "      <td>[12322, 4160, 4338, 3771, 4315, 4141, 3978, 39...</td>\n",
              "      <td>b'\\x00'</td>\n",
              "      <td>733</td>\n",
              "      <td>183cab0074049265b7d52a0e54e7a7e4</td>\n",
              "      <td>MD5</td>\n",
              "      <td>32</td>\n",
              "    </tr>\n",
              "    <tr>\n",
              "      <th>2</th>\n",
              "      <td>/mnt/f/pdfs/37 Million Compilations - Investig...</td>\n",
              "      <td>0.459589</td>\n",
              "      <td>.pdf</td>\n",
              "      <td>[1387, 1746, 1593, 1665, 1486, 1558, 1698, 163...</td>\n",
              "      <td>b'0'</td>\n",
              "      <td>10</td>\n",
              "      <td>e86d07e561a5405af36323cd567731d6365635d9af4011...</td>\n",
              "      <td>SHA-3-256</td>\n",
              "      <td>64</td>\n",
              "    </tr>\n",
              "    <tr>\n",
              "      <th>3</th>\n",
              "      <td>/mnt/f/pdfs/5-Level Paging and 5-Level EPT - I...</td>\n",
              "      <td>0.199550</td>\n",
              "      <td>.pdf</td>\n",
              "      <td>[733, 665, 634, 628, 625, 687, 649, 662, 637, ...</td>\n",
              "      <td>b' '</td>\n",
              "      <td>100</td>\n",
              "      <td>18de0224a4567a9ae17ff756e29bb1318c9adbd4</td>\n",
              "      <td>SHA-1</td>\n",
              "      <td>40</td>\n",
              "    </tr>\n",
              "    <tr>\n",
              "      <th>4</th>\n",
              "      <td>/mnt/f/pdfs/5-Level Paging and 5-Level EPT - I...</td>\n",
              "      <td>0.187398</td>\n",
              "      <td>.pdf</td>\n",
              "      <td>[736, 658, 666, 670, 627, 673, 645, 660, 669, ...</td>\n",
              "      <td>b' '</td>\n",
              "      <td>100</td>\n",
              "      <td>adb2a5e99912c005e416f5099add45e39772d360685394...</td>\n",
              "      <td>SHA-256</td>\n",
              "      <td>64</td>\n",
              "    </tr>\n",
              "  </tbody>\n",
              "</table>\n",
              "</div>"
            ],
            "text/plain": [
              "                                            filename  ...  hash_len\n",
              "0  /mnt/f/pdfs/100G Networking Technology Overvie...  ...        40\n",
              "1  /mnt/f/pdfs/2018 CppCon Unwinding the Stack - ...  ...        32\n",
              "2  /mnt/f/pdfs/37 Million Compilations - Investig...  ...        64\n",
              "3  /mnt/f/pdfs/5-Level Paging and 5-Level EPT - I...  ...        40\n",
              "4  /mnt/f/pdfs/5-Level Paging and 5-Level EPT - I...  ...        64\n",
              "\n",
              "[5 rows x 9 columns]"
            ]
          },
          "metadata": {
            "tags": []
          }
        }
      ]
    },
    {
      "cell_type": "code",
      "metadata": {
        "colab": {
          "base_uri": "https://localhost:8080/",
          "height": 131
        },
        "id": "0NUFfGhBbTJo",
        "outputId": "4b923efe-e04b-4ed6-db86-c92e1b210f95"
      },
      "source": [
        "a = [1,2,3,4]\n",
        "b = [2,5,6]\n",
        "\n",
        "for i in b and not in a:\n",
        "  print(i)"
      ],
      "execution_count": null,
      "outputs": [
        {
          "output_type": "error",
          "ename": "SyntaxError",
          "evalue": "ignored",
          "traceback": [
            "\u001b[0;36m  File \u001b[0;32m\"<ipython-input-19-2c731ae5cf80>\"\u001b[0;36m, line \u001b[0;32m4\u001b[0m\n\u001b[0;31m    for i in b and not in a:\u001b[0m\n\u001b[0m                        ^\u001b[0m\n\u001b[0;31mSyntaxError\u001b[0m\u001b[0;31m:\u001b[0m invalid syntax\n"
          ]
        }
      ]
    },
    {
      "cell_type": "markdown",
      "metadata": {
        "id": "esjvKGBhcKmR"
      },
      "source": [
        "# TO DO\n",
        "\n",
        "* Count total number of chars for each file\n",
        "* Pick random hash out of available hashes; record both hash and name of hash\n",
        "* Split hash into groups/chunks (3, maybe 5)\n",
        "* Count length of hash\n",
        "* Count number of 0s/1s in hash\n",
        "* Distribution of 0-e in hash"
      ]
    }
  ]
}