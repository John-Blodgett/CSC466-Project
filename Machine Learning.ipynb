{
  "nbformat": 4,
  "nbformat_minor": 0,
  "metadata": {
    "colab": {
      "name": "KNearestClassifier.ipynb",
      "provenance": [],
      "collapsed_sections": []
    },
    "kernelspec": {
      "name": "python3",
      "display_name": "Python 3"
    },
    "language_info": {
      "name": "python"
    }
  },
  "cells": [
    {
      "cell_type": "code",
      "metadata": {
        "id": "XFr0RDFiRcsY"
      },
      "source": [
        "import pandas as pd\n",
        "import os\n",
        "import numpy as np\n",
        "\n",
        "from sklearn.decomposition import PCA\n",
        "from sklearn.preprocessing import StandardScaler\n",
        "from sklearn.neighbors import KNeighborsClassifier\n",
        "from sklearn.pipeline import make_pipeline\n",
        "from sklearn.model_selection import cross_val_score\n",
        "from sklearn.model_selection import train_test_split\n",
        "from sklearn.metrics import classification_report, confusion_matrix\n",
        "from sklearn.tree import DecisionTreeClassifier\n",
        "from sklearn.neural_network import MLPClassifier\n",
        "from sklearn.ensemble import GradientBoostingClassifier\n",
        "from sklearn.ensemble import AdaBoostClassifier\n",
        "from sklearn.ensemble import RandomForestClassifier\n",
        "\n",
        "import warnings\n",
        "warnings.filterwarnings(\"ignore\")"
      ],
      "execution_count": 77,
      "outputs": []
    },
    {
      "cell_type": "code",
      "metadata": {
        "id": "XL9xfYayRTaM",
        "colab": {
          "base_uri": "https://localhost:8080/",
          "height": 1000
        },
        "outputId": "8af8ad85-5b5c-4c5a-d714-0a5636a0d998"
      },
      "source": [
        "df = pd.read_csv('https://raw.githubusercontent.com/John-Blodgett/CSC466-Project/main/total_data.csv')\n",
        "# df = df.drop('file dist of bytes', axis=1)\n",
        "df['hash dist'] = df['hash dist'].apply(eval)\n",
        "df['file dist of bytes'] = df['file dist of bytes'].apply(eval)\n",
        "df_dist = pd.DataFrame(df['hash dist'].to_list(), \n",
        "                       index=df.index, \n",
        "                       columns=['0','1','2','3','4','5','6','7','8','9','a','b','c','d','e','f'])\n",
        "df_dist['hash type'] = df['hash type']\n",
        "\n",
        "df.append(df_dist)\n",
        "df.drop(['hash dist', 'hash'], axis=1, inplace=True)\n",
        "\n",
        "df[['consecutiveCount', 'file size (bytes)']] = StandardScaler().fit_transform(df[['consecutiveCount', 'file size (bytes)']])\n",
        "\n",
        "df = pd.get_dummies(df, columns=['file type', 'consecutiveByte'])\n",
        "\n",
        "df"
      ],
      "execution_count": 2,
      "outputs": [
        {
          "output_type": "execute_result",
          "data": {
            "text/html": [
              "<div>\n",
              "<style scoped>\n",
              "    .dataframe tbody tr th:only-of-type {\n",
              "        vertical-align: middle;\n",
              "    }\n",
              "\n",
              "    .dataframe tbody tr th {\n",
              "        vertical-align: top;\n",
              "    }\n",
              "\n",
              "    .dataframe thead th {\n",
              "        text-align: right;\n",
              "    }\n",
              "</style>\n",
              "<table border=\"1\" class=\"dataframe\">\n",
              "  <thead>\n",
              "    <tr style=\"text-align: right;\">\n",
              "      <th></th>\n",
              "      <th>file dist of bytes</th>\n",
              "      <th>consecutiveCount</th>\n",
              "      <th>hash type</th>\n",
              "      <th>hash len</th>\n",
              "      <th>hash 0 bits</th>\n",
              "      <th>hash 1 bits</th>\n",
              "      <th>hash len bits</th>\n",
              "      <th>file size (bytes)</th>\n",
              "      <th>file type_.jpg</th>\n",
              "      <th>file type_.json</th>\n",
              "      <th>file type_.pdf</th>\n",
              "      <th>file type_.txt</th>\n",
              "      <th>consecutiveByte_b\"'\"</th>\n",
              "      <th>consecutiveByte_b' '</th>\n",
              "      <th>consecutiveByte_b'!'</th>\n",
              "      <th>consecutiveByte_b'\"'</th>\n",
              "      <th>consecutiveByte_b'('</th>\n",
              "      <th>consecutiveByte_b'-'</th>\n",
              "      <th>consecutiveByte_b'.'</th>\n",
              "      <th>consecutiveByte_b'0'</th>\n",
              "      <th>consecutiveByte_b'1'</th>\n",
              "      <th>consecutiveByte_b'2'</th>\n",
              "      <th>consecutiveByte_b'3'</th>\n",
              "      <th>consecutiveByte_b'4'</th>\n",
              "      <th>consecutiveByte_b'5'</th>\n",
              "      <th>consecutiveByte_b'6'</th>\n",
              "      <th>consecutiveByte_b'7'</th>\n",
              "      <th>consecutiveByte_b'8'</th>\n",
              "      <th>consecutiveByte_b'9'</th>\n",
              "      <th>consecutiveByte_b';'</th>\n",
              "      <th>consecutiveByte_b'&gt;'</th>\n",
              "      <th>consecutiveByte_b'?'</th>\n",
              "      <th>consecutiveByte_b'@'</th>\n",
              "      <th>consecutiveByte_b'A'</th>\n",
              "      <th>consecutiveByte_b'B'</th>\n",
              "      <th>consecutiveByte_b'D'</th>\n",
              "      <th>consecutiveByte_b'O'</th>\n",
              "      <th>consecutiveByte_b'P'</th>\n",
              "      <th>consecutiveByte_b'Q'</th>\n",
              "      <th>consecutiveByte_b'U'</th>\n",
              "      <th>...</th>\n",
              "      <th>consecutiveByte_b'\\x11'</th>\n",
              "      <th>consecutiveByte_b'\\x14'</th>\n",
              "      <th>consecutiveByte_b'\\x16'</th>\n",
              "      <th>consecutiveByte_b'\\x1a'</th>\n",
              "      <th>consecutiveByte_b'\\x1e'</th>\n",
              "      <th>consecutiveByte_b'\\x82'</th>\n",
              "      <th>consecutiveByte_b'\\x83'</th>\n",
              "      <th>consecutiveByte_b'\\x84'</th>\n",
              "      <th>consecutiveByte_b'\\x88'</th>\n",
              "      <th>consecutiveByte_b'\\x8a'</th>\n",
              "      <th>consecutiveByte_b'\\x8f'</th>\n",
              "      <th>consecutiveByte_b'\\x91'</th>\n",
              "      <th>consecutiveByte_b'\\x92'</th>\n",
              "      <th>consecutiveByte_b'\\x9e'</th>\n",
              "      <th>consecutiveByte_b'\\xa3'</th>\n",
              "      <th>consecutiveByte_b'\\xa4'</th>\n",
              "      <th>consecutiveByte_b'\\xa5'</th>\n",
              "      <th>consecutiveByte_b'\\xaa'</th>\n",
              "      <th>consecutiveByte_b'\\xb3'</th>\n",
              "      <th>consecutiveByte_b'\\xd1'</th>\n",
              "      <th>consecutiveByte_b'\\xdd'</th>\n",
              "      <th>consecutiveByte_b'\\xe7'</th>\n",
              "      <th>consecutiveByte_b'\\xee'</th>\n",
              "      <th>consecutiveByte_b'\\xf4'</th>\n",
              "      <th>consecutiveByte_b'\\xf5'</th>\n",
              "      <th>consecutiveByte_b'\\xff'</th>\n",
              "      <th>consecutiveByte_b'_'</th>\n",
              "      <th>consecutiveByte_b'a'</th>\n",
              "      <th>consecutiveByte_b'b'</th>\n",
              "      <th>consecutiveByte_b'c'</th>\n",
              "      <th>consecutiveByte_b'd'</th>\n",
              "      <th>consecutiveByte_b'e'</th>\n",
              "      <th>consecutiveByte_b'f'</th>\n",
              "      <th>consecutiveByte_b'h'</th>\n",
              "      <th>consecutiveByte_b'i'</th>\n",
              "      <th>consecutiveByte_b'o'</th>\n",
              "      <th>consecutiveByte_b'p'</th>\n",
              "      <th>consecutiveByte_b's'</th>\n",
              "      <th>consecutiveByte_b'w'</th>\n",
              "      <th>consecutiveByte_b'~'</th>\n",
              "    </tr>\n",
              "  </thead>\n",
              "  <tbody>\n",
              "    <tr>\n",
              "      <th>0</th>\n",
              "      <td>[185, 71, 61, 64, 62, 43, 59, 58, 47, 49, 108,...</td>\n",
              "      <td>-0.079771</td>\n",
              "      <td>SHA-1</td>\n",
              "      <td>40</td>\n",
              "      <td>69</td>\n",
              "      <td>91</td>\n",
              "      <td>160</td>\n",
              "      <td>-0.226642</td>\n",
              "      <td>1</td>\n",
              "      <td>0</td>\n",
              "      <td>0</td>\n",
              "      <td>0</td>\n",
              "      <td>0</td>\n",
              "      <td>0</td>\n",
              "      <td>0</td>\n",
              "      <td>0</td>\n",
              "      <td>0</td>\n",
              "      <td>0</td>\n",
              "      <td>0</td>\n",
              "      <td>0</td>\n",
              "      <td>0</td>\n",
              "      <td>0</td>\n",
              "      <td>0</td>\n",
              "      <td>0</td>\n",
              "      <td>0</td>\n",
              "      <td>0</td>\n",
              "      <td>0</td>\n",
              "      <td>0</td>\n",
              "      <td>0</td>\n",
              "      <td>0</td>\n",
              "      <td>0</td>\n",
              "      <td>0</td>\n",
              "      <td>0</td>\n",
              "      <td>0</td>\n",
              "      <td>0</td>\n",
              "      <td>0</td>\n",
              "      <td>0</td>\n",
              "      <td>0</td>\n",
              "      <td>0</td>\n",
              "      <td>0</td>\n",
              "      <td>...</td>\n",
              "      <td>0</td>\n",
              "      <td>0</td>\n",
              "      <td>0</td>\n",
              "      <td>0</td>\n",
              "      <td>0</td>\n",
              "      <td>0</td>\n",
              "      <td>0</td>\n",
              "      <td>0</td>\n",
              "      <td>0</td>\n",
              "      <td>0</td>\n",
              "      <td>0</td>\n",
              "      <td>0</td>\n",
              "      <td>0</td>\n",
              "      <td>0</td>\n",
              "      <td>0</td>\n",
              "      <td>0</td>\n",
              "      <td>0</td>\n",
              "      <td>0</td>\n",
              "      <td>0</td>\n",
              "      <td>0</td>\n",
              "      <td>0</td>\n",
              "      <td>0</td>\n",
              "      <td>0</td>\n",
              "      <td>0</td>\n",
              "      <td>0</td>\n",
              "      <td>0</td>\n",
              "      <td>0</td>\n",
              "      <td>0</td>\n",
              "      <td>0</td>\n",
              "      <td>0</td>\n",
              "      <td>0</td>\n",
              "      <td>0</td>\n",
              "      <td>0</td>\n",
              "      <td>0</td>\n",
              "      <td>0</td>\n",
              "      <td>0</td>\n",
              "      <td>0</td>\n",
              "      <td>0</td>\n",
              "      <td>0</td>\n",
              "      <td>0</td>\n",
              "    </tr>\n",
              "    <tr>\n",
              "      <th>1</th>\n",
              "      <td>[192, 78, 55, 54, 53, 54, 61, 70, 50, 55, 115,...</td>\n",
              "      <td>-0.079771</td>\n",
              "      <td>SHA-256</td>\n",
              "      <td>64</td>\n",
              "      <td>133</td>\n",
              "      <td>123</td>\n",
              "      <td>256</td>\n",
              "      <td>-0.226927</td>\n",
              "      <td>1</td>\n",
              "      <td>0</td>\n",
              "      <td>0</td>\n",
              "      <td>0</td>\n",
              "      <td>0</td>\n",
              "      <td>0</td>\n",
              "      <td>0</td>\n",
              "      <td>0</td>\n",
              "      <td>0</td>\n",
              "      <td>0</td>\n",
              "      <td>0</td>\n",
              "      <td>0</td>\n",
              "      <td>0</td>\n",
              "      <td>0</td>\n",
              "      <td>0</td>\n",
              "      <td>0</td>\n",
              "      <td>0</td>\n",
              "      <td>0</td>\n",
              "      <td>0</td>\n",
              "      <td>0</td>\n",
              "      <td>0</td>\n",
              "      <td>0</td>\n",
              "      <td>0</td>\n",
              "      <td>0</td>\n",
              "      <td>0</td>\n",
              "      <td>0</td>\n",
              "      <td>0</td>\n",
              "      <td>0</td>\n",
              "      <td>0</td>\n",
              "      <td>0</td>\n",
              "      <td>0</td>\n",
              "      <td>0</td>\n",
              "      <td>...</td>\n",
              "      <td>0</td>\n",
              "      <td>0</td>\n",
              "      <td>0</td>\n",
              "      <td>0</td>\n",
              "      <td>0</td>\n",
              "      <td>0</td>\n",
              "      <td>0</td>\n",
              "      <td>0</td>\n",
              "      <td>0</td>\n",
              "      <td>0</td>\n",
              "      <td>0</td>\n",
              "      <td>0</td>\n",
              "      <td>0</td>\n",
              "      <td>0</td>\n",
              "      <td>0</td>\n",
              "      <td>0</td>\n",
              "      <td>0</td>\n",
              "      <td>0</td>\n",
              "      <td>0</td>\n",
              "      <td>0</td>\n",
              "      <td>0</td>\n",
              "      <td>0</td>\n",
              "      <td>0</td>\n",
              "      <td>0</td>\n",
              "      <td>0</td>\n",
              "      <td>0</td>\n",
              "      <td>0</td>\n",
              "      <td>0</td>\n",
              "      <td>0</td>\n",
              "      <td>0</td>\n",
              "      <td>0</td>\n",
              "      <td>0</td>\n",
              "      <td>0</td>\n",
              "      <td>0</td>\n",
              "      <td>0</td>\n",
              "      <td>0</td>\n",
              "      <td>0</td>\n",
              "      <td>0</td>\n",
              "      <td>0</td>\n",
              "      <td>0</td>\n",
              "    </tr>\n",
              "    <tr>\n",
              "      <th>2</th>\n",
              "      <td>[181, 80, 57, 57, 63, 60, 63, 70, 44, 44, 115,...</td>\n",
              "      <td>-0.079771</td>\n",
              "      <td>SHA-3-256</td>\n",
              "      <td>64</td>\n",
              "      <td>116</td>\n",
              "      <td>140</td>\n",
              "      <td>256</td>\n",
              "      <td>-0.226016</td>\n",
              "      <td>1</td>\n",
              "      <td>0</td>\n",
              "      <td>0</td>\n",
              "      <td>0</td>\n",
              "      <td>0</td>\n",
              "      <td>0</td>\n",
              "      <td>0</td>\n",
              "      <td>0</td>\n",
              "      <td>0</td>\n",
              "      <td>0</td>\n",
              "      <td>0</td>\n",
              "      <td>0</td>\n",
              "      <td>0</td>\n",
              "      <td>0</td>\n",
              "      <td>0</td>\n",
              "      <td>0</td>\n",
              "      <td>0</td>\n",
              "      <td>0</td>\n",
              "      <td>0</td>\n",
              "      <td>0</td>\n",
              "      <td>0</td>\n",
              "      <td>0</td>\n",
              "      <td>0</td>\n",
              "      <td>0</td>\n",
              "      <td>0</td>\n",
              "      <td>0</td>\n",
              "      <td>0</td>\n",
              "      <td>0</td>\n",
              "      <td>0</td>\n",
              "      <td>0</td>\n",
              "      <td>0</td>\n",
              "      <td>0</td>\n",
              "      <td>...</td>\n",
              "      <td>0</td>\n",
              "      <td>0</td>\n",
              "      <td>0</td>\n",
              "      <td>0</td>\n",
              "      <td>0</td>\n",
              "      <td>0</td>\n",
              "      <td>0</td>\n",
              "      <td>0</td>\n",
              "      <td>0</td>\n",
              "      <td>0</td>\n",
              "      <td>0</td>\n",
              "      <td>0</td>\n",
              "      <td>0</td>\n",
              "      <td>0</td>\n",
              "      <td>0</td>\n",
              "      <td>0</td>\n",
              "      <td>0</td>\n",
              "      <td>0</td>\n",
              "      <td>0</td>\n",
              "      <td>0</td>\n",
              "      <td>0</td>\n",
              "      <td>0</td>\n",
              "      <td>0</td>\n",
              "      <td>0</td>\n",
              "      <td>0</td>\n",
              "      <td>0</td>\n",
              "      <td>0</td>\n",
              "      <td>0</td>\n",
              "      <td>0</td>\n",
              "      <td>0</td>\n",
              "      <td>0</td>\n",
              "      <td>0</td>\n",
              "      <td>0</td>\n",
              "      <td>0</td>\n",
              "      <td>0</td>\n",
              "      <td>0</td>\n",
              "      <td>0</td>\n",
              "      <td>0</td>\n",
              "      <td>0</td>\n",
              "      <td>0</td>\n",
              "    </tr>\n",
              "    <tr>\n",
              "      <th>3</th>\n",
              "      <td>[215, 68, 51, 73, 52, 57, 52, 55, 40, 43, 102,...</td>\n",
              "      <td>-0.079771</td>\n",
              "      <td>MD5</td>\n",
              "      <td>32</td>\n",
              "      <td>55</td>\n",
              "      <td>73</td>\n",
              "      <td>128</td>\n",
              "      <td>-0.226521</td>\n",
              "      <td>1</td>\n",
              "      <td>0</td>\n",
              "      <td>0</td>\n",
              "      <td>0</td>\n",
              "      <td>0</td>\n",
              "      <td>0</td>\n",
              "      <td>0</td>\n",
              "      <td>0</td>\n",
              "      <td>0</td>\n",
              "      <td>0</td>\n",
              "      <td>0</td>\n",
              "      <td>0</td>\n",
              "      <td>0</td>\n",
              "      <td>0</td>\n",
              "      <td>0</td>\n",
              "      <td>0</td>\n",
              "      <td>0</td>\n",
              "      <td>0</td>\n",
              "      <td>0</td>\n",
              "      <td>0</td>\n",
              "      <td>0</td>\n",
              "      <td>0</td>\n",
              "      <td>0</td>\n",
              "      <td>0</td>\n",
              "      <td>0</td>\n",
              "      <td>0</td>\n",
              "      <td>0</td>\n",
              "      <td>0</td>\n",
              "      <td>0</td>\n",
              "      <td>0</td>\n",
              "      <td>0</td>\n",
              "      <td>0</td>\n",
              "      <td>...</td>\n",
              "      <td>0</td>\n",
              "      <td>0</td>\n",
              "      <td>0</td>\n",
              "      <td>0</td>\n",
              "      <td>0</td>\n",
              "      <td>0</td>\n",
              "      <td>0</td>\n",
              "      <td>0</td>\n",
              "      <td>0</td>\n",
              "      <td>0</td>\n",
              "      <td>0</td>\n",
              "      <td>0</td>\n",
              "      <td>0</td>\n",
              "      <td>0</td>\n",
              "      <td>0</td>\n",
              "      <td>0</td>\n",
              "      <td>0</td>\n",
              "      <td>0</td>\n",
              "      <td>0</td>\n",
              "      <td>0</td>\n",
              "      <td>0</td>\n",
              "      <td>0</td>\n",
              "      <td>0</td>\n",
              "      <td>0</td>\n",
              "      <td>0</td>\n",
              "      <td>0</td>\n",
              "      <td>0</td>\n",
              "      <td>0</td>\n",
              "      <td>0</td>\n",
              "      <td>0</td>\n",
              "      <td>0</td>\n",
              "      <td>0</td>\n",
              "      <td>0</td>\n",
              "      <td>0</td>\n",
              "      <td>0</td>\n",
              "      <td>0</td>\n",
              "      <td>0</td>\n",
              "      <td>0</td>\n",
              "      <td>0</td>\n",
              "      <td>0</td>\n",
              "    </tr>\n",
              "    <tr>\n",
              "      <th>4</th>\n",
              "      <td>[191, 90, 60, 66, 56, 59, 66, 60, 53, 54, 102,...</td>\n",
              "      <td>-0.079771</td>\n",
              "      <td>SHA-256</td>\n",
              "      <td>64</td>\n",
              "      <td>117</td>\n",
              "      <td>139</td>\n",
              "      <td>256</td>\n",
              "      <td>-0.226609</td>\n",
              "      <td>1</td>\n",
              "      <td>0</td>\n",
              "      <td>0</td>\n",
              "      <td>0</td>\n",
              "      <td>0</td>\n",
              "      <td>0</td>\n",
              "      <td>0</td>\n",
              "      <td>0</td>\n",
              "      <td>0</td>\n",
              "      <td>0</td>\n",
              "      <td>0</td>\n",
              "      <td>0</td>\n",
              "      <td>0</td>\n",
              "      <td>0</td>\n",
              "      <td>0</td>\n",
              "      <td>0</td>\n",
              "      <td>0</td>\n",
              "      <td>0</td>\n",
              "      <td>0</td>\n",
              "      <td>0</td>\n",
              "      <td>0</td>\n",
              "      <td>0</td>\n",
              "      <td>0</td>\n",
              "      <td>0</td>\n",
              "      <td>0</td>\n",
              "      <td>0</td>\n",
              "      <td>0</td>\n",
              "      <td>0</td>\n",
              "      <td>0</td>\n",
              "      <td>0</td>\n",
              "      <td>0</td>\n",
              "      <td>0</td>\n",
              "      <td>...</td>\n",
              "      <td>0</td>\n",
              "      <td>0</td>\n",
              "      <td>0</td>\n",
              "      <td>0</td>\n",
              "      <td>0</td>\n",
              "      <td>0</td>\n",
              "      <td>0</td>\n",
              "      <td>0</td>\n",
              "      <td>0</td>\n",
              "      <td>0</td>\n",
              "      <td>0</td>\n",
              "      <td>0</td>\n",
              "      <td>0</td>\n",
              "      <td>0</td>\n",
              "      <td>0</td>\n",
              "      <td>0</td>\n",
              "      <td>0</td>\n",
              "      <td>0</td>\n",
              "      <td>0</td>\n",
              "      <td>0</td>\n",
              "      <td>0</td>\n",
              "      <td>0</td>\n",
              "      <td>0</td>\n",
              "      <td>0</td>\n",
              "      <td>0</td>\n",
              "      <td>0</td>\n",
              "      <td>0</td>\n",
              "      <td>0</td>\n",
              "      <td>0</td>\n",
              "      <td>0</td>\n",
              "      <td>0</td>\n",
              "      <td>0</td>\n",
              "      <td>0</td>\n",
              "      <td>0</td>\n",
              "      <td>0</td>\n",
              "      <td>0</td>\n",
              "      <td>0</td>\n",
              "      <td>0</td>\n",
              "      <td>0</td>\n",
              "      <td>0</td>\n",
              "    </tr>\n",
              "    <tr>\n",
              "      <th>...</th>\n",
              "      <td>...</td>\n",
              "      <td>...</td>\n",
              "      <td>...</td>\n",
              "      <td>...</td>\n",
              "      <td>...</td>\n",
              "      <td>...</td>\n",
              "      <td>...</td>\n",
              "      <td>...</td>\n",
              "      <td>...</td>\n",
              "      <td>...</td>\n",
              "      <td>...</td>\n",
              "      <td>...</td>\n",
              "      <td>...</td>\n",
              "      <td>...</td>\n",
              "      <td>...</td>\n",
              "      <td>...</td>\n",
              "      <td>...</td>\n",
              "      <td>...</td>\n",
              "      <td>...</td>\n",
              "      <td>...</td>\n",
              "      <td>...</td>\n",
              "      <td>...</td>\n",
              "      <td>...</td>\n",
              "      <td>...</td>\n",
              "      <td>...</td>\n",
              "      <td>...</td>\n",
              "      <td>...</td>\n",
              "      <td>...</td>\n",
              "      <td>...</td>\n",
              "      <td>...</td>\n",
              "      <td>...</td>\n",
              "      <td>...</td>\n",
              "      <td>...</td>\n",
              "      <td>...</td>\n",
              "      <td>...</td>\n",
              "      <td>...</td>\n",
              "      <td>...</td>\n",
              "      <td>...</td>\n",
              "      <td>...</td>\n",
              "      <td>...</td>\n",
              "      <td>...</td>\n",
              "      <td>...</td>\n",
              "      <td>...</td>\n",
              "      <td>...</td>\n",
              "      <td>...</td>\n",
              "      <td>...</td>\n",
              "      <td>...</td>\n",
              "      <td>...</td>\n",
              "      <td>...</td>\n",
              "      <td>...</td>\n",
              "      <td>...</td>\n",
              "      <td>...</td>\n",
              "      <td>...</td>\n",
              "      <td>...</td>\n",
              "      <td>...</td>\n",
              "      <td>...</td>\n",
              "      <td>...</td>\n",
              "      <td>...</td>\n",
              "      <td>...</td>\n",
              "      <td>...</td>\n",
              "      <td>...</td>\n",
              "      <td>...</td>\n",
              "      <td>...</td>\n",
              "      <td>...</td>\n",
              "      <td>...</td>\n",
              "      <td>...</td>\n",
              "      <td>...</td>\n",
              "      <td>...</td>\n",
              "      <td>...</td>\n",
              "      <td>...</td>\n",
              "      <td>...</td>\n",
              "      <td>...</td>\n",
              "      <td>...</td>\n",
              "      <td>...</td>\n",
              "      <td>...</td>\n",
              "      <td>...</td>\n",
              "      <td>...</td>\n",
              "      <td>...</td>\n",
              "      <td>...</td>\n",
              "      <td>...</td>\n",
              "      <td>...</td>\n",
              "    </tr>\n",
              "    <tr>\n",
              "      <th>5245</th>\n",
              "      <td>[10194, 3869, 3826, 3705, 3466, 3743, 3592, 38...</td>\n",
              "      <td>-0.061607</td>\n",
              "      <td>SHA-256</td>\n",
              "      <td>64</td>\n",
              "      <td>125</td>\n",
              "      <td>131</td>\n",
              "      <td>256</td>\n",
              "      <td>0.140832</td>\n",
              "      <td>0</td>\n",
              "      <td>0</td>\n",
              "      <td>1</td>\n",
              "      <td>0</td>\n",
              "      <td>0</td>\n",
              "      <td>1</td>\n",
              "      <td>0</td>\n",
              "      <td>0</td>\n",
              "      <td>0</td>\n",
              "      <td>0</td>\n",
              "      <td>0</td>\n",
              "      <td>0</td>\n",
              "      <td>0</td>\n",
              "      <td>0</td>\n",
              "      <td>0</td>\n",
              "      <td>0</td>\n",
              "      <td>0</td>\n",
              "      <td>0</td>\n",
              "      <td>0</td>\n",
              "      <td>0</td>\n",
              "      <td>0</td>\n",
              "      <td>0</td>\n",
              "      <td>0</td>\n",
              "      <td>0</td>\n",
              "      <td>0</td>\n",
              "      <td>0</td>\n",
              "      <td>0</td>\n",
              "      <td>0</td>\n",
              "      <td>0</td>\n",
              "      <td>0</td>\n",
              "      <td>0</td>\n",
              "      <td>0</td>\n",
              "      <td>...</td>\n",
              "      <td>0</td>\n",
              "      <td>0</td>\n",
              "      <td>0</td>\n",
              "      <td>0</td>\n",
              "      <td>0</td>\n",
              "      <td>0</td>\n",
              "      <td>0</td>\n",
              "      <td>0</td>\n",
              "      <td>0</td>\n",
              "      <td>0</td>\n",
              "      <td>0</td>\n",
              "      <td>0</td>\n",
              "      <td>0</td>\n",
              "      <td>0</td>\n",
              "      <td>0</td>\n",
              "      <td>0</td>\n",
              "      <td>0</td>\n",
              "      <td>0</td>\n",
              "      <td>0</td>\n",
              "      <td>0</td>\n",
              "      <td>0</td>\n",
              "      <td>0</td>\n",
              "      <td>0</td>\n",
              "      <td>0</td>\n",
              "      <td>0</td>\n",
              "      <td>0</td>\n",
              "      <td>0</td>\n",
              "      <td>0</td>\n",
              "      <td>0</td>\n",
              "      <td>0</td>\n",
              "      <td>0</td>\n",
              "      <td>0</td>\n",
              "      <td>0</td>\n",
              "      <td>0</td>\n",
              "      <td>0</td>\n",
              "      <td>0</td>\n",
              "      <td>0</td>\n",
              "      <td>0</td>\n",
              "      <td>0</td>\n",
              "      <td>0</td>\n",
              "    </tr>\n",
              "    <tr>\n",
              "      <th>5246</th>\n",
              "      <td>[29855, 14763, 15433, 17860, 14182, 15818, 156...</td>\n",
              "      <td>0.175344</td>\n",
              "      <td>SHA-256</td>\n",
              "      <td>64</td>\n",
              "      <td>134</td>\n",
              "      <td>122</td>\n",
              "      <td>256</td>\n",
              "      <td>1.485487</td>\n",
              "      <td>0</td>\n",
              "      <td>0</td>\n",
              "      <td>1</td>\n",
              "      <td>0</td>\n",
              "      <td>0</td>\n",
              "      <td>0</td>\n",
              "      <td>0</td>\n",
              "      <td>0</td>\n",
              "      <td>0</td>\n",
              "      <td>0</td>\n",
              "      <td>0</td>\n",
              "      <td>0</td>\n",
              "      <td>0</td>\n",
              "      <td>0</td>\n",
              "      <td>0</td>\n",
              "      <td>0</td>\n",
              "      <td>0</td>\n",
              "      <td>0</td>\n",
              "      <td>0</td>\n",
              "      <td>0</td>\n",
              "      <td>0</td>\n",
              "      <td>0</td>\n",
              "      <td>0</td>\n",
              "      <td>0</td>\n",
              "      <td>0</td>\n",
              "      <td>0</td>\n",
              "      <td>0</td>\n",
              "      <td>0</td>\n",
              "      <td>0</td>\n",
              "      <td>0</td>\n",
              "      <td>0</td>\n",
              "      <td>0</td>\n",
              "      <td>...</td>\n",
              "      <td>0</td>\n",
              "      <td>0</td>\n",
              "      <td>0</td>\n",
              "      <td>0</td>\n",
              "      <td>0</td>\n",
              "      <td>0</td>\n",
              "      <td>0</td>\n",
              "      <td>0</td>\n",
              "      <td>0</td>\n",
              "      <td>0</td>\n",
              "      <td>0</td>\n",
              "      <td>0</td>\n",
              "      <td>0</td>\n",
              "      <td>0</td>\n",
              "      <td>0</td>\n",
              "      <td>0</td>\n",
              "      <td>0</td>\n",
              "      <td>0</td>\n",
              "      <td>0</td>\n",
              "      <td>0</td>\n",
              "      <td>0</td>\n",
              "      <td>0</td>\n",
              "      <td>0</td>\n",
              "      <td>0</td>\n",
              "      <td>0</td>\n",
              "      <td>0</td>\n",
              "      <td>0</td>\n",
              "      <td>0</td>\n",
              "      <td>0</td>\n",
              "      <td>0</td>\n",
              "      <td>0</td>\n",
              "      <td>0</td>\n",
              "      <td>0</td>\n",
              "      <td>0</td>\n",
              "      <td>0</td>\n",
              "      <td>0</td>\n",
              "      <td>0</td>\n",
              "      <td>0</td>\n",
              "      <td>0</td>\n",
              "      <td>0</td>\n",
              "    </tr>\n",
              "    <tr>\n",
              "      <th>5247</th>\n",
              "      <td>[3220, 3164, 3107, 3076, 3088, 3066, 3136, 319...</td>\n",
              "      <td>-0.038490</td>\n",
              "      <td>SHA-256</td>\n",
              "      <td>64</td>\n",
              "      <td>121</td>\n",
              "      <td>135</td>\n",
              "      <td>256</td>\n",
              "      <td>0.238327</td>\n",
              "      <td>0</td>\n",
              "      <td>0</td>\n",
              "      <td>1</td>\n",
              "      <td>0</td>\n",
              "      <td>0</td>\n",
              "      <td>1</td>\n",
              "      <td>0</td>\n",
              "      <td>0</td>\n",
              "      <td>0</td>\n",
              "      <td>0</td>\n",
              "      <td>0</td>\n",
              "      <td>0</td>\n",
              "      <td>0</td>\n",
              "      <td>0</td>\n",
              "      <td>0</td>\n",
              "      <td>0</td>\n",
              "      <td>0</td>\n",
              "      <td>0</td>\n",
              "      <td>0</td>\n",
              "      <td>0</td>\n",
              "      <td>0</td>\n",
              "      <td>0</td>\n",
              "      <td>0</td>\n",
              "      <td>0</td>\n",
              "      <td>0</td>\n",
              "      <td>0</td>\n",
              "      <td>0</td>\n",
              "      <td>0</td>\n",
              "      <td>0</td>\n",
              "      <td>0</td>\n",
              "      <td>0</td>\n",
              "      <td>0</td>\n",
              "      <td>...</td>\n",
              "      <td>0</td>\n",
              "      <td>0</td>\n",
              "      <td>0</td>\n",
              "      <td>0</td>\n",
              "      <td>0</td>\n",
              "      <td>0</td>\n",
              "      <td>0</td>\n",
              "      <td>0</td>\n",
              "      <td>0</td>\n",
              "      <td>0</td>\n",
              "      <td>0</td>\n",
              "      <td>0</td>\n",
              "      <td>0</td>\n",
              "      <td>0</td>\n",
              "      <td>0</td>\n",
              "      <td>0</td>\n",
              "      <td>0</td>\n",
              "      <td>0</td>\n",
              "      <td>0</td>\n",
              "      <td>0</td>\n",
              "      <td>0</td>\n",
              "      <td>0</td>\n",
              "      <td>0</td>\n",
              "      <td>0</td>\n",
              "      <td>0</td>\n",
              "      <td>0</td>\n",
              "      <td>0</td>\n",
              "      <td>0</td>\n",
              "      <td>0</td>\n",
              "      <td>0</td>\n",
              "      <td>0</td>\n",
              "      <td>0</td>\n",
              "      <td>0</td>\n",
              "      <td>0</td>\n",
              "      <td>0</td>\n",
              "      <td>0</td>\n",
              "      <td>0</td>\n",
              "      <td>0</td>\n",
              "      <td>0</td>\n",
              "      <td>0</td>\n",
              "    </tr>\n",
              "    <tr>\n",
              "      <th>5248</th>\n",
              "      <td>[1053, 896, 765, 768, 794, 783, 715, 760, 756,...</td>\n",
              "      <td>-0.079771</td>\n",
              "      <td>MD5</td>\n",
              "      <td>32</td>\n",
              "      <td>64</td>\n",
              "      <td>64</td>\n",
              "      <td>128</td>\n",
              "      <td>-0.150572</td>\n",
              "      <td>0</td>\n",
              "      <td>0</td>\n",
              "      <td>1</td>\n",
              "      <td>0</td>\n",
              "      <td>0</td>\n",
              "      <td>0</td>\n",
              "      <td>0</td>\n",
              "      <td>0</td>\n",
              "      <td>0</td>\n",
              "      <td>0</td>\n",
              "      <td>0</td>\n",
              "      <td>0</td>\n",
              "      <td>0</td>\n",
              "      <td>0</td>\n",
              "      <td>0</td>\n",
              "      <td>0</td>\n",
              "      <td>0</td>\n",
              "      <td>0</td>\n",
              "      <td>0</td>\n",
              "      <td>0</td>\n",
              "      <td>0</td>\n",
              "      <td>0</td>\n",
              "      <td>0</td>\n",
              "      <td>0</td>\n",
              "      <td>0</td>\n",
              "      <td>0</td>\n",
              "      <td>0</td>\n",
              "      <td>0</td>\n",
              "      <td>0</td>\n",
              "      <td>0</td>\n",
              "      <td>0</td>\n",
              "      <td>0</td>\n",
              "      <td>...</td>\n",
              "      <td>0</td>\n",
              "      <td>1</td>\n",
              "      <td>0</td>\n",
              "      <td>0</td>\n",
              "      <td>0</td>\n",
              "      <td>0</td>\n",
              "      <td>0</td>\n",
              "      <td>0</td>\n",
              "      <td>0</td>\n",
              "      <td>0</td>\n",
              "      <td>0</td>\n",
              "      <td>0</td>\n",
              "      <td>0</td>\n",
              "      <td>0</td>\n",
              "      <td>0</td>\n",
              "      <td>0</td>\n",
              "      <td>0</td>\n",
              "      <td>0</td>\n",
              "      <td>0</td>\n",
              "      <td>0</td>\n",
              "      <td>0</td>\n",
              "      <td>0</td>\n",
              "      <td>0</td>\n",
              "      <td>0</td>\n",
              "      <td>0</td>\n",
              "      <td>0</td>\n",
              "      <td>0</td>\n",
              "      <td>0</td>\n",
              "      <td>0</td>\n",
              "      <td>0</td>\n",
              "      <td>0</td>\n",
              "      <td>0</td>\n",
              "      <td>0</td>\n",
              "      <td>0</td>\n",
              "      <td>0</td>\n",
              "      <td>0</td>\n",
              "      <td>0</td>\n",
              "      <td>0</td>\n",
              "      <td>0</td>\n",
              "      <td>0</td>\n",
              "    </tr>\n",
              "    <tr>\n",
              "      <th>5249</th>\n",
              "      <td>[1599, 1775, 1764, 1863, 1700, 1754, 1834, 183...</td>\n",
              "      <td>-0.111970</td>\n",
              "      <td>SHA-1</td>\n",
              "      <td>40</td>\n",
              "      <td>70</td>\n",
              "      <td>90</td>\n",
              "      <td>160</td>\n",
              "      <td>-0.049912</td>\n",
              "      <td>0</td>\n",
              "      <td>0</td>\n",
              "      <td>1</td>\n",
              "      <td>0</td>\n",
              "      <td>0</td>\n",
              "      <td>1</td>\n",
              "      <td>0</td>\n",
              "      <td>0</td>\n",
              "      <td>0</td>\n",
              "      <td>0</td>\n",
              "      <td>0</td>\n",
              "      <td>0</td>\n",
              "      <td>0</td>\n",
              "      <td>0</td>\n",
              "      <td>0</td>\n",
              "      <td>0</td>\n",
              "      <td>0</td>\n",
              "      <td>0</td>\n",
              "      <td>0</td>\n",
              "      <td>0</td>\n",
              "      <td>0</td>\n",
              "      <td>0</td>\n",
              "      <td>0</td>\n",
              "      <td>0</td>\n",
              "      <td>0</td>\n",
              "      <td>0</td>\n",
              "      <td>0</td>\n",
              "      <td>0</td>\n",
              "      <td>0</td>\n",
              "      <td>0</td>\n",
              "      <td>0</td>\n",
              "      <td>0</td>\n",
              "      <td>...</td>\n",
              "      <td>0</td>\n",
              "      <td>0</td>\n",
              "      <td>0</td>\n",
              "      <td>0</td>\n",
              "      <td>0</td>\n",
              "      <td>0</td>\n",
              "      <td>0</td>\n",
              "      <td>0</td>\n",
              "      <td>0</td>\n",
              "      <td>0</td>\n",
              "      <td>0</td>\n",
              "      <td>0</td>\n",
              "      <td>0</td>\n",
              "      <td>0</td>\n",
              "      <td>0</td>\n",
              "      <td>0</td>\n",
              "      <td>0</td>\n",
              "      <td>0</td>\n",
              "      <td>0</td>\n",
              "      <td>0</td>\n",
              "      <td>0</td>\n",
              "      <td>0</td>\n",
              "      <td>0</td>\n",
              "      <td>0</td>\n",
              "      <td>0</td>\n",
              "      <td>0</td>\n",
              "      <td>0</td>\n",
              "      <td>0</td>\n",
              "      <td>0</td>\n",
              "      <td>0</td>\n",
              "      <td>0</td>\n",
              "      <td>0</td>\n",
              "      <td>0</td>\n",
              "      <td>0</td>\n",
              "      <td>0</td>\n",
              "      <td>0</td>\n",
              "      <td>0</td>\n",
              "      <td>0</td>\n",
              "      <td>0</td>\n",
              "      <td>0</td>\n",
              "    </tr>\n",
              "  </tbody>\n",
              "</table>\n",
              "<p>5250 rows × 93 columns</p>\n",
              "</div>"
            ],
            "text/plain": [
              "                                     file dist of bytes  ...  consecutiveByte_b'~'\n",
              "0     [185, 71, 61, 64, 62, 43, 59, 58, 47, 49, 108,...  ...                     0\n",
              "1     [192, 78, 55, 54, 53, 54, 61, 70, 50, 55, 115,...  ...                     0\n",
              "2     [181, 80, 57, 57, 63, 60, 63, 70, 44, 44, 115,...  ...                     0\n",
              "3     [215, 68, 51, 73, 52, 57, 52, 55, 40, 43, 102,...  ...                     0\n",
              "4     [191, 90, 60, 66, 56, 59, 66, 60, 53, 54, 102,...  ...                     0\n",
              "...                                                 ...  ...                   ...\n",
              "5245  [10194, 3869, 3826, 3705, 3466, 3743, 3592, 38...  ...                     0\n",
              "5246  [29855, 14763, 15433, 17860, 14182, 15818, 156...  ...                     0\n",
              "5247  [3220, 3164, 3107, 3076, 3088, 3066, 3136, 319...  ...                     0\n",
              "5248  [1053, 896, 765, 768, 794, 783, 715, 760, 756,...  ...                     0\n",
              "5249  [1599, 1775, 1764, 1863, 1700, 1754, 1834, 183...  ...                     0\n",
              "\n",
              "[5250 rows x 93 columns]"
            ]
          },
          "metadata": {
            "tags": []
          },
          "execution_count": 2
        }
      ]
    },
    {
      "cell_type": "code",
      "metadata": {
        "id": "x1CtCvbU2tHN"
      },
      "source": [
        "X_train, X_test, y_train, y_test = train_test_split(df.drop('hash type', axis=1), df['hash type'], test_size=0.2, random_state=0)\n",
        "\n",
        "# reduce dimensionality of file byte dist (from 256 to around 2 or whatever happens to capture 90% of the variance)\n",
        "X_train_file_dist = pd.DataFrame(X_train['file dist of bytes'].to_list(),  index=X_train.index)\n",
        "X_test_file_dist = pd.DataFrame(X_test['file dist of bytes'].to_list(),  index=X_test.index)\n",
        "\n",
        "scaler = StandardScaler()\n",
        "scaler.fit(X_train_file_dist)\n",
        "X_train_file_dist = pd.DataFrame(scaler.transform(X_train_file_dist), index=X_train.index)\n",
        "X_test_file_dist = pd.DataFrame(scaler.transform(X_test_file_dist), index=X_test.index)\n",
        "\n",
        "pca = PCA(0.90)\n",
        "pcs = pca.fit(X_train_file_dist)\n",
        "# fix this to do x columns not hardcoded 2\n",
        "X_train_file_dist = pd.DataFrame(pca.transform(X_train_file_dist), index=X_train.index, \n",
        "                                 columns=['file dist pca ' + str(i+1) for i in range(len(pca.explained_variance_))])\n",
        "X_test_file_dist = pd.DataFrame(pca.transform(X_test_file_dist), index=X_test.index,\n",
        "                                columns=['file dist pca ' + str(i+1) for i in range(len(pca.explained_variance_))])\n",
        "\n",
        "X_train = X_train.join(X_train_file_dist)\n",
        "X_train.drop('file dist of bytes', axis=1, inplace=True)\n",
        "X_test = X_test.join(X_test_file_dist)\n",
        "X_test.drop('file dist of bytes', axis=1, inplace=True)"
      ],
      "execution_count": 3,
      "outputs": []
    },
    {
      "cell_type": "code",
      "metadata": {
        "colab": {
          "base_uri": "https://localhost:8080/"
        },
        "id": "RWJmALqwSIZ-",
        "outputId": "79fd4a3b-9bc1-41b2-fe21-a69062a0ec1f"
      },
      "source": [
        "def get_cv_error_knn(k):\n",
        "  # define pipeline\n",
        "  pipeline = make_pipeline(\n",
        "      KNeighborsClassifier(n_neighbors=k)\n",
        "  )\n",
        "  # calculate errors from cross-validation\n",
        "  cv_errs = cross_val_score(pipeline, X=X_train, \n",
        "                             y=y_train,\n",
        "                             scoring='accuracy', cv=10)\n",
        "  # calculate average of the cross-validation errors\n",
        "  return cv_errs.mean()\n",
        "\n",
        "get_cv_error_knn(6)"
      ],
      "execution_count": 5,
      "outputs": [
        {
          "output_type": "execute_result",
          "data": {
            "text/plain": [
              "0.7490476190476191"
            ]
          },
          "metadata": {
            "tags": []
          },
          "execution_count": 5
        }
      ]
    },
    {
      "cell_type": "code",
      "metadata": {
        "colab": {
          "base_uri": "https://localhost:8080/",
          "height": 605
        },
        "id": "H8U7YoBNY_bT",
        "outputId": "3fee819e-6dca-4be5-d356-7aa95b76719e"
      },
      "source": [
        "vals = pd.Series(range(1, 20), index=range(1, 20))\n",
        "test_errs = vals.apply(get_cv_error_knn)\n",
        "\n",
        "test_errs.plot.line()\n",
        "test_errs.sort_values()"
      ],
      "execution_count": 7,
      "outputs": [
        {
          "output_type": "execute_result",
          "data": {
            "text/plain": [
              "7     0.743333\n",
              "12    0.745952\n",
              "10    0.746190\n",
              "1     0.746905\n",
              "8     0.748571\n",
              "9     0.748810\n",
              "6     0.749048\n",
              "5     0.749286\n",
              "2     0.750476\n",
              "11    0.750952\n",
              "14    0.752381\n",
              "4     0.753333\n",
              "13    0.755000\n",
              "16    0.755238\n",
              "3     0.755714\n",
              "15    0.757619\n",
              "17    0.759524\n",
              "18    0.760000\n",
              "19    0.764762\n",
              "dtype: float64"
            ]
          },
          "metadata": {
            "tags": []
          },
          "execution_count": 7
        },
        {
          "output_type": "display_data",
          "data": {
            "image/png": "[encoded data removed]",
            "text/plain": [
              "<Figure size 432x288 with 1 Axes>"
            ]
          },
          "metadata": {
            "tags": [],
            "needs_background": "light"
          }
        }
      ]
    },
    {
      "cell_type": "code",
      "metadata": {
        "id": "GjsXsMInfD7b",
        "colab": {
          "base_uri": "https://localhost:8080/"
        },
        "outputId": "695f2b8f-785c-41ab-eefb-ea726381ce7b"
      },
      "source": [
        "best_knn = KNeighborsClassifier(n_neighbors=19)\n",
        "best_knn.fit(X_train, y_train)\n",
        "\n",
        "y_pred = best_knn.predict(X_test)\n",
        "print(classification_report(y_test, y_pred))"
      ],
      "execution_count": 8,
      "outputs": [
        {
          "output_type": "stream",
          "text": [
            "              precision    recall  f1-score   support\n",
            "\n",
            "         MD5       1.00      1.00      1.00       251\n",
            "       SHA-1       1.00      1.00      1.00       269\n",
            "     SHA-256       0.51      0.47      0.49       265\n",
            "   SHA-3-256       0.51      0.55      0.53       265\n",
            "\n",
            "    accuracy                           0.75      1050\n",
            "   macro avg       0.75      0.75      0.75      1050\n",
            "weighted avg       0.75      0.75      0.75      1050\n",
            "\n"
          ],
          "name": "stdout"
        }
      ]
    },
    {
      "cell_type": "code",
      "metadata": {
        "id": "C605560dWiau"
      },
      "source": [
        "def get_cv_error_mlp_iterations(k):\n",
        "  # define pipeline\n",
        "  pipeline = make_pipeline(\n",
        "      MLPClassifier(max_iter=k)\n",
        "  )\n",
        "  # calculate errors from cross-validation\n",
        "  cv_errs = cross_val_score(pipeline, X=X_train, \n",
        "                             y=y_train,\n",
        "                             scoring='f1_macro', cv=10)\n",
        "  # calculate average of the cross-validation errors\n",
        "  return cv_errs.mean()"
      ],
      "execution_count": 10,
      "outputs": []
    },
    {
      "cell_type": "code",
      "metadata": {
        "id": "H9FFzPrwSiPL",
        "colab": {
          "base_uri": "https://localhost:8080/",
          "height": 778
        },
        "outputId": "1479fba4-c4bf-47b5-cf21-6fd786bff998"
      },
      "source": [
        "vals = pd.Series(range(100, 600, 100), index=range(100, 600, 100))\n",
        "test_errs = vals.apply(get_cv_error_mlp_iterations)\n",
        "\n",
        "test_errs.plot.line()\n",
        "test_errs.sort_values()"
      ],
      "execution_count": 11,
      "outputs": [
        {
          "output_type": "stream",
          "text": [
            "/usr/local/lib/python3.7/dist-packages/sklearn/neural_network/_multilayer_perceptron.py:571: ConvergenceWarning: Stochastic Optimizer: Maximum iterations (100) reached and the optimization hasn't converged yet.\n",
            "  % self.max_iter, ConvergenceWarning)\n",
            "/usr/local/lib/python3.7/dist-packages/sklearn/neural_network/_multilayer_perceptron.py:571: ConvergenceWarning: Stochastic Optimizer: Maximum iterations (100) reached and the optimization hasn't converged yet.\n",
            "  % self.max_iter, ConvergenceWarning)\n",
            "/usr/local/lib/python3.7/dist-packages/sklearn/neural_network/_multilayer_perceptron.py:571: ConvergenceWarning: Stochastic Optimizer: Maximum iterations (100) reached and the optimization hasn't converged yet.\n",
            "  % self.max_iter, ConvergenceWarning)\n",
            "/usr/local/lib/python3.7/dist-packages/sklearn/neural_network/_multilayer_perceptron.py:571: ConvergenceWarning: Stochastic Optimizer: Maximum iterations (100) reached and the optimization hasn't converged yet.\n",
            "  % self.max_iter, ConvergenceWarning)\n",
            "/usr/local/lib/python3.7/dist-packages/sklearn/neural_network/_multilayer_perceptron.py:573: UserWarning: Training interrupted by user.\n",
            "  warnings.warn(\"Training interrupted by user.\")\n",
            "/usr/local/lib/python3.7/dist-packages/sklearn/neural_network/_multilayer_perceptron.py:573: UserWarning: Training interrupted by user.\n",
            "  warnings.warn(\"Training interrupted by user.\")\n",
            "/usr/local/lib/python3.7/dist-packages/sklearn/neural_network/_multilayer_perceptron.py:573: UserWarning: Training interrupted by user.\n",
            "  warnings.warn(\"Training interrupted by user.\")\n",
            "/usr/local/lib/python3.7/dist-packages/sklearn/neural_network/_multilayer_perceptron.py:571: ConvergenceWarning: Stochastic Optimizer: Maximum iterations (100) reached and the optimization hasn't converged yet.\n",
            "  % self.max_iter, ConvergenceWarning)\n",
            "/usr/local/lib/python3.7/dist-packages/sklearn/neural_network/_multilayer_perceptron.py:571: ConvergenceWarning: Stochastic Optimizer: Maximum iterations (100) reached and the optimization hasn't converged yet.\n",
            "  % self.max_iter, ConvergenceWarning)\n",
            "/usr/local/lib/python3.7/dist-packages/sklearn/neural_network/_multilayer_perceptron.py:571: ConvergenceWarning: Stochastic Optimizer: Maximum iterations (100) reached and the optimization hasn't converged yet.\n",
            "  % self.max_iter, ConvergenceWarning)\n",
            "/usr/local/lib/python3.7/dist-packages/sklearn/neural_network/_multilayer_perceptron.py:571: ConvergenceWarning: Stochastic Optimizer: Maximum iterations (200) reached and the optimization hasn't converged yet.\n",
            "  % self.max_iter, ConvergenceWarning)\n",
            "/usr/local/lib/python3.7/dist-packages/sklearn/neural_network/_multilayer_perceptron.py:571: ConvergenceWarning: Stochastic Optimizer: Maximum iterations (200) reached and the optimization hasn't converged yet.\n",
            "  % self.max_iter, ConvergenceWarning)\n"
          ],
          "name": "stderr"
        },
        {
          "output_type": "execute_result",
          "data": {
            "text/plain": [
              "100    0.685757\n",
              "300    0.687934\n",
              "200    0.698743\n",
              "400    0.709340\n",
              "dtype: float64"
            ]
          },
          "metadata": {
            "tags": []
          },
          "execution_count": 11
        },
        {
          "output_type": "display_data",
          "data": {
            "image/png": "[encoded data removed]",
            "text/plain": [
              "<Figure size 432x288 with 1 Axes>"
            ]
          },
          "metadata": {
            "tags": [],
            "needs_background": "light"
          }
        }
      ]
    },
    {
      "cell_type": "code",
      "metadata": {
        "id": "OyY3qw7gZaD_"
      },
      "source": [
        "def get_cv_error_mlp_hidden_layers(k):\n",
        "  # define pipeline\n",
        "  pipeline = make_pipeline(\n",
        "      MLPClassifier(hidden_layer_sizes=k, max_iter=300)\n",
        "  )\n",
        "  # calculate errors from cross-validation\n",
        "  cv_errs = cross_val_score(pipeline, X=X_train, \n",
        "                             y=y_train,\n",
        "                             scoring='f1_macro', cv=10)\n",
        "  # calculate average of the cross-validation errors\n",
        "  return cv_errs.mean()"
      ],
      "execution_count": 12,
      "outputs": []
    },
    {
      "cell_type": "code",
      "metadata": {
        "id": "Z5CjE9ZuZf68",
        "colab": {
          "base_uri": "https://localhost:8080/",
          "height": 384
        },
        "outputId": "f4c165c7-7a8a-4af4-98f4-bf91d670de47"
      },
      "source": [
        "vals = pd.Series(range(100, 250, 25), index=range(100, 250, 25))\n",
        "test_errs = vals.apply(get_cv_error_mlp_hidden_layers)\n",
        "\n",
        "test_errs.plot.line()\n",
        "test_errs.sort_values()"
      ],
      "execution_count": 13,
      "outputs": [
        {
          "output_type": "execute_result",
          "data": {
            "text/plain": [
              "125    0.685177\n",
              "150    0.691012\n",
              "175    0.703397\n",
              "200    0.709649\n",
              "225    0.716691\n",
              "100    0.721213\n",
              "dtype: float64"
            ]
          },
          "metadata": {
            "tags": []
          },
          "execution_count": 13
        },
        {
          "output_type": "display_data",
          "data": {
            "image/png": "[encoded data removed]",
            "text/plain": [
              "<Figure size 432x288 with 1 Axes>"
            ]
          },
          "metadata": {
            "tags": [],
            "needs_background": "light"
          }
        }
      ]
    },
    {
      "cell_type": "code",
      "metadata": {
        "id": "OrS86QwAQLJ7",
        "colab": {
          "base_uri": "https://localhost:8080/"
        },
        "outputId": "2a43f56f-0c85-434b-ca29-4212bc1f7190"
      },
      "source": [
        "best_mlp = MLPClassifier(max_iter=500)\n",
        "best_mlp.fit(X_train, y_train)\n",
        "\n",
        "\n",
        "y_pred = best_mlp.predict(X_test)\n",
        "print(classification_report(y_test, y_pred))"
      ],
      "execution_count": 47,
      "outputs": [
        {
          "output_type": "stream",
          "text": [
            "              precision    recall  f1-score   support\n",
            "\n",
            "         MD5       1.00      0.98      0.99       251\n",
            "       SHA-1       0.98      0.99      0.98       269\n",
            "     SHA-256       0.50      0.73      0.60       265\n",
            "   SHA-3-256       0.51      0.28      0.36       265\n",
            "\n",
            "    accuracy                           0.74      1050\n",
            "   macro avg       0.75      0.74      0.73      1050\n",
            "weighted avg       0.74      0.74      0.73      1050\n",
            "\n"
          ],
          "name": "stdout"
        }
      ]
    },
    {
      "cell_type": "code",
      "metadata": {
        "id": "234oyoHBcS2R"
      },
      "source": [
        "def get_cv_error_descision_tree_maxDepth(k):\n",
        "  # define pipeline\n",
        "  pipeline = make_pipeline(\n",
        "      DecisionTreeClassifier(max_depth=k)\n",
        "  )\n",
        "  # calculate errors from cross-validation\n",
        "  cv_errs = cross_val_score(pipeline, X=X_train, \n",
        "                             y=y_train,\n",
        "                             scoring='f1_macro', cv=10)\n",
        "  # calculate average of the cross-validation errors\n",
        "  return cv_errs.mean()"
      ],
      "execution_count": 15,
      "outputs": []
    },
    {
      "cell_type": "code",
      "metadata": {
        "id": "4_CQ0Ld-cYsz",
        "colab": {
          "base_uri": "https://localhost:8080/",
          "height": 724
        },
        "outputId": "99b163bd-c710-425a-c187-d30e33df527d"
      },
      "source": [
        "vals = pd.Series(range(5,31), index=range(5,31))\n",
        "test_errs = vals.apply(get_cv_error_descision_tree_maxDepth)\n",
        "\n",
        "test_errs.plot.line()\n",
        "test_errs.sort_values()"
      ],
      "execution_count": 19,
      "outputs": [
        {
          "output_type": "execute_result",
          "data": {
            "text/plain": [
              "6     0.720636\n",
              "5     0.725834\n",
              "8     0.731518\n",
              "7     0.732396\n",
              "13    0.739056\n",
              "15    0.739534\n",
              "12    0.739924\n",
              "11    0.740474\n",
              "16    0.740579\n",
              "18    0.740672\n",
              "14    0.741480\n",
              "22    0.742514\n",
              "10    0.742667\n",
              "20    0.742799\n",
              "23    0.743806\n",
              "29    0.743880\n",
              "24    0.744000\n",
              "9     0.744558\n",
              "21    0.746198\n",
              "30    0.746374\n",
              "26    0.747238\n",
              "17    0.747311\n",
              "19    0.748031\n",
              "25    0.749672\n",
              "27    0.750685\n",
              "28    0.750885\n",
              "dtype: float64"
            ]
          },
          "metadata": {
            "tags": []
          },
          "execution_count": 19
        },
        {
          "output_type": "display_data",
          "data": {
            "image/png": "[encoded data removed]",
            "text/plain": [
              "<Figure size 432x288 with 1 Axes>"
            ]
          },
          "metadata": {
            "tags": [],
            "needs_background": "light"
          }
        }
      ]
    },
    {
      "cell_type": "code",
      "metadata": {
        "id": "GfkOieSadH9z"
      },
      "source": [
        "def get_cv_error_descision_tree_maxFeatures(k):\n",
        "  # define pipeline\n",
        "  pipeline = make_pipeline(\n",
        "      DecisionTreeClassifier(max_features=k)\n",
        "  )\n",
        "  # calculate errors from cross-validation\n",
        "  cv_errs = cross_val_score(pipeline, X=X_train, \n",
        "                             y=y_train,\n",
        "                             scoring='f1_macro', cv=10)\n",
        "  # calculate average of the cross-validation errors\n",
        "  return cv_errs.mean()"
      ],
      "execution_count": 17,
      "outputs": []
    },
    {
      "cell_type": "code",
      "metadata": {
        "id": "GVQJD19hdR7K",
        "colab": {
          "base_uri": "https://localhost:8080/",
          "height": 520
        },
        "outputId": "5b8c4fbf-4440-446a-a7f5-834d522682b2"
      },
      "source": [
        "vals = pd.Series(range(2,16), index=range(2,16))\n",
        "test_errs = vals.apply(get_cv_error_descision_tree_maxFeatures)\n",
        "\n",
        "test_errs.plot.line()\n",
        "test_errs.sort_values()"
      ],
      "execution_count": 20,
      "outputs": [
        {
          "output_type": "execute_result",
          "data": {
            "text/plain": [
              "3     0.724003\n",
              "6     0.727115\n",
              "4     0.727867\n",
              "5     0.728279\n",
              "2     0.737358\n",
              "9     0.739052\n",
              "12    0.739223\n",
              "11    0.739329\n",
              "7     0.739628\n",
              "14    0.740812\n",
              "13    0.743263\n",
              "8     0.743490\n",
              "10    0.744010\n",
              "15    0.745247\n",
              "dtype: float64"
            ]
          },
          "metadata": {
            "tags": []
          },
          "execution_count": 20
        },
        {
          "output_type": "display_data",
          "data": {
            "image/png": "[encoded data removed]",
            "text/plain": [
              "<Figure size 432x288 with 1 Axes>"
            ]
          },
          "metadata": {
            "tags": [],
            "needs_background": "light"
          }
        }
      ]
    },
    {
      "cell_type": "code",
      "metadata": {
        "id": "yswZcH16dqA-",
        "colab": {
          "base_uri": "https://localhost:8080/"
        },
        "outputId": "c91d7221-15b7-4058-ddbe-a1c7462c0bfc"
      },
      "source": [
        "best_tree = DecisionTreeClassifier(max_depth=28)\n",
        "best_tree.fit(X_train, y_train)\n",
        "\n",
        "\n",
        "y_pred = best_tree.predict(X_test)\n",
        "print(classification_report(y_test, y_pred))"
      ],
      "execution_count": 22,
      "outputs": [
        {
          "output_type": "stream",
          "text": [
            "              precision    recall  f1-score   support\n",
            "\n",
            "         MD5       1.00      1.00      1.00       251\n",
            "       SHA-1       1.00      1.00      1.00       269\n",
            "     SHA-256       0.50      0.47      0.49       265\n",
            "   SHA-3-256       0.50      0.53      0.51       265\n",
            "\n",
            "    accuracy                           0.75      1050\n",
            "   macro avg       0.75      0.75      0.75      1050\n",
            "weighted avg       0.75      0.75      0.75      1050\n",
            "\n"
          ],
          "name": "stdout"
        }
      ]
    },
    {
      "cell_type": "code",
      "metadata": {
        "id": "wHoH-gxTU8wD"
      },
      "source": [
        "def get_cv_error_gbc_max_depth(n):\n",
        "  # define pipeline\n",
        "  pipeline = make_pipeline(\n",
        "      GradientBoostingClassifier(max_depth=n)\n",
        "  )\n",
        "  # calculate errors from cross-validation\n",
        "  cv_errs = cross_val_score(pipeline, X=X_train, \n",
        "                             y=y_train,\n",
        "                             scoring='f1_macro', cv=10)\n",
        "  # calculate average of the cross-validation errors\n",
        "  return cv_errs.mean()"
      ],
      "execution_count": 23,
      "outputs": []
    },
    {
      "cell_type": "code",
      "metadata": {
        "colab": {
          "base_uri": "https://localhost:8080/",
          "height": 554
        },
        "id": "lEZrTzdzVbeE",
        "outputId": "285cd6ea-8c97-421d-e5d7-e65e76193676"
      },
      "source": [
        "vals = pd.Series(range(5,21), index=range(5,21))\n",
        "test_errs = vals.apply(get_cv_error_gbc_max_depth)\n",
        "\n",
        "test_errs.plot.line()\n",
        "test_errs.sort_values()"
      ],
      "execution_count": 24,
      "outputs": [
        {
          "output_type": "execute_result",
          "data": {
            "text/plain": [
              "18    0.741623\n",
              "17    0.742803\n",
              "13    0.743944\n",
              "7     0.744618\n",
              "20    0.744909\n",
              "19    0.745147\n",
              "12    0.745515\n",
              "15    0.745689\n",
              "11    0.745802\n",
              "9     0.745922\n",
              "14    0.746422\n",
              "16    0.746736\n",
              "10    0.747753\n",
              "5     0.748450\n",
              "6     0.749750\n",
              "8     0.749890\n",
              "dtype: float64"
            ]
          },
          "metadata": {
            "tags": []
          },
          "execution_count": 24
        },
        {
          "output_type": "display_data",
          "data": {
            "image/png": "[encoded data removed]",
            "text/plain": [
              "<Figure size 432x288 with 1 Axes>"
            ]
          },
          "metadata": {
            "tags": [],
            "needs_background": "light"
          }
        }
      ]
    },
    {
      "cell_type": "code",
      "metadata": {
        "id": "6savRr5nWEoP"
      },
      "source": [
        "def get_cv_error_gbc_max_features(n):\n",
        "  # define pipeline\n",
        "  pipeline = make_pipeline(\n",
        "      GradientBoostingClassifier(max_features=n)\n",
        "  )\n",
        "  # calculate errors from cross-validation\n",
        "  cv_errs = cross_val_score(pipeline, X=X_train, \n",
        "                             y=y_train,\n",
        "                             scoring='f1_macro', cv=10)\n",
        "  # calculate average of the cross-validation errors\n",
        "  return cv_errs.mean()"
      ],
      "execution_count": 32,
      "outputs": []
    },
    {
      "cell_type": "code",
      "metadata": {
        "id": "UD0RNpc-WSzX",
        "colab": {
          "base_uri": "https://localhost:8080/",
          "height": 435
        },
        "outputId": "3fc851e2-e1a9-42bb-cba7-f65bd6f39cfc"
      },
      "source": [
        "vals = pd.Series(range(2,11), index=range(2,11))\n",
        "test_errs = vals.apply(get_cv_error_gbc_max_features)\n",
        "\n",
        "test_errs.plot.line()\n",
        "test_errs.sort_values()"
      ],
      "execution_count": 33,
      "outputs": [
        {
          "output_type": "execute_result",
          "data": {
            "text/plain": [
              "6     0.751774\n",
              "7     0.752648\n",
              "4     0.755810\n",
              "5     0.756674\n",
              "9     0.756698\n",
              "2     0.757360\n",
              "3     0.759263\n",
              "10    0.760141\n",
              "8     0.760597\n",
              "dtype: float64"
            ]
          },
          "metadata": {
            "tags": []
          },
          "execution_count": 33
        },
        {
          "output_type": "display_data",
          "data": {
            "image/png": "[encoded data removed]",
            "text/plain": [
              "<Figure size 432x288 with 1 Axes>"
            ]
          },
          "metadata": {
            "tags": [],
            "needs_background": "light"
          }
        }
      ]
    },
    {
      "cell_type": "code",
      "metadata": {
        "colab": {
          "base_uri": "https://localhost:8080/"
        },
        "id": "035uscTA9RTD",
        "outputId": "29f61579-d11a-40a8-bbe7-29f5e92a729d"
      },
      "source": [
        "best_gbc = GradientBoostingClassifier(max_features=8, )\n",
        "best_gbc.fit(X_train, y_train)\n",
        "\n",
        "\n",
        "y_pred = best_gbc.predict(X_test)\n",
        "print(classification_report(y_test, y_pred))"
      ],
      "execution_count": 34,
      "outputs": [
        {
          "output_type": "stream",
          "text": [
            "              precision    recall  f1-score   support\n",
            "\n",
            "         MD5       1.00      1.00      1.00       251\n",
            "       SHA-1       1.00      1.00      1.00       269\n",
            "     SHA-256       0.51      0.41      0.46       265\n",
            "   SHA-3-256       0.51      0.61      0.56       265\n",
            "\n",
            "    accuracy                           0.75      1050\n",
            "   macro avg       0.76      0.76      0.75      1050\n",
            "weighted avg       0.75      0.75      0.75      1050\n",
            "\n"
          ],
          "name": "stdout"
        }
      ]
    },
    {
      "cell_type": "code",
      "metadata": {
        "id": "MVvDmsfcg-yP"
      },
      "source": [
        "def get_cv_error_random_forest_estimators(k):\n",
        "  # define pipeline\n",
        "  pipeline = make_pipeline(\n",
        "      RandomForestClassifier(n_estimators=k)\n",
        "  )\n",
        "  # calculate errors from cBhaluezpz123@ross-validation\n",
        "  cv_errs = cross_val_score(pipeline, X=X_train, \n",
        "                             y=y_train,\n",
        "                             scoring='f1_macro', cv=10)\n",
        "  # calculate average of the cross-validation errors\n",
        "  return cv_errs.mean()"
      ],
      "execution_count": 35,
      "outputs": []
    },
    {
      "cell_type": "code",
      "metadata": {
        "colab": {
          "base_uri": "https://localhost:8080/",
          "height": 435
        },
        "id": "S-duhhC4hDBi",
        "outputId": "a6df9047-0898-4c38-cc6e-45dcf8238415"
      },
      "source": [
        "vals = pd.Series(range(200,2000,200), index=range(200,2000,200))\n",
        "test_errs = vals.apply(get_cv_error_random_forest_estimators)\n",
        "\n",
        "test_errs.plot.line()\n",
        "test_errs.sort_values()"
      ],
      "execution_count": 39,
      "outputs": [
        {
          "output_type": "execute_result",
          "data": {
            "text/plain": [
              "1000    0.744401\n",
              "1400    0.744694\n",
              "1600    0.745927\n",
              "400     0.746443\n",
              "1800    0.746630\n",
              "1200    0.746856\n",
              "600     0.747323\n",
              "800     0.747817\n",
              "200     0.747938\n",
              "dtype: float64"
            ]
          },
          "metadata": {
            "tags": []
          },
          "execution_count": 39
        },
        {
          "output_type": "display_data",
          "data": {
            "image/png": "[encoded data removed]",
            "text/plain": [
              "<Figure size 432x288 with 1 Axes>"
            ]
          },
          "metadata": {
            "tags": [],
            "needs_background": "light"
          }
        }
      ]
    },
    {
      "cell_type": "code",
      "metadata": {
        "id": "iW_VbyjkhLqi"
      },
      "source": [
        "def get_cv_error_random_forest_depth(k):\n",
        "  # define pipeline\n",
        "  pipeline = make_pipeline(\n",
        "      RandomForestClassifier(max_depth=k)\n",
        "  )\n",
        "  # calculate errors from cBhaluezpz123@ross-validation\n",
        "  cv_errs = cross_val_score(pipeline, X=X_train, \n",
        "                             y=y_train,\n",
        "                             scoring='f1_macro', cv=10)\n",
        "  # calculate average of the cross-validation errors\n",
        "  return cv_errs.mean()"
      ],
      "execution_count": 40,
      "outputs": []
    },
    {
      "cell_type": "code",
      "metadata": {
        "colab": {
          "base_uri": "https://localhost:8080/",
          "height": 435
        },
        "id": "NgsKHE5lhXUg",
        "outputId": "663069eb-1a22-486b-fd70-28e05c36b42c"
      },
      "source": [
        "vals = pd.Series(range(10,100,10), index=range(10,100,10))\n",
        "test_errs = vals.apply(get_cv_error_random_forest_depth)\n",
        "\n",
        "test_errs.plot.line()\n",
        "test_errs.sort_values()"
      ],
      "execution_count": 42,
      "outputs": [
        {
          "output_type": "execute_result",
          "data": {
            "text/plain": [
              "20    0.738351\n",
              "90    0.740237\n",
              "40    0.741504\n",
              "80    0.742705\n",
              "70    0.743423\n",
              "30    0.743925\n",
              "60    0.743984\n",
              "50    0.747079\n",
              "10    0.759665\n",
              "dtype: float64"
            ]
          },
          "metadata": {
            "tags": []
          },
          "execution_count": 42
        },
        {
          "output_type": "display_data",
          "data": {
            "image/png": "[encoded data removed]",
            "text/plain": [
              "<Figure size 432x288 with 1 Axes>"
            ]
          },
          "metadata": {
            "tags": [],
            "needs_background": "light"
          }
        }
      ]
    },
    {
      "cell_type": "code",
      "metadata": {
        "colab": {
          "base_uri": "https://localhost:8080/"
        },
        "id": "WcjffpcVhdTQ",
        "outputId": "07a24b5d-bb70-48bf-81e2-ad18567b88cd"
      },
      "source": [
        "best_rf = RandomForestClassifier(max_depth=10, n_estimators=800)\n",
        "best_rf.fit(X_train, y_train)\n",
        "\n",
        "\n",
        "y_pred = best_rf.predict(X_test)\n",
        "print(classification_report(y_test, y_pred))"
      ],
      "execution_count": 43,
      "outputs": [
        {
          "output_type": "stream",
          "text": [
            "              precision    recall  f1-score   support\n",
            "\n",
            "         MD5       1.00      1.00      1.00       251\n",
            "       SHA-1       1.00      1.00      1.00       269\n",
            "     SHA-256       0.51      0.38      0.44       265\n",
            "   SHA-3-256       0.51      0.64      0.57       265\n",
            "\n",
            "    accuracy                           0.75      1050\n",
            "   macro avg       0.76      0.75      0.75      1050\n",
            "weighted avg       0.75      0.75      0.75      1050\n",
            "\n"
          ],
          "name": "stdout"
        }
      ]
    },
    {
      "cell_type": "code",
      "metadata": {
        "id": "WCvwVlZ9S2LM"
      },
      "source": [
        "def get_cv_error_Ada_boost(n):\n",
        "  # define pipeline\n",
        "  pipeline = make_pipeline(\n",
        "      AdaBoostClassifier(learning_rate=n, random_state=0)\n",
        "  )\n",
        "  # calculate errors from cross-validation\n",
        "  cv_errs = cross_val_score(pipeline, X=X_train, \n",
        "                             y=y_train,\n",
        "                             scoring='f1_macro', cv=10)\n",
        "  # calculate average of the cross-validation errors\n",
        "  return cv_errs.mean()"
      ],
      "execution_count": 44,
      "outputs": []
    },
    {
      "cell_type": "code",
      "metadata": {
        "id": "ZuiMXgOOS2PO",
        "colab": {
          "base_uri": "https://localhost:8080/",
          "height": 537
        },
        "outputId": "0e66a70e-6d33-44aa-fc4f-0dcbec590886"
      },
      "source": [
        "vals = pd.Series(range(1,16), index=range(1,16))\n",
        "test_errs = vals.apply(get_cv_error_Ada_boost)\n",
        "\n",
        "test_errs.plot.line()\n",
        "test_errs.sort_values()"
      ],
      "execution_count": 45,
      "outputs": [
        {
          "output_type": "execute_result",
          "data": {
            "text/plain": [
              "8     0.332955\n",
              "15    0.336569\n",
              "5     0.470043\n",
              "6     0.663417\n",
              "7     0.663417\n",
              "9     0.663597\n",
              "4     0.667843\n",
              "10    0.669119\n",
              "11    0.669119\n",
              "12    0.669119\n",
              "13    0.669119\n",
              "14    0.669119\n",
              "1     0.669456\n",
              "3     0.671891\n",
              "2     0.705226\n",
              "dtype: float64"
            ]
          },
          "metadata": {
            "tags": []
          },
          "execution_count": 45
        },
        {
          "output_type": "display_data",
          "data": {
            "image/png": "[encoded data removed]",
            "text/plain": [
              "<Figure size 432x288 with 1 Axes>"
            ]
          },
          "metadata": {
            "tags": [],
            "needs_background": "light"
          }
        }
      ]
    },
    {
      "cell_type": "code",
      "metadata": {
        "id": "yVdBYW0PVJiz",
        "colab": {
          "base_uri": "https://localhost:8080/"
        },
        "outputId": "af8f6dc0-e35b-4ef2-e89f-3390bbebddb4"
      },
      "source": [
        "best_ada = AdaBoostClassifier(learning_rate=2)\n",
        "best_ada.fit(X_train, y_train)\n",
        "\n",
        "\n",
        "y_pred = best_ada.predict(X_test)\n",
        "print(classification_report(y_test, y_pred))"
      ],
      "execution_count": 46,
      "outputs": [
        {
          "output_type": "stream",
          "text": [
            "              precision    recall  f1-score   support\n",
            "\n",
            "         MD5       1.00      1.00      1.00       251\n",
            "       SHA-1       1.00      1.00      1.00       269\n",
            "     SHA-256       0.50      0.78      0.61       265\n",
            "   SHA-3-256       0.50      0.22      0.31       265\n",
            "\n",
            "    accuracy                           0.75      1050\n",
            "   macro avg       0.75      0.75      0.73      1050\n",
            "weighted avg       0.75      0.75      0.73      1050\n",
            "\n"
          ],
          "name": "stdout"
        }
      ]
    },
    {
      "cell_type": "markdown",
      "metadata": {
        "id": "jbmhagGohkxR"
      },
      "source": [
        "# Picking an Algorithm and Further Fine Tuning"
      ]
    },
    {
      "cell_type": "markdown",
      "metadata": {
        "id": "A09I5M7LhpGI"
      },
      "source": [
        "Most of the machine learning algorithms we used, after the pca components and scaling, resulted in the same results (for accuracy, f1score, etc). They hovered around 0.74 for reasons described below. We decided to pick the KNeighborsClassifier since it was relatively simple/fast to train, and decided to further tune it."
      ]
    },
    {
      "cell_type": "code",
      "metadata": {
        "id": "vPM2ppiSyNnC"
      },
      "source": [
        "def get_cv_error_knn(k=5, p=2, features=None):\n",
        "  pipeline = make_pipeline(\n",
        "      KNeighborsClassifier(n_neighbors=k, p=p)\n",
        "  )\n",
        "\n",
        "  if features != None:\n",
        "    cv_errs = cross_val_score(pipeline, X=X_train[features], \n",
        "                              y=y_train,\n",
        "                              scoring='accuracy', cv=10)\n",
        "  else:\n",
        "    cv_errs = cross_val_score(pipeline, X=X_train, \n",
        "                              y=y_train,\n",
        "                              scoring='accuracy', cv=10)\n",
        "    \n",
        "  return cv_errs.mean()"
      ],
      "execution_count": 68,
      "outputs": []
    },
    {
      "cell_type": "code",
      "metadata": {
        "id": "cYFgOp4Xyjkv",
        "outputId": "cff7382c-443d-4efc-d91a-80f2bdc2cfce",
        "colab": {
          "base_uri": "https://localhost:8080/",
          "height": 1000
        }
      },
      "source": [
        "k_vals = {}\n",
        "for i in range(1,51):\n",
        "  k_vals[i] = get_cv_error_knn(i)\n",
        "\n",
        "test_errs_kvals = pd.Series(k_vals)\n",
        "\n",
        "test_errs_kvals.plot.line()\n",
        "test_errs_kvals.sort_values()"
      ],
      "execution_count": 69,
      "outputs": [
        {
          "output_type": "execute_result",
          "data": {
            "text/plain": [
              "7     0.743333\n",
              "12    0.745952\n",
              "10    0.746190\n",
              "1     0.746905\n",
              "8     0.748571\n",
              "9     0.748810\n",
              "6     0.749048\n",
              "5     0.749286\n",
              "2     0.750476\n",
              "11    0.750952\n",
              "14    0.752381\n",
              "4     0.753333\n",
              "13    0.755000\n",
              "16    0.755238\n",
              "3     0.755714\n",
              "23    0.756905\n",
              "15    0.757619\n",
              "17    0.759524\n",
              "27    0.759762\n",
              "18    0.760000\n",
              "49    0.760000\n",
              "30    0.760238\n",
              "21    0.760476\n",
              "31    0.760714\n",
              "28    0.760714\n",
              "26    0.760952\n",
              "32    0.761190\n",
              "25    0.761429\n",
              "24    0.762381\n",
              "34    0.762381\n",
              "33    0.762381\n",
              "29    0.762619\n",
              "22    0.763095\n",
              "39    0.763571\n",
              "36    0.763810\n",
              "42    0.763810\n",
              "48    0.763810\n",
              "35    0.764048\n",
              "47    0.764048\n",
              "46    0.764286\n",
              "44    0.764524\n",
              "20    0.764762\n",
              "19    0.764762\n",
              "37    0.765000\n",
              "45    0.765714\n",
              "50    0.765714\n",
              "38    0.766190\n",
              "40    0.766429\n",
              "41    0.766429\n",
              "43    0.767381\n",
              "dtype: float64"
            ]
          },
          "metadata": {
            "tags": []
          },
          "execution_count": 69
        },
        {
          "output_type": "display_data",
          "data": {
            "image/png": "[encoded data removed]",
            "text/plain": [
              "<Figure size 432x288 with 1 Axes>"
            ]
          },
          "metadata": {
            "tags": [],
            "needs_background": "light"
          }
        }
      ]
    },
    {
      "cell_type": "code",
      "metadata": {
        "id": "1k1Jw3t41_1L",
        "outputId": "c57f97d0-8113-444d-8eef-5af08ec2e732",
        "colab": {
          "base_uri": "https://localhost:8080/",
          "height": 588
        }
      },
      "source": [
        "p_vals = {}\n",
        "for i in range(2,11):\n",
        "  print(i)\n",
        "  p_vals[i] = get_cv_error_knn(test_errs_kvals.idxmax(),i)\n",
        "\n",
        "test_errs_pvals = pd.Series(p_vals)\n",
        "\n",
        "test_errs_pvals.plot.line()\n",
        "test_errs_pvals.sort_values()"
      ],
      "execution_count": 72,
      "outputs": [
        {
          "output_type": "stream",
          "text": [
            "2\n",
            "3\n",
            "4\n",
            "5\n",
            "6\n",
            "7\n",
            "8\n",
            "9\n",
            "10\n"
          ],
          "name": "stdout"
        },
        {
          "output_type": "execute_result",
          "data": {
            "text/plain": [
              "10    0.757143\n",
              "8     0.759286\n",
              "9     0.760238\n",
              "7     0.760476\n",
              "5     0.760476\n",
              "6     0.761667\n",
              "3     0.763333\n",
              "4     0.763333\n",
              "2     0.767381\n",
              "dtype: float64"
            ]
          },
          "metadata": {
            "tags": []
          },
          "execution_count": 72
        },
        {
          "output_type": "display_data",
          "data": {
            "image/png": "[encoded data removed]",
            "text/plain": [
              "<Figure size 432x288 with 1 Axes>"
            ]
          },
          "metadata": {
            "tags": [],
            "needs_background": "light"
          }
        }
      ]
    },
    {
      "cell_type": "code",
      "metadata": {
        "id": "wwE8Uchy03Tj"
      },
      "source": [
        "X_train2 = X_train[['hash len']]\n",
        "X_test2 = X_test[['hash len']]\n",
        "\n",
        "best_knn = KNeighborsClassifier(n_neighbors=5, p=2)\n",
        "best_knn.fit(X_train2, y_train)\n",
        "\n",
        "y_pred = best_knn.predict(X_test2)\n",
        "print(classification_report(y_test, y_pred))"
      ],
      "execution_count": null,
      "outputs": []
    },
    {
      "cell_type": "markdown",
      "metadata": {
        "id": "QUxnR_vu0XEn"
      },
      "source": [
        ""
      ]
    }
  ]
}